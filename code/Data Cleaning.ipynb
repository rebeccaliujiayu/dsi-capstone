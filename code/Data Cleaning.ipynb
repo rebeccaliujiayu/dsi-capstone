{
 "cells": [
  {
   "cell_type": "markdown",
   "id": "72ed4f4c",
   "metadata": {},
   "source": [
    "# Data Cleaning\n",
    "---\n",
    "\n",
    "I'll be making use of five datasets: (1) attack_label (2) toxic_label (3) aggress_label (4) attack_comment, and (5) ao3_test. The first four were provided under the [Wikipedia Detox project](https://meta.wikimedia.org/wiki/Research:Detox/Data_Release), which provides over 100,000 Wikipedia discussion comments human-labeled for toxicity, aggression, and whether the comment constituted a personal attack.\n",
    "\n",
    "The ao3_test dataset comprises 320 comments from [Archive of Our Own](https://archiveofourown.org/) (Ao3), a platform which allows writers to self-publish fanfiction, that I've manually compiled and labeled for abusive language towards fanfiction authors.\n",
    "\n",
    "### Contents\n",
    "- [Cleaning attack_label](#attack_label)\n",
    "- [Cleaning toxic_label](#toxic_label)\n",
    "- [Cleaning_aggress_label](#aggress_label)\n",
    "- [Cleaning attack_comment](#attack_comment)\n",
    "- [Merging Wikipedia datasets](#merge_wiki)\n",
    "- [Cleaning ao3_comment](#ao3_comment)\n",
    "- [Data dictionary](#data_dictionary)"
   ]
  },
  {
   "cell_type": "code",
   "execution_count": 1,
   "id": "9ac09583",
   "metadata": {},
   "outputs": [],
   "source": [
    "# Importing libraries\n",
    "import pandas as pd\n",
    "import numpy as np\n",
    "import matplotlib.pyplot as plt\n",
    "import re\n",
    "import emot"
   ]
  },
  {
   "cell_type": "code",
   "execution_count": 2,
   "id": "fb6c0a1b",
   "metadata": {},
   "outputs": [],
   "source": [
    "# Reading data into Pandas dataframes\n",
    "ao3_comment = pd.read_csv(\"../datasets/raw/ao3_comments.csv\")\n",
    "attack_label = pd.read_csv(\"../datasets/raw/attack_annotations.tsv\", sep = \"\\t\", index_col = False, engine = \"python\")\n",
    "toxic_label = pd.read_csv(\"../datasets/raw/toxicity_annotations.tsv\", sep = \"\\t\", index_col = False, engine = \"python\")\n",
    "aggress_label = pd.read_csv(\"../datasets/raw/aggression_annotations.tsv\", sep = \"\\t\", index_col = False, engine = \"python\")\n",
    "attack_comment = pd.read_csv(\"../datasets/raw/attack_annotated_comments.tsv\", sep = \"\\t\", index_col = False, engine = \"python\")"
   ]
  },
  {
   "cell_type": "markdown",
   "id": "a9adba5b",
   "metadata": {},
   "source": [
    "<a name = \"attack_label\"></a>\n",
    "### Cleaning attack_label dataset\n",
    "The attack_label, toxic_label, and aggress_label datasets show the scoring given to each Wikipedia discussion comment. Each comment was labeled by 10 different workers and is referred to by a rev_id.\n",
    "\n",
    "As seen in the attack_label dataset below, the comment text itself was not included in the label datasets. It is stored in the attack_comment dataset instead. Workers were asked to score 0 or 1 if a comment was a personal attack. If a comment was scored 1 for attack, the worker was also asked to indicate what kind of attack it was out of 4 options:\n",
    "- **recipient_attack:** Targeted at recipient (e.g. \"you suck\")\n",
    "- **third_party_attack:** Targeted at a third party (e.g. \"Bob sucks\")\n",
    "- **quoting_attack:** Being reported or quoted (e.g. \"Bob said Henri sucks\")\n",
    "- **other_attack:** Another kind of attack or harassment"
   ]
  },
  {
   "cell_type": "code",
   "execution_count": 3,
   "id": "972c8eb6",
   "metadata": {},
   "outputs": [
    {
     "data": {
      "text/html": [
       "<div>\n",
       "<style scoped>\n",
       "    .dataframe tbody tr th:only-of-type {\n",
       "        vertical-align: middle;\n",
       "    }\n",
       "\n",
       "    .dataframe tbody tr th {\n",
       "        vertical-align: top;\n",
       "    }\n",
       "\n",
       "    .dataframe thead th {\n",
       "        text-align: right;\n",
       "    }\n",
       "</style>\n",
       "<table border=\"1\" class=\"dataframe\">\n",
       "  <thead>\n",
       "    <tr style=\"text-align: right;\">\n",
       "      <th></th>\n",
       "      <th>rev_id</th>\n",
       "      <th>worker_id</th>\n",
       "      <th>quoting_attack</th>\n",
       "      <th>recipient_attack</th>\n",
       "      <th>third_party_attack</th>\n",
       "      <th>other_attack</th>\n",
       "      <th>attack</th>\n",
       "    </tr>\n",
       "  </thead>\n",
       "  <tbody>\n",
       "    <tr>\n",
       "      <th>0</th>\n",
       "      <td>37675</td>\n",
       "      <td>1362</td>\n",
       "      <td>0.0</td>\n",
       "      <td>0.0</td>\n",
       "      <td>0.0</td>\n",
       "      <td>0.0</td>\n",
       "      <td>0.0</td>\n",
       "    </tr>\n",
       "    <tr>\n",
       "      <th>1</th>\n",
       "      <td>37675</td>\n",
       "      <td>2408</td>\n",
       "      <td>0.0</td>\n",
       "      <td>0.0</td>\n",
       "      <td>0.0</td>\n",
       "      <td>0.0</td>\n",
       "      <td>0.0</td>\n",
       "    </tr>\n",
       "    <tr>\n",
       "      <th>2</th>\n",
       "      <td>37675</td>\n",
       "      <td>1493</td>\n",
       "      <td>0.0</td>\n",
       "      <td>0.0</td>\n",
       "      <td>0.0</td>\n",
       "      <td>0.0</td>\n",
       "      <td>0.0</td>\n",
       "    </tr>\n",
       "    <tr>\n",
       "      <th>3</th>\n",
       "      <td>37675</td>\n",
       "      <td>1439</td>\n",
       "      <td>0.0</td>\n",
       "      <td>0.0</td>\n",
       "      <td>0.0</td>\n",
       "      <td>0.0</td>\n",
       "      <td>0.0</td>\n",
       "    </tr>\n",
       "    <tr>\n",
       "      <th>4</th>\n",
       "      <td>37675</td>\n",
       "      <td>170</td>\n",
       "      <td>0.0</td>\n",
       "      <td>0.0</td>\n",
       "      <td>0.0</td>\n",
       "      <td>0.0</td>\n",
       "      <td>0.0</td>\n",
       "    </tr>\n",
       "    <tr>\n",
       "      <th>5</th>\n",
       "      <td>37675</td>\n",
       "      <td>176</td>\n",
       "      <td>0.0</td>\n",
       "      <td>0.0</td>\n",
       "      <td>0.0</td>\n",
       "      <td>0.0</td>\n",
       "      <td>0.0</td>\n",
       "    </tr>\n",
       "    <tr>\n",
       "      <th>6</th>\n",
       "      <td>37675</td>\n",
       "      <td>481</td>\n",
       "      <td>0.0</td>\n",
       "      <td>0.0</td>\n",
       "      <td>0.0</td>\n",
       "      <td>0.0</td>\n",
       "      <td>0.0</td>\n",
       "    </tr>\n",
       "    <tr>\n",
       "      <th>7</th>\n",
       "      <td>37675</td>\n",
       "      <td>487</td>\n",
       "      <td>0.0</td>\n",
       "      <td>0.0</td>\n",
       "      <td>0.0</td>\n",
       "      <td>0.0</td>\n",
       "      <td>0.0</td>\n",
       "    </tr>\n",
       "    <tr>\n",
       "      <th>8</th>\n",
       "      <td>37675</td>\n",
       "      <td>578</td>\n",
       "      <td>0.0</td>\n",
       "      <td>0.0</td>\n",
       "      <td>0.0</td>\n",
       "      <td>0.0</td>\n",
       "      <td>0.0</td>\n",
       "    </tr>\n",
       "    <tr>\n",
       "      <th>9</th>\n",
       "      <td>37675</td>\n",
       "      <td>1127</td>\n",
       "      <td>0.0</td>\n",
       "      <td>0.0</td>\n",
       "      <td>0.0</td>\n",
       "      <td>0.0</td>\n",
       "      <td>0.0</td>\n",
       "    </tr>\n",
       "    <tr>\n",
       "      <th>10</th>\n",
       "      <td>44816</td>\n",
       "      <td>1158</td>\n",
       "      <td>0.0</td>\n",
       "      <td>0.0</td>\n",
       "      <td>0.0</td>\n",
       "      <td>0.0</td>\n",
       "      <td>0.0</td>\n",
       "    </tr>\n",
       "    <tr>\n",
       "      <th>11</th>\n",
       "      <td>44816</td>\n",
       "      <td>1968</td>\n",
       "      <td>0.0</td>\n",
       "      <td>0.0</td>\n",
       "      <td>0.0</td>\n",
       "      <td>0.0</td>\n",
       "      <td>0.0</td>\n",
       "    </tr>\n",
       "    <tr>\n",
       "      <th>12</th>\n",
       "      <td>44816</td>\n",
       "      <td>2333</td>\n",
       "      <td>0.0</td>\n",
       "      <td>0.0</td>\n",
       "      <td>0.0</td>\n",
       "      <td>0.0</td>\n",
       "      <td>0.0</td>\n",
       "    </tr>\n",
       "    <tr>\n",
       "      <th>13</th>\n",
       "      <td>44816</td>\n",
       "      <td>2336</td>\n",
       "      <td>0.0</td>\n",
       "      <td>0.0</td>\n",
       "      <td>0.0</td>\n",
       "      <td>0.0</td>\n",
       "      <td>0.0</td>\n",
       "    </tr>\n",
       "    <tr>\n",
       "      <th>14</th>\n",
       "      <td>44816</td>\n",
       "      <td>2573</td>\n",
       "      <td>0.0</td>\n",
       "      <td>0.0</td>\n",
       "      <td>0.0</td>\n",
       "      <td>0.0</td>\n",
       "      <td>0.0</td>\n",
       "    </tr>\n",
       "  </tbody>\n",
       "</table>\n",
       "</div>"
      ],
      "text/plain": [
       "    rev_id  worker_id  quoting_attack  recipient_attack  third_party_attack  \\\n",
       "0    37675       1362             0.0               0.0                 0.0   \n",
       "1    37675       2408             0.0               0.0                 0.0   \n",
       "2    37675       1493             0.0               0.0                 0.0   \n",
       "3    37675       1439             0.0               0.0                 0.0   \n",
       "4    37675        170             0.0               0.0                 0.0   \n",
       "5    37675        176             0.0               0.0                 0.0   \n",
       "6    37675        481             0.0               0.0                 0.0   \n",
       "7    37675        487             0.0               0.0                 0.0   \n",
       "8    37675        578             0.0               0.0                 0.0   \n",
       "9    37675       1127             0.0               0.0                 0.0   \n",
       "10   44816       1158             0.0               0.0                 0.0   \n",
       "11   44816       1968             0.0               0.0                 0.0   \n",
       "12   44816       2333             0.0               0.0                 0.0   \n",
       "13   44816       2336             0.0               0.0                 0.0   \n",
       "14   44816       2573             0.0               0.0                 0.0   \n",
       "\n",
       "    other_attack  attack  \n",
       "0            0.0     0.0  \n",
       "1            0.0     0.0  \n",
       "2            0.0     0.0  \n",
       "3            0.0     0.0  \n",
       "4            0.0     0.0  \n",
       "5            0.0     0.0  \n",
       "6            0.0     0.0  \n",
       "7            0.0     0.0  \n",
       "8            0.0     0.0  \n",
       "9            0.0     0.0  \n",
       "10           0.0     0.0  \n",
       "11           0.0     0.0  \n",
       "12           0.0     0.0  \n",
       "13           0.0     0.0  \n",
       "14           0.0     0.0  "
      ]
     },
     "execution_count": 3,
     "metadata": {},
     "output_type": "execute_result"
    }
   ],
   "source": [
    "# Taking preliminary look at the data\n",
    "attack_label.head(15)"
   ]
  },
  {
   "cell_type": "markdown",
   "id": "e29e4e23",
   "metadata": {},
   "source": [
    "There are a number of cleaning steps that need to be performed:\n",
    "- Ratings need to be averaged for each rev_id\n",
    "    - I'd like to keep the averaged attack column as a new column `attack_score`\n",
    "    - The `attack` column should be 1 if the majority of workers scored it as 1, else it should be 0\n",
    "    - Type of attack (e.g. `quoting_attack` or `other_attack`) will be kept as the mean score across all workers \n",
    "- As the worker_id column is not needed, it will be dropped\n",
    "- Check if there are missing values that should be imputed\n",
    "- Check if variable types are correct"
   ]
  },
  {
   "cell_type": "code",
   "execution_count": 4,
   "id": "6b232866",
   "metadata": {},
   "outputs": [],
   "source": [
    "# Aggregating rows by rev_id\n",
    "attack_label = attack_label.groupby(\"rev_id\", as_index = False).mean()\n",
    "\n",
    "# Renaming column containing non-binarized attack average to \"attack_score\"\n",
    "attack_label.rename(columns = {\"attack\": \"attack_score\"}, inplace = True)\n",
    "\n",
    "# Create new attack column which will be 1 if majority scored 1, 0 otherwise\n",
    "attack_label[\"attack\"] = attack_label[\"attack_score\"].map(lambda cell: 0 if cell < 0.5 else 1)"
   ]
  },
  {
   "cell_type": "code",
   "execution_count": 5,
   "id": "ee2bbd1a",
   "metadata": {},
   "outputs": [],
   "source": [
    "# Dropping worker_id column\n",
    "attack_label.drop(\"worker_id\", axis = 1, inplace = True)"
   ]
  },
  {
   "cell_type": "markdown",
   "id": "4b93acd1",
   "metadata": {},
   "source": [
    "There are no missing values and the types are correct."
   ]
  },
  {
   "cell_type": "code",
   "execution_count": 6,
   "id": "6c0aaf90",
   "metadata": {},
   "outputs": [
    {
     "name": "stdout",
     "output_type": "stream",
     "text": [
      "<class 'pandas.core.frame.DataFrame'>\n",
      "Int64Index: 115864 entries, 0 to 115863\n",
      "Data columns (total 7 columns):\n",
      " #   Column              Non-Null Count   Dtype  \n",
      "---  ------              --------------   -----  \n",
      " 0   rev_id              115864 non-null  int64  \n",
      " 1   quoting_attack      115864 non-null  float64\n",
      " 2   recipient_attack    115864 non-null  float64\n",
      " 3   third_party_attack  115864 non-null  float64\n",
      " 4   other_attack        115864 non-null  float64\n",
      " 5   attack_score        115864 non-null  float64\n",
      " 6   attack              115864 non-null  int64  \n",
      "dtypes: float64(5), int64(2)\n",
      "memory usage: 7.1 MB\n"
     ]
    }
   ],
   "source": [
    "# Checking for missing values and types\n",
    "attack_label.info()"
   ]
  },
  {
   "cell_type": "markdown",
   "id": "bb64cc68",
   "metadata": {},
   "source": [
    "<a name = \"toxic_label\"></a>\n",
    "### Cleaning toxic_label dataset\n",
    "Like the attack_label dataset, the scoring of each worker makes up a row in the toxic_label dataset. This time, workers were asked to score comments from a scale of -2 to 2.\n",
    "- **Very Toxic (-2):** a very hateful, aggressive, or disrespectful comment that is very likely to make you leave a discussion\n",
    "- **Toxic (-1):** a rude, disrespectful, or unreasonable comment that is somewhat likely to make you leave a discussion\n",
    "- **Neither (0)**\n",
    "- **Healthy (1):** a reasonable, civil, or polite contribution that is somewhat likely to make you want to continue a discussion\n",
    "- **Very Healthy (2):** a very polite, thoughtful, or helpful contribution that is very likely to make you continue a discussion\n",
    "\n",
    "If a comment was rated -2 or -1 under the toxicity_score column, it would labeled 1 under the toxicity column. Otherwise, it would be labeled 0 for the toxicity column."
   ]
  },
  {
   "cell_type": "code",
   "execution_count": 7,
   "id": "bcf61f69",
   "metadata": {},
   "outputs": [
    {
     "data": {
      "text/html": [
       "<div>\n",
       "<style scoped>\n",
       "    .dataframe tbody tr th:only-of-type {\n",
       "        vertical-align: middle;\n",
       "    }\n",
       "\n",
       "    .dataframe tbody tr th {\n",
       "        vertical-align: top;\n",
       "    }\n",
       "\n",
       "    .dataframe thead th {\n",
       "        text-align: right;\n",
       "    }\n",
       "</style>\n",
       "<table border=\"1\" class=\"dataframe\">\n",
       "  <thead>\n",
       "    <tr style=\"text-align: right;\">\n",
       "      <th></th>\n",
       "      <th>rev_id</th>\n",
       "      <th>worker_id</th>\n",
       "      <th>toxicity</th>\n",
       "      <th>toxicity_score</th>\n",
       "    </tr>\n",
       "  </thead>\n",
       "  <tbody>\n",
       "    <tr>\n",
       "      <th>0</th>\n",
       "      <td>2232.0</td>\n",
       "      <td>723</td>\n",
       "      <td>0</td>\n",
       "      <td>0.0</td>\n",
       "    </tr>\n",
       "    <tr>\n",
       "      <th>1</th>\n",
       "      <td>2232.0</td>\n",
       "      <td>4000</td>\n",
       "      <td>0</td>\n",
       "      <td>0.0</td>\n",
       "    </tr>\n",
       "    <tr>\n",
       "      <th>2</th>\n",
       "      <td>2232.0</td>\n",
       "      <td>3989</td>\n",
       "      <td>0</td>\n",
       "      <td>1.0</td>\n",
       "    </tr>\n",
       "    <tr>\n",
       "      <th>3</th>\n",
       "      <td>2232.0</td>\n",
       "      <td>3341</td>\n",
       "      <td>0</td>\n",
       "      <td>0.0</td>\n",
       "    </tr>\n",
       "    <tr>\n",
       "      <th>4</th>\n",
       "      <td>2232.0</td>\n",
       "      <td>1574</td>\n",
       "      <td>0</td>\n",
       "      <td>1.0</td>\n",
       "    </tr>\n",
       "  </tbody>\n",
       "</table>\n",
       "</div>"
      ],
      "text/plain": [
       "   rev_id  worker_id  toxicity  toxicity_score\n",
       "0  2232.0        723         0             0.0\n",
       "1  2232.0       4000         0             0.0\n",
       "2  2232.0       3989         0             1.0\n",
       "3  2232.0       3341         0             0.0\n",
       "4  2232.0       1574         0             1.0"
      ]
     },
     "execution_count": 7,
     "metadata": {},
     "output_type": "execute_result"
    }
   ],
   "source": [
    "# Taking a preliminary look at the data\n",
    "toxic_label.head(5)"
   ]
  },
  {
   "cell_type": "markdown",
   "id": "3586e80b",
   "metadata": {},
   "source": [
    "The attack column from the attack_label dataset is what will be used to classify the model, but I'd like to include the aggregated toxicity score as a feature to aid data cleaning and EDA. To facilitate the aggregation of the toxicity score, I will rescale the score as a 1 to 5 score (with 1 being very healthy and 5 being very toxic). \n",
    "\n",
    "There are thus the following cleaning steps that need to be performed:\n",
    "- Ratings need to be averaged for each rev_id\n",
    "    - `toxicity_score` should be rescaled to a scale of 1 to 5\n",
    "    - Rescaled toxicity score should be averaged\n",
    "- As the `worker_id` and `toxicity` columns are not needed, they will be dropped.\n",
    "- Check if there are missing values that should be imputed\n",
    "- Check if variable types are correct"
   ]
  },
  {
   "cell_type": "code",
   "execution_count": 8,
   "id": "5e8baec7",
   "metadata": {},
   "outputs": [],
   "source": [
    "# Defining function to rescale the toxicity score\n",
    "def rescale_toxicity(cell):\n",
    "    if cell == 2:\n",
    "        return 1\n",
    "    if cell == 1:\n",
    "        return 2\n",
    "    if cell == 0:\n",
    "        return 3\n",
    "    if cell == -1:\n",
    "        return 4\n",
    "    if cell == -2:\n",
    "        return 5"
   ]
  },
  {
   "cell_type": "code",
   "execution_count": 9,
   "id": "6dd09a5a",
   "metadata": {},
   "outputs": [],
   "source": [
    "# Applying rescale function to toxicity_score column\n",
    "toxic_label[\"toxicity_score\"] = toxic_label[\"toxicity_score\"].apply(rescale_toxicity)\n",
    "\n",
    "# Aggregating rows by rev_id\n",
    "toxic_label = toxic_label.groupby(\"rev_id\", as_index = False).mean()"
   ]
  },
  {
   "cell_type": "code",
   "execution_count": 10,
   "id": "0284b5f1",
   "metadata": {},
   "outputs": [],
   "source": [
    "# Dropping worker_id and toxicity columns\n",
    "toxic_label.drop(\"worker_id\", axis = 1, inplace = True)\n",
    "toxic_label.drop(\"toxicity\", axis = 1, inplace = True)"
   ]
  },
  {
   "cell_type": "markdown",
   "id": "70d62cc8",
   "metadata": {},
   "source": [
    "There are no missing values but the rev_id variable should be int type so that it is standardized with attack_label."
   ]
  },
  {
   "cell_type": "code",
   "execution_count": 11,
   "id": "ef45e78a",
   "metadata": {},
   "outputs": [
    {
     "name": "stdout",
     "output_type": "stream",
     "text": [
      "<class 'pandas.core.frame.DataFrame'>\n",
      "Int64Index: 159686 entries, 0 to 159685\n",
      "Data columns (total 2 columns):\n",
      " #   Column          Non-Null Count   Dtype  \n",
      "---  ------          --------------   -----  \n",
      " 0   rev_id          159686 non-null  float64\n",
      " 1   toxicity_score  159686 non-null  float64\n",
      "dtypes: float64(2)\n",
      "memory usage: 3.7 MB\n"
     ]
    }
   ],
   "source": [
    "# Checking for missing values and types\n",
    "toxic_label.info()\n",
    "\n",
    "# Typecasting rev_id column to integer\n",
    "toxic_label[\"rev_id\"] = toxic_label[\"rev_id\"].astype(int)"
   ]
  },
  {
   "cell_type": "markdown",
   "id": "e04d987a",
   "metadata": {},
   "source": [
    "<a name = \"aggress_label\"></a>\n",
    "### Cleaning aggress_label dataset\n",
    "Like the toxic_label dataset, the scoring of each worker makes up a row in the aggress_label dataset. This time, workers were asked to score comments from a scale of -3 to 3, with -3 as very aggressive (including passive aggression), and 3 as very friendly. If a comment was rated -3, -2 or -1 under the aggression_score column, it would labeled 1 under the aggression column. Otherwise, it would be labeled 0 for the aggression column."
   ]
  },
  {
   "cell_type": "code",
   "execution_count": 12,
   "id": "74296ba7",
   "metadata": {},
   "outputs": [
    {
     "data": {
      "text/html": [
       "<div>\n",
       "<style scoped>\n",
       "    .dataframe tbody tr th:only-of-type {\n",
       "        vertical-align: middle;\n",
       "    }\n",
       "\n",
       "    .dataframe tbody tr th {\n",
       "        vertical-align: top;\n",
       "    }\n",
       "\n",
       "    .dataframe thead th {\n",
       "        text-align: right;\n",
       "    }\n",
       "</style>\n",
       "<table border=\"1\" class=\"dataframe\">\n",
       "  <thead>\n",
       "    <tr style=\"text-align: right;\">\n",
       "      <th></th>\n",
       "      <th>rev_id</th>\n",
       "      <th>worker_id</th>\n",
       "      <th>aggression</th>\n",
       "      <th>aggression_score</th>\n",
       "    </tr>\n",
       "  </thead>\n",
       "  <tbody>\n",
       "    <tr>\n",
       "      <th>0</th>\n",
       "      <td>37675</td>\n",
       "      <td>1362</td>\n",
       "      <td>1.0</td>\n",
       "      <td>-1.0</td>\n",
       "    </tr>\n",
       "    <tr>\n",
       "      <th>1</th>\n",
       "      <td>37675</td>\n",
       "      <td>2408</td>\n",
       "      <td>0.0</td>\n",
       "      <td>1.0</td>\n",
       "    </tr>\n",
       "    <tr>\n",
       "      <th>2</th>\n",
       "      <td>37675</td>\n",
       "      <td>1493</td>\n",
       "      <td>0.0</td>\n",
       "      <td>0.0</td>\n",
       "    </tr>\n",
       "    <tr>\n",
       "      <th>3</th>\n",
       "      <td>37675</td>\n",
       "      <td>1439</td>\n",
       "      <td>0.0</td>\n",
       "      <td>0.0</td>\n",
       "    </tr>\n",
       "    <tr>\n",
       "      <th>4</th>\n",
       "      <td>37675</td>\n",
       "      <td>170</td>\n",
       "      <td>0.0</td>\n",
       "      <td>0.0</td>\n",
       "    </tr>\n",
       "  </tbody>\n",
       "</table>\n",
       "</div>"
      ],
      "text/plain": [
       "   rev_id  worker_id  aggression  aggression_score\n",
       "0   37675       1362         1.0              -1.0\n",
       "1   37675       2408         0.0               1.0\n",
       "2   37675       1493         0.0               0.0\n",
       "3   37675       1439         0.0               0.0\n",
       "4   37675        170         0.0               0.0"
      ]
     },
     "execution_count": 12,
     "metadata": {},
     "output_type": "execute_result"
    }
   ],
   "source": [
    "# Taking a preliminary look at the data\n",
    "aggress_label.head()"
   ]
  },
  {
   "cell_type": "markdown",
   "id": "55f77e39",
   "metadata": {},
   "source": [
    "The attack column from the attack_label dataset is what will be used to classify the model, but as with the toxicity score, I'd like to include the aggression score as a feature to aid in data cleaning and EDA. To facilitate the aggregation, I will rescale the aggression score as a 1 - 7 score (with 1 being very friendly and 7 being very aggressive). As the worker_id and aggression columns are not needed, they will be dropped.\n",
    "\n",
    "There are thus the following cleaning steps that need to be performed:\n",
    "- Ratings need to be averaged for each rev_id\n",
    "    - `aggression_score` should be rescaled to a scale of 1 to 7\n",
    "    - Rescaled aggression score should be averaged\n",
    "- As the `worker_id` and `aggression` columns are not needed, they will be dropped.\n",
    "- Check if there are missing values that should be imputed\n",
    "- Check if variable types are correct"
   ]
  },
  {
   "cell_type": "code",
   "execution_count": 13,
   "id": "92a9cb4b",
   "metadata": {},
   "outputs": [],
   "source": [
    "# Defining function to rescale the aggression score\n",
    "def rescale_aggression(cell):\n",
    "    if cell == 3:\n",
    "        return 1\n",
    "    if cell == 2:\n",
    "        return 2\n",
    "    if cell == 1:\n",
    "        return 3\n",
    "    if cell == 0:\n",
    "        return 4\n",
    "    if cell == -1:\n",
    "        return 5\n",
    "    if cell == -2:\n",
    "        return 6\n",
    "    if cell == -3:\n",
    "        return 7"
   ]
  },
  {
   "cell_type": "code",
   "execution_count": 14,
   "id": "f0746dad",
   "metadata": {},
   "outputs": [],
   "source": [
    "# Applying rescale function to aggression_score column\n",
    "aggress_label[\"aggression_score\"] = aggress_label[\"aggression_score\"].apply(rescale_aggression)\n",
    "\n",
    "# Aggregating rows by rev_id\n",
    "aggress_label = aggress_label.groupby(\"rev_id\", as_index = False).mean()"
   ]
  },
  {
   "cell_type": "code",
   "execution_count": 15,
   "id": "41bc4ed7",
   "metadata": {},
   "outputs": [],
   "source": [
    "# Dropping worker_id and aggression columns\n",
    "aggress_label.drop(\"worker_id\", axis = 1, inplace = True)\n",
    "aggress_label.drop(\"aggression\", axis = 1, inplace = True)"
   ]
  },
  {
   "cell_type": "markdown",
   "id": "ff64ba8e",
   "metadata": {},
   "source": [
    "After checking for missing values and variable types, there were no missing values, and the types were correct."
   ]
  },
  {
   "cell_type": "code",
   "execution_count": 16,
   "id": "efd1e380",
   "metadata": {},
   "outputs": [
    {
     "name": "stdout",
     "output_type": "stream",
     "text": [
      "<class 'pandas.core.frame.DataFrame'>\n",
      "Int64Index: 115864 entries, 0 to 115863\n",
      "Data columns (total 2 columns):\n",
      " #   Column            Non-Null Count   Dtype  \n",
      "---  ------            --------------   -----  \n",
      " 0   rev_id            115864 non-null  int64  \n",
      " 1   aggression_score  115864 non-null  float64\n",
      "dtypes: float64(1), int64(1)\n",
      "memory usage: 2.7 MB\n"
     ]
    }
   ],
   "source": [
    "# Checking for missing values and types\n",
    "aggress_label.info()"
   ]
  },
  {
   "cell_type": "markdown",
   "id": "f2bc550d",
   "metadata": {},
   "source": [
    "<a name = \"attack_comment\"></a>\n",
    "### Cleaning attack_comment dataset\n",
    "The attack_comment dataset stores the actual comment text, along with other information about the comment such as the year it was posted in, how it was sampled, and what set (train, test, etc.) it was assigned to in the model developed by the original authors. The last three columns are not needed and will thus be dropped."
   ]
  },
  {
   "cell_type": "code",
   "execution_count": 17,
   "id": "00b0b48c",
   "metadata": {},
   "outputs": [
    {
     "data": {
      "text/html": [
       "<div>\n",
       "<style scoped>\n",
       "    .dataframe tbody tr th:only-of-type {\n",
       "        vertical-align: middle;\n",
       "    }\n",
       "\n",
       "    .dataframe tbody tr th {\n",
       "        vertical-align: top;\n",
       "    }\n",
       "\n",
       "    .dataframe thead th {\n",
       "        text-align: right;\n",
       "    }\n",
       "</style>\n",
       "<table border=\"1\" class=\"dataframe\">\n",
       "  <thead>\n",
       "    <tr style=\"text-align: right;\">\n",
       "      <th></th>\n",
       "      <th>rev_id</th>\n",
       "      <th>comment</th>\n",
       "      <th>year</th>\n",
       "      <th>logged_in</th>\n",
       "      <th>ns</th>\n",
       "      <th>sample</th>\n",
       "      <th>split</th>\n",
       "    </tr>\n",
       "  </thead>\n",
       "  <tbody>\n",
       "    <tr>\n",
       "      <th>0</th>\n",
       "      <td>37675</td>\n",
       "      <td>`-NEWLINE_TOKENThis is not ``creative``.  Thos...</td>\n",
       "      <td>2002</td>\n",
       "      <td>False</td>\n",
       "      <td>article</td>\n",
       "      <td>random</td>\n",
       "      <td>train</td>\n",
       "    </tr>\n",
       "    <tr>\n",
       "      <th>1</th>\n",
       "      <td>44816</td>\n",
       "      <td>`NEWLINE_TOKENNEWLINE_TOKEN:: the term ``stand...</td>\n",
       "      <td>2002</td>\n",
       "      <td>False</td>\n",
       "      <td>article</td>\n",
       "      <td>random</td>\n",
       "      <td>train</td>\n",
       "    </tr>\n",
       "    <tr>\n",
       "      <th>2</th>\n",
       "      <td>49851</td>\n",
       "      <td>NEWLINE_TOKENNEWLINE_TOKENTrue or false, the s...</td>\n",
       "      <td>2002</td>\n",
       "      <td>False</td>\n",
       "      <td>article</td>\n",
       "      <td>random</td>\n",
       "      <td>train</td>\n",
       "    </tr>\n",
       "    <tr>\n",
       "      <th>3</th>\n",
       "      <td>89320</td>\n",
       "      <td>Next, maybe you could work on being less cond...</td>\n",
       "      <td>2002</td>\n",
       "      <td>True</td>\n",
       "      <td>article</td>\n",
       "      <td>random</td>\n",
       "      <td>dev</td>\n",
       "    </tr>\n",
       "    <tr>\n",
       "      <th>4</th>\n",
       "      <td>93890</td>\n",
       "      <td>This page will need disambiguation.</td>\n",
       "      <td>2002</td>\n",
       "      <td>True</td>\n",
       "      <td>article</td>\n",
       "      <td>random</td>\n",
       "      <td>train</td>\n",
       "    </tr>\n",
       "  </tbody>\n",
       "</table>\n",
       "</div>"
      ],
      "text/plain": [
       "   rev_id                                            comment  year  logged_in  \\\n",
       "0   37675  `-NEWLINE_TOKENThis is not ``creative``.  Thos...  2002      False   \n",
       "1   44816  `NEWLINE_TOKENNEWLINE_TOKEN:: the term ``stand...  2002      False   \n",
       "2   49851  NEWLINE_TOKENNEWLINE_TOKENTrue or false, the s...  2002      False   \n",
       "3   89320   Next, maybe you could work on being less cond...  2002       True   \n",
       "4   93890               This page will need disambiguation.   2002       True   \n",
       "\n",
       "        ns  sample  split  \n",
       "0  article  random  train  \n",
       "1  article  random  train  \n",
       "2  article  random  train  \n",
       "3  article  random    dev  \n",
       "4  article  random  train  "
      ]
     },
     "execution_count": 17,
     "metadata": {},
     "output_type": "execute_result"
    }
   ],
   "source": [
    "# Taking a preliminary look at the data\n",
    "attack_comment.head()"
   ]
  },
  {
   "cell_type": "code",
   "execution_count": 18,
   "id": "598a4f80",
   "metadata": {},
   "outputs": [],
   "source": [
    "# Dropping unneeded columns\n",
    "attack_comment.drop(\"ns\", axis = 1, inplace = True)\n",
    "attack_comment.drop(\"sample\", axis = 1, inplace = True)\n",
    "attack_comment.drop(\"split\", axis = 1, inplace = True)"
   ]
  },
  {
   "cell_type": "markdown",
   "id": "4c5399c7",
   "metadata": {},
   "source": [
    "Looking at the comment text, it's evident that there are a number of data cleaning steps to be performed:\n",
    "- Escaped characters like NEWLINE_TOKEN and \\` should be replaced with appropriate characters.\n",
    "- URLs should be removed from comment text\n",
    "- Multiple spacings should be reduced to single spacings\n",
    "- I'd like to create a column indicating the number of words in the comment for cleaning and EDA.\n",
    "- Outliers (in the form of abnormally long discussion comments) should be removed."
   ]
  },
  {
   "cell_type": "code",
   "execution_count": 19,
   "id": "dd6c4fd5",
   "metadata": {},
   "outputs": [
    {
     "data": {
      "text/html": [
       "<div>\n",
       "<style scoped>\n",
       "    .dataframe tbody tr th:only-of-type {\n",
       "        vertical-align: middle;\n",
       "    }\n",
       "\n",
       "    .dataframe tbody tr th {\n",
       "        vertical-align: top;\n",
       "    }\n",
       "\n",
       "    .dataframe thead th {\n",
       "        text-align: right;\n",
       "    }\n",
       "</style>\n",
       "<table border=\"1\" class=\"dataframe\">\n",
       "  <thead>\n",
       "    <tr style=\"text-align: right;\">\n",
       "      <th></th>\n",
       "      <th>rev_id</th>\n",
       "      <th>comment</th>\n",
       "      <th>year</th>\n",
       "      <th>logged_in</th>\n",
       "    </tr>\n",
       "  </thead>\n",
       "  <tbody>\n",
       "    <tr>\n",
       "      <th>0</th>\n",
       "      <td>37675</td>\n",
       "      <td>`-NEWLINE_TOKENThis is not ``creative``.  Those are the dictionary definitions of the terms ``insurance`` and ``ensurance`` as properly applied to ``destruction``.  If you don't understand that, fine, legitimate criticism, I'll write up ``three man cell`` and ``bounty hunter`` and then it will be easy to understand why ``ensured`` and ``insured`` are different - and why both differ from ``assured``.NEWLINE_TOKENNEWLINE_TOKENThe sentence you quote is absolutely neutral.  You just aren't familiar with the underlying theory of strike-back (e.g. submarines as employed in nuclear warfare) guiding the insurance, nor likely the three man cell structure that kept the IRA from being broken by the British.  If that's my fault, fine, I can fix that to explain.  But ther'es nothing ``personal`` or ``creative`` about it.NEWLINE_TOKENNEWLINE_TOKENI'm tired of arguing with you.  Re: the other article, ``multi-party`` turns up plenty, and there is more use of ``mutually`` than ``mutual``.  If I were to apply your standard I'd be moving ``Mutual Assured Destruction`` to ``talk`` for not appealing to a Reagan voter's biases about its effectiveness, and for dropping the ``ly``.NEWLINE_TOKENNEWLINE_TOKENThere is a double standard in your edits.  If it comes from some US history book, like ``peace movement`` or 'M.A.D.' as defined in 1950, you like it, even if the definition is totally useless in 2002 and only of historical interest.  NEWLINE_TOKENNEWLINE_TOKENIf it makes any even-obvious connection or implication from the language chosen in multiple profession-specific terms, you consider it somehow non-neutral...  Gandhi thinks ``eye for an eye`` describes riots, death penalty, and war all at once, but you don't.  What do you know that Gandhi doesn't?NEWLINE_TOKENNEWLINE_TOKENGuess what:  reality is not neutral.  Current use of terms is slightly more controversial.  Neutrality requires negotiation, and some willingness to learn.NEWLINE_TOKENNEWLINE_TOKENThis is your problem not mine.  You may dislike the writing, fine, that can be fixed.  But disregarding fundamental axioms of philosphy with names that recur in multiple phrases, or failing to make critical distinctions like 'insurance' versus 'assurance' versus 'ensurance' (which are made in one quote by an Air Force general in an in-context quote), is just a disservice to the reader.NEWLINE_TOKENNEWLINE_TOKENIf someone comes here to research a topic like MAD, they want some context, beyond history.NEWLINE_TOKENNEWLINE_TOKENIf this is a history book, fine, it's a history book.  But that wasn't what it was claimed to be...NEWLINE_TOKEN`</td>\n",
       "      <td>2002</td>\n",
       "      <td>False</td>\n",
       "    </tr>\n",
       "    <tr>\n",
       "      <th>1</th>\n",
       "      <td>44816</td>\n",
       "      <td>`NEWLINE_TOKENNEWLINE_TOKEN:: the term ``standard model`` is itself less NPOV than I think we'd prefer...NEWLINE_TOKENNEWLINE_TOKEN:: if it's ``new-age speak`` then a lot of old-age people speak it - Karl Popper, the Pope, etc.  here's Karl Popper's view of this.NEWLINE_TOKENNEWLINE_TOKEN:: The clearest title for this article would be ``particle physics cosmology`` - but as I say that would require broader treatment of issues like the Anthropic Principle, cognitive bias beyond the particle physics zoo, etc.NEWLINE_TOKENNEWLINE_TOKEN:: as to accelerators, it's clear that while they are in use, someone is still looking for particles.  So this is not yet a settled ``cosmology`` so certain that we abandon the search... nor is it an arbitrary foundation ontology as you suggest, not subject to question.`</td>\n",
       "      <td>2002</td>\n",
       "      <td>False</td>\n",
       "    </tr>\n",
       "    <tr>\n",
       "      <th>2</th>\n",
       "      <td>49851</td>\n",
       "      <td>NEWLINE_TOKENNEWLINE_TOKENTrue or false, the situation as of March 2002 was such: NEWLINE_TOKENA Saudi proposal of Land for Peace AND recognition by ALL arab countries was made. The day the proposal was to be made formal by the Arab League was the day the Israeli's under the command of Ariel Sharon began the invasion of the Palestinian self-rule areas. user:Arab.</td>\n",
       "      <td>2002</td>\n",
       "      <td>False</td>\n",
       "    </tr>\n",
       "    <tr>\n",
       "      <th>3</th>\n",
       "      <td>89320</td>\n",
       "      <td>Next, maybe you could work on being less condescending with your suggestions about reading the naming conventions and FDL, both of which I read quite a while ago, thanks. I really liked the bit where you were explaining why you had no interest in fixing things I complained about because you felt insulted, yet you were being extremely insulting at the time. With any luck, you can learn to be less of a jerk. GregLindahlNEWLINE_TOKENNEWLINE_TOKENNEWLINE_TOKENNEWLINE_TOKENNEWLINE_TOKENNEWLINE_TOKEN</td>\n",
       "      <td>2002</td>\n",
       "      <td>True</td>\n",
       "    </tr>\n",
       "    <tr>\n",
       "      <th>4</th>\n",
       "      <td>93890</td>\n",
       "      <td>This page will need disambiguation.</td>\n",
       "      <td>2002</td>\n",
       "      <td>True</td>\n",
       "    </tr>\n",
       "  </tbody>\n",
       "</table>\n",
       "</div>"
      ],
      "text/plain": [
       "   rev_id  \\\n",
       "0  37675    \n",
       "1  44816    \n",
       "2  49851    \n",
       "3  89320    \n",
       "4  93890    \n",
       "\n",
       "                                                                                                                                                                                                                                                                                                                                                                                                                                                                                                                                                                                                                                                                                                                                                                                                                                                                                                                                                                                                                                                                                                                                                                                                                                                                                                                                                                                                                                                                                                                                                                                                                                                                                                                                                                                                                                                                                                                                                                                                                                                                                                                                                                                                                                                                                                                                                                                                                                                                                                                                                                                                                                                                                                                 comment  \\\n",
       "0  `-NEWLINE_TOKENThis is not ``creative``.  Those are the dictionary definitions of the terms ``insurance`` and ``ensurance`` as properly applied to ``destruction``.  If you don't understand that, fine, legitimate criticism, I'll write up ``three man cell`` and ``bounty hunter`` and then it will be easy to understand why ``ensured`` and ``insured`` are different - and why both differ from ``assured``.NEWLINE_TOKENNEWLINE_TOKENThe sentence you quote is absolutely neutral.  You just aren't familiar with the underlying theory of strike-back (e.g. submarines as employed in nuclear warfare) guiding the insurance, nor likely the three man cell structure that kept the IRA from being broken by the British.  If that's my fault, fine, I can fix that to explain.  But ther'es nothing ``personal`` or ``creative`` about it.NEWLINE_TOKENNEWLINE_TOKENI'm tired of arguing with you.  Re: the other article, ``multi-party`` turns up plenty, and there is more use of ``mutually`` than ``mutual``.  If I were to apply your standard I'd be moving ``Mutual Assured Destruction`` to ``talk`` for not appealing to a Reagan voter's biases about its effectiveness, and for dropping the ``ly``.NEWLINE_TOKENNEWLINE_TOKENThere is a double standard in your edits.  If it comes from some US history book, like ``peace movement`` or 'M.A.D.' as defined in 1950, you like it, even if the definition is totally useless in 2002 and only of historical interest.  NEWLINE_TOKENNEWLINE_TOKENIf it makes any even-obvious connection or implication from the language chosen in multiple profession-specific terms, you consider it somehow non-neutral...  Gandhi thinks ``eye for an eye`` describes riots, death penalty, and war all at once, but you don't.  What do you know that Gandhi doesn't?NEWLINE_TOKENNEWLINE_TOKENGuess what:  reality is not neutral.  Current use of terms is slightly more controversial.  Neutrality requires negotiation, and some willingness to learn.NEWLINE_TOKENNEWLINE_TOKENThis is your problem not mine.  You may dislike the writing, fine, that can be fixed.  But disregarding fundamental axioms of philosphy with names that recur in multiple phrases, or failing to make critical distinctions like 'insurance' versus 'assurance' versus 'ensurance' (which are made in one quote by an Air Force general in an in-context quote), is just a disservice to the reader.NEWLINE_TOKENNEWLINE_TOKENIf someone comes here to research a topic like MAD, they want some context, beyond history.NEWLINE_TOKENNEWLINE_TOKENIf this is a history book, fine, it's a history book.  But that wasn't what it was claimed to be...NEWLINE_TOKEN`   \n",
       "1  `NEWLINE_TOKENNEWLINE_TOKEN:: the term ``standard model`` is itself less NPOV than I think we'd prefer...NEWLINE_TOKENNEWLINE_TOKEN:: if it's ``new-age speak`` then a lot of old-age people speak it - Karl Popper, the Pope, etc.  here's Karl Popper's view of this.NEWLINE_TOKENNEWLINE_TOKEN:: The clearest title for this article would be ``particle physics cosmology`` - but as I say that would require broader treatment of issues like the Anthropic Principle, cognitive bias beyond the particle physics zoo, etc.NEWLINE_TOKENNEWLINE_TOKEN:: as to accelerators, it's clear that while they are in use, someone is still looking for particles.  So this is not yet a settled ``cosmology`` so certain that we abandon the search... nor is it an arbitrary foundation ontology as you suggest, not subject to question.`                                                                                                                                                                                                                                                                                                                                                                                                                                                                                                                                                                                                                                                                                                                                                                                                                                                                                                                                                                                                                                                                                                                                                                                                                                                                                                                                                                                                                                                                                                                                                                                                                                                                                                                                                                                                                                                                               \n",
       "2  NEWLINE_TOKENNEWLINE_TOKENTrue or false, the situation as of March 2002 was such: NEWLINE_TOKENA Saudi proposal of Land for Peace AND recognition by ALL arab countries was made. The day the proposal was to be made formal by the Arab League was the day the Israeli's under the command of Ariel Sharon began the invasion of the Palestinian self-rule areas. user:Arab.                                                                                                                                                                                                                                                                                                                                                                                                                                                                                                                                                                                                                                                                                                                                                                                                                                                                                                                                                                                                                                                                                                                                                                                                                                                                                                                                                                                                                                                                                                                                                                                                                                                                                                                                                                                                                                                                                                                                                                                                                                                                                                                                                                                                                                                                                                                                           \n",
       "3   Next, maybe you could work on being less condescending with your suggestions about reading the naming conventions and FDL, both of which I read quite a while ago, thanks. I really liked the bit where you were explaining why you had no interest in fixing things I complained about because you felt insulted, yet you were being extremely insulting at the time. With any luck, you can learn to be less of a jerk. GregLindahlNEWLINE_TOKENNEWLINE_TOKENNEWLINE_TOKENNEWLINE_TOKENNEWLINE_TOKENNEWLINE_TOKEN                                                                                                                                                                                                                                                                                                                                                                                                                                                                                                                                                                                                                                                                                                                                                                                                                                                                                                                                                                                                                                                                                                                                                                                                                                                                                                                                                                                                                                                                                                                                                                                                                                                                                                                                                                                                                                                                                                                                                                                                                                                                                                                                                                                                    \n",
       "4  This page will need disambiguation.                                                                                                                                                                                                                                                                                                                                                                                                                                                                                                                                                                                                                                                                                                                                                                                                                                                                                                                                                                                                                                                                                                                                                                                                                                                                                                                                                                                                                                                                                                                                                                                                                                                                                                                                                                                                                                                                                                                                                                                                                                                                                                                                                                                                                                                                                                                                                                                                                                                                                                                                                                                                                                                                                     \n",
       "\n",
       "   year  logged_in  \n",
       "0  2002  False      \n",
       "1  2002  False      \n",
       "2  2002  False      \n",
       "3  2002  True       \n",
       "4  2002  True       "
      ]
     },
     "execution_count": 19,
     "metadata": {},
     "output_type": "execute_result"
    }
   ],
   "source": [
    "# Changing pandas setting temporarily so that full comment can be seen\n",
    "pd.set_option('display.max_colwidth', 0)\n",
    "\n",
    "# Let's look at the comments again to ascertain what needs to be cleaned\n",
    "attack_comment.head()"
   ]
  },
  {
   "cell_type": "code",
   "execution_count": 20,
   "id": "3fcb6d72",
   "metadata": {},
   "outputs": [],
   "source": [
    "# Writing function to clean comment test\n",
    "def clean_wiki(cell):\n",
    "    \n",
    "    # Replace escaped characters\n",
    "    cell = cell.replace(\"NEWLINE_TOKEN\", \" \")\n",
    "    cell = cell.replace(\"TAB_TOKEN\", \" \")\n",
    "    cell = cell.replace(\"`\", \"'\")\n",
    "    cell = cell.replace(\"``\", '\"')\n",
    "    \n",
    "    # Remove urls from comment text\n",
    "    cell = re.sub(\"(?<!\\S)(?:http|www)(?:.*?)(?!\\S)\", \" \", cell)\n",
    "    \n",
    "    # Eliminate double spacing or multiple spacing\n",
    "    cell = re.sub(\"\\s\\s+\", \" \", cell)\n",
    "    return cell\n",
    "\n",
    "# Applying function to clean comment column\n",
    "attack_comment[\"comment\"] = attack_comment[\"comment\"].apply(clean_wiki)\n",
    "\n",
    "# Creating comment length feature\n",
    "attack_comment[\"comment_len\"] = attack_comment[\"comment\"].apply(len)"
   ]
  },
  {
   "cell_type": "markdown",
   "id": "23265706",
   "metadata": {},
   "source": [
    "As can be seen in the boxplot below, there are a large number of outliers that stretch as long as 10,000 characters (the max character length for Wikipedia discussion comments). Viewing the comments with the longest lengths reveals that they are mostly spam comments with heavy repetition of words. This could adversely skew word counts after count vectorizers are applied to the comments. As such, I have decided to remove all comments that fall outside a mean +- 3SD range."
   ]
  },
  {
   "cell_type": "code",
   "execution_count": 21,
   "id": "5a0eb03e",
   "metadata": {},
   "outputs": [
    {
     "data": {
      "text/plain": [
       "<AxesSubplot:>"
      ]
     },
     "execution_count": 21,
     "metadata": {},
     "output_type": "execute_result"
    },
    {
     "data": {
      "image/png": "[encoded data removed]",
      "text/plain": [
       "<Figure size 432x288 with 1 Axes>"
      ]
     },
     "metadata": {
      "needs_background": "light"
     },
     "output_type": "display_data"
    }
   ],
   "source": [
    "attack_comment[\"comment_len\"].plot(kind=\"box\")"
   ]
  },
  {
   "cell_type": "code",
   "execution_count": 22,
   "id": "f1142a0d",
   "metadata": {},
   "outputs": [
    {
     "data": {
      "text/html": [
       "<div>\n",
       "<style scoped>\n",
       "    .dataframe tbody tr th:only-of-type {\n",
       "        vertical-align: middle;\n",
       "    }\n",
       "\n",
       "    .dataframe tbody tr th {\n",
       "        vertical-align: top;\n",
       "    }\n",
       "\n",
       "    .dataframe thead th {\n",
       "        text-align: right;\n",
       "    }\n",
       "</style>\n",
       "<table border=\"1\" class=\"dataframe\">\n",
       "  <thead>\n",
       "    <tr style=\"text-align: right;\">\n",
       "      <th></th>\n",
       "      <th>rev_id</th>\n",
       "      <th>comment</th>\n",
       "      <th>year</th>\n",
       "      <th>logged_in</th>\n",
       "      <th>comment_len</th>\n",
       "    </tr>\n",
       "  </thead>\n",
       "  <tbody>\n",
       "    <tr>\n",
       "      <th>12983</th>\n",
       "      <td>58224447</td>\n",
       "      <td>FUCK YOU, YOU ATHEIST CUNT! FUCK YOU, YOU ATHEIST CUNT! FUCK YOU, YOU ATHEIST CUNT! FUCK YOU, YOU ATHEIST CUNT! FUCK YOU, YOU ATHEIST CUNT! FUCK YOU, YOU ATHEIST CUNT! FUCK YOU, YOU ATHEIST CUNT! FUCK YOU, YOU ATHEIST CUNT! FUCK YOU, YOU ATHEIST CUNT! FUCK YOU, YOU ATHEIST CUNT! FUCK YOU, YOU ATHEIST CUNT! FUCK YOU, YOU ATHEIST CUNT! FUCK YOU, YOU ATHEIST CUNT! FUCK YOU, YOU ATHEIST CUNT! FUCK YOU, YOU ATHEIST CUNT! FUCK YOU, YOU ATHEIST CUNT! FUCK YOU, YOU ATHEIST CUNT! FUCK YOU, YOU ATHEIST CUNT! FUCK YOU, YOU ATHEIST CUNT! FUCK YOU, YOU ATHEIST CUNT! FUCK YOU, YOU ATHEIST CUNT! FUCK YOU, YOU ATHEIST CUNT! FUCK YOU, YOU ATHEIST CUNT! FUCK YOU, YOU ATHEIST CUNT! FUCK YOU, YOU ATHEIST CUNT! FUCK YOU, YOU ATHEIST CUNT! FUCK YOU, YOU ATHEIST CUNT! FUCK YOU, YOU ATHEIST CUNT! FUCK YOU, YOU ATHEIST CUNT! FUCK YOU, YOU ATHEIST CUNT! FUCK YOU, YOU ATHEIST CUNT! FUCK YOU, YOU ATHEIST CUNT! FUCK YOU, YOU ATHEIST CUNT! FUCK YOU, YOU ATHEIST CUNT! FUCK YOU, YOU ATHEIST CUNT! FUCK YOU, YOU ATHEIST CUNT! FUCK YOU, YOU ATHEIST CUNT! FUCK YOU, YOU ATHEIST CUNT! FUCK YOU, YOU ATHEIST CUNT! FUCK YOU, YOU ATHEIST CUNT! FUCK YOU, YOU ATHEIST CUNT! FUCK YOU, YOU ATHEIST CUNT! FUCK YOU, YOU ATHEIST CUNT! FUCK YOU, YOU ATHEIST CUNT! FUCK YOU, YOU ATHEIST CUNT! FUCK YOU, YOU ATHEIST CUNT! FUCK YOU, YOU ATHEIST CUNT! FUCK YOU, YOU ATHEIST CUNT! FUCK YOU, YOU ATHEIST CUNT! FUCK YOU, YOU ATHEIST CUNT! FUCK YOU, YOU ATHEIST CUNT! FUCK YOU, YOU ATHEIST CUNT! FUCK YOU, YOU ATHEIST CUNT! FUCK YOU, YOU ATHEIST CUNT! FUCK YOU, YOU ATHEIST CUNT! FUCK YOU, YOU ATHEIST CUNT! FUCK YOU, YOU ATHEIST CUNT! FUCK YOU, YOU ATHEIST CUNT! FUCK YOU, YOU ATHEIST CUNT! FUCK YOU, YOU ATHEIST CUNT! FUCK YOU, YOU ATHEIST CUNT! FUCK YOU, YOU ATHEIST CUNT! FUCK YOU, YOU ATHEIST CUNT! FUCK YOU, YOU ATHEIST CUNT! FUCK YOU, YOU ATHEIST CUNT! FUCK YOU, YOU ATHEIST CUNT! FUCK YOU, YOU ATHEIST CUNT! FUCK YOU, YOU ATHEIST CUNT! FUCK YOU, YOU ATHEIST CUNT! FUCK YOU, YOU ATHEIST CUNT! FUCK YOU, YOU ATHEIST CUNT! FUCK YOU, YOU ATHEIST CUNT! FUCK YOU, YOU ATHEIST CUNT! FUCK YOU, YOU ATHEIST CUNT! FUCK YOU, YOU ATHEIST CUNT! FUCK YOU, YOU ATHEIST CUNT! FUCK YOU, YOU ATHEIST CUNT! FUCK YOU, YOU ATHEIST CUNT! FUCK YOU, YOU ATHEIST CUNT! FUCK YOU, YOU ATHEIST CUNT! FUCK YOU, YOU ATHEIST CUNT! FUCK YOU, YOU ATHEIST CUNT! FUCK YOU, YOU ATHEIST CUNT! FUCK YOU, YOU ATHEIST CUNT! FUCK YOU, YOU ATHEIST CUNT! FUCK YOU, YOU ATHEIST CUNT! FUCK YOU, YOU ATHEIST CUNT! FUCK YOU, YOU ATHEIST CUNT! FUCK YOU, YOU ATHEIST CUNT! FUCK YOU, YOU ATHEIST CUNT! FUCK YOU, YOU ATHEIST CUNT! FUCK YOU, YOU ATHEIST CUNT! FUCK YOU, YOU ATHEIST CUNT! FUCK YOU, YOU ATHEIST CUNT! FUCK YOU, YOU ATHEIST CUNT! FUCK YOU, YOU ATHEIST CUNT! FUCK YOU, YOU ATHEIST CUNT! FUCK YOU, YOU ATHEIST CUNT! FUCK YOU, YOU ATHEIST CUNT! FUCK YOU, YOU ATHEIST CUNT! FUCK YOU, YOU ATHEIST CUNT! FUCK YOU, YOU ATHEIST CUNT! FUCK YOU, YOU ATHEIST CUNT! FUCK YOU, YOU ATHEIST CUNT! FUCK YOU, YOU ATHEIST CUNT! FUCK YOU, YOU ATHEIST CUNT! FUCK YOU, YOU ATHEIST CUNT! FUCK YOU, YOU ATHEIST CUNT! FUCK YOU, YOU ATHEIST CUNT! FUCK YOU, YOU ATHEIST CUNT! FUCK YOU, YOU ATHEIST CUNT! FUCK YOU, YOU ATHEIST CUNT! FUCK YOU, YOU ATHEIST CUNT! FUCK YOU, YOU ATHEIST CUNT! FUCK YOU, YOU ATHEIST CUNT! FUCK YOU, YOU ATHEIST CUNT! FUCK YOU, YOU ATHEIST CUNT! FUCK YOU, YOU ATHEIST CUNT! FUCK YOU, YOU ATHEIST CUNT! FUCK YOU, YOU ATHEIST CUNT! FUCK YOU, YOU ATHEIST CUNT! FUCK YOU, YOU ATHEIST CUNT! FUCK YOU, YOU ATHEIST CUNT! FUCK YOU, YOU ATHEIST CUNT! FUCK YOU, YOU ATHEIST CUNT! FUCK YOU, YOU ATHEIST CUNT! FUCK YOU, YOU ATHEIST CUNT! FUCK YOU, YOU ATHEIST CUNT! FUCK YOU, YOU ATHEIST CUNT! FUCK YOU, YOU ATHEIST CUNT! FUCK YOU, YOU ATHEIST CUNT! FUCK YOU, YOU ATHEIST CUNT! FUCK YOU, YOU ATHEIST CUNT! FUCK YOU, YOU ATHEIST CUNT! FUCK YOU, YOU ATHEIST CUNT! FUCK YOU, YOU ATHEIST CUNT! FUCK YOU, YOU ATHEIST CUNT! FUCK YOU, YOU ATHEIST CUNT! FUCK YOU, YOU ATHEIST CUNT! FUCK YOU, YOU ATHEIST CUNT! FUCK YOU, YOU ATHEIST CUNT! FUCK YOU, YOU ATHEIST CUNT! FUCK YOU, YOU ATHEIST CUNT! FUCK YOU, YOU ATHEIST CUNT! FUCK YOU, YOU ATHEIST CUNT! FUCK YOU, YOU ATHEIST CUNT! FUCK YOU, YOU ATHEIST CUNT! FUCK YOU, YOU ATHEIST CUNT! FUCK YOU, YOU ATHEIST CUNT! FUCK YOU, YOU ATHEIST CUNT! FUCK YOU, YOU ATHEIST CUNT! FUCK YOU, YOU ATHEIST CUNT! FUCK YOU, YOU ATHEIST CUNT! FUCK YOU, YOU ATHEIST CUNT! FUCK YOU, YOU ATHEIST CUNT! FUCK YOU, YOU ATHEIST CUNT! FUCK YOU, YOU ATHEIST CUNT! FUCK YOU, YOU ATHEIST CUNT! FUCK YOU, YOU ATHEIST CUNT! FUCK YOU, YOU ATHEIST CUNT! FUCK YOU, YOU ATHEIST CUNT! FUCK YOU, YOU ATHEIST CUNT! FUCK YOU, YOU ATHEIST CUNT! FUCK YOU, YOU ATHEIST CUNT! FUCK YOU, YOU ATHEIST CUNT! FUCK YOU, YOU ATHEIST CUNT! FUCK YOU, YOU ATHEIST CUNT! FUCK YOU, YOU ATHEIST CUNT! FUCK YOU, YOU ATHEIST CUNT! FUCK YOU, YOU ATHEIST CUNT! FUCK YOU, YOU ATHEIST CUNT! FUCK YOU, YOU ATHEIST CUNT! FUCK YOU, YOU ATHEIST CUNT! FUCK YOU, YOU ATHEIST CUNT! FUCK YOU, YOU ATHEIST CUNT! FUCK YOU, YOU ATHEIST CUNT! FUCK YOU, YOU ATHEIST CUNT! FUCK YOU, YOU ATHEIST CUNT! FUCK YOU, YOU ATHEIST CUNT! FUCK YOU, YOU ATHEIST CUNT! FUCK YOU, YOU ATHEIST CUNT! FUCK YOU, YOU ATHEIST CUNT! FUCK YOU, YOU ATHEIST CUNT! FUCK YOU, YOU ATHEIST CUNT! FUCK YOU, YOU ATHEIST CUNT! FUCK YOU, YOU ATHEIST CUNT! FUCK YOU, YOU ATHEIST CUNT! FUCK YOU, YOU ATHEIST CUNT! FUCK YOU, YOU ATHEIST CUNT! FUCK YOU, YOU ATHEIST CUNT! FUCK YOU, YOU ATHEIST CUNT! FUCK YOU, YOU ATHEIST CUNT! FUCK YOU, YOU ATHEIST CUNT! FUCK YOU, YOU ATHEIST CUNT! FUCK YOU, YOU ATHEIST CUNT! FUCK YOU, YOU ATHEIST CUNT! FUCK YOU, YOU ATHEIST CUNT! FUCK YOU, YOU ATHEIST CUNT! FUCK YOU, YOU ATHEIST CUNT! FUCK YOU, YOU ATHEIST CUNT! FUCK YOU, YOU ATHEIST CUNT! FUCK YOU, YOU ATHEIST CUNT! FUCK YOU, YOU ATHEIST CUNT! FUCK YOU, YOU ATHEIST CUNT! FUCK YOU, YOU ATHEIST CUNT! FUCK YOU, YOU ATHEIST CUNT! FUCK YOU, YOU ATHEIST CUNT! FUCK YOU, YOU ATHEIST CUNT! FUCK YOU, YOU ATHEIST CUNT! FUCK YOU, YOU ATHEIST CUNT! FUCK YOU, YOU ATHEIST CUNT! FUCK YOU, YOU ATHEIST CUNT! FUCK YOU, YOU ATHEIST CUNT! FUCK YOU, YOU ATHEIST CUNT! FUCK YOU, YOU ATHEIST CUNT! FUCK YOU, YOU ATHEIST CUNT! FUCK YOU, YOU ATHEIST CUNT! FUCK YOU, YOU ATHEIST CUNT! FUCK YOU, YOU ATHEIST CUNT! FUCK YOU, YOU ATHEIST CUNT! FUCK YOU, YOU ATHEIST CUNT! FUCK YOU, YOU ATHEIST CUNT! FUCK YOU, YOU ATHEIST CUNT! FUCK YOU, YOU ATHEIST CUNT! FUCK YOU, YOU ATHEIST CUNT! FUCK YOU, YOU ATHEIST CUNT! FUCK YOU, YOU ATHEIST CUNT! FUCK YOU, YOU ATHEIST CUNT! FUCK YOU, YOU ATHEIST CUNT! FUCK YOU, YOU ATHEIST CUNT! FUCK YOU, YOU ATHEIST CUNT! FUCK YOU, YOU ATHEIST CUNT! FUCK YOU, YOU ATHEIST CUNT! FUCK YOU, YOU ATHEIST CUNT! FUCK YOU, YOU ATHEIST CUNT! FUCK YOU, YOU ATHEIST CUNT! FUCK YOU, YOU ATHEIST CUNT! FUCK YOU, YOU ATHEIST CUNT! FUCK YOU, YOU ATHEIST CUNT! FUCK YOU, YOU ATHEIST CUNT! FUCK YOU, YOU ATHEIST CUNT! FUCK YOU, YOU ATHEIST CUNT! FUCK YOU, YOU ATHEIST CUNT! FUCK YOU, YOU ATHEIST CUNT! FUCK YOU, YOU ATHEIST CUNT! FUCK YOU, YOU ATHEIST CUNT! FUCK YOU, YOU ATHEIST CUNT! FUCK YOU, YOU ATHEIST CUNT! FUCK YOU, YOU ATHEIST CUNT! FUCK YOU, YOU ATHEIST CUNT! FUCK YOU, YOU ATHEIST CUNT! FUCK YOU, YOU ATHEIST CUNT! FUCK YOU, YOU ATHEIST CUNT! FUCK YOU, YOU ATHEIST CUNT! FUCK YOU, YOU ATHEIST CUNT! FUCK YOU, YOU ATHEIST CUNT! FUCK YOU, YOU ATHEIST CUNT! FUCK YOU, YOU ATHEIST CUNT! FUCK YOU, YOU ATHEIST CUNT! FUCK YOU, YOU ATHEIST CUNT! FUCK YOU, YOU ATHEIST CUNT! FUCK YOU, YOU ATHEIST CUNT! FUCK YOU, YOU ATHEIST CUNT! FUCK YOU, YOU ATHEIST CUNT! FUCK YOU, YOU ATHEIST CUNT! FUCK YOU, YOU ATHEIST CUNT! FUCK YOU, YOU ATHEIST CUNT! FUCK YOU, YOU ATHEIST CUNT! FUCK YOU, YOU ATHEIST CUNT! FUCK YOU, YOU ATHEIST CUNT! FUCK YOU, YOU ATHEIST CUNT! FUCK YOU, YOU ATHEIST CUNT! FUCK YOU, YOU ATHEIST CUNT! FUCK YOU, YOU ATHEIST CUNT! FUCK YOU, YOU ATHEIST CUNT! FUCK YOU, YOU ATHEIST CUNT! FUCK YOU, YOU ATHEIST CUNT! FUCK YOU, YOU ATHEIST CUNT! FUCK YOU, YOU ATHEIST CUNT! FUCK YOU, YOU ATHEIST CUNT! FUCK YOU, YOU ATHEIST CUNT! FUCK YOU, YOU ATHEIST CUNT! FUCK YOU, YOU ATHEIST CUNT! FUCK YOU, YOU ATHEIST CUNT! FUCK YOU, YOU ATHEIST CUNT! FUCK YOU, YOU ATHEIST CUNT! FUCK YOU, YOU ATHEIST CUNT! FUCK YOU, YOU ATHEIST CUNT! FUCK YOU, YOU ATHEIST CUNT! FUCK YOU, YOU ATHEIST CUNT! FUCK YOU, YOU ATHEIST CUNT! FUCK YOU, YOU ATHEIST CUNT! FUCK YOU, YOU ATHEIST CUNT! FUCK YOU, YOU ATHEIST CUNT! FUCK YOU, YOU ATHEIST CUNT! FUCK YOU, YOU ATHEIST CUNT! FUCK YOU, YOU ATHEIST CUNT! FUCK YOU, YOU ATHEIST CUNT! FUCK YOU, YOU ATHEIST CUNT! FUCK YOU, YOU ATHEIST CUNT! FUCK YOU, YOU ATHEIST CUNT! FUCK YOU, YOU ATHEIST CUNT! FUCK YOU, YOU ATHEIST CUNT! FUCK YOU, YOU ATHEIST CUNT! FUCK YOU, YOU ATHEIST CUNT! FUCK YOU, YOU ATHEIST CUNT! FUCK YOU, YOU ATHEIST CUNT! FUCK YOU, YOU ATHEIST CUNT! FUCK YOU, YOU ATHEIST CUNT! FUCK YOU, YOU ATHEIST CUNT! FUCK YOU, YOU ATHEIST CUNT! FUCK YOU, YOU ATHEIST CUNT! FUCK YOU, YOU ATHEIST CUNT! FUCK YOU, YOU ATHEIST CUNT! FUCK YOU, YOU ATHEIST CUNT! FUCK YOU, YOU ATHEIST CUNT! FUCK YOU, YOU ATHEIST CUNT! FUCK YOU, YOU ATHEIST CUNT! FUCK YOU, YOU ATHEIST CUNT! FUCK YOU, YOU ATHEIST CUNT! FUCK YOU, YOU ATHEIST CUNT! FUCK YOU, YOU ATHEIST CUNT! FUCK YOU, YOU ATHEIST CUNT! FUCK YOU, YOU ATHEIST CUNT! FUCK YOU, YOU ATHEIST CUNT! FUCK YOU, YOU ATHEIST CUNT! FUCK YOU, YOU ATHEIST CUNT! FUCK YOU, YOU ATHEIST CUNT! FUCK YOU, YOU ATHEIST CUNT! FUCK YOU, YOU ATHEIST CUNT! FUCK YOU, YOU ATHEIST CUNT! FUCK YOU, YOU ATHEIST CUNT! FUCK YOU, YOU ATHEIST CUNT! FUCK YOU, YOU ATHEIST CUNT! FUCK YOU, YOU ATHEIST CUNT! FUCK YOU, YOU ATHEIST CUNT! FUCK YOU, YOU ATHEIST CUNT! FUCK YOU, YOU ATHEIST CUNT! FUCK YOU, YOU ATHEIST CUNT! FUCK YOU, YOU ATHEIST CUNT! FUCK YOU, YOU ATHEIST CUNT! FUCK YOU, YOU ATHEIST CUNT! FUCK YOU, YOU ATHEIST CUNT! FUCK YOU, YOU ATHEIST CUNT! FUCK YOU, YOU ATHEIST CUNT! FUCK YOU, YOU ATHEIST CUNT! FUCK YOU, YOU ATHEIST CUNT! FUCK YOU, YOU ATHEIST CUNT! FUCK YOU, YOU ATHEIST CUNT! FUCK YOU, YOU ATHEIST CUNT! FUCK YOU, YOU ATHEIST CUNT! FUCK YOU, YOU ATHEIST CUNT! FUCK YOU, YOU ATHEIST CUNT! FUCK YOU, YOU ATHEIST CUNT! FUCK YOU, YOU ATHEIST CUNT! FUCK YOU, YOU ATHEIST CUNT! FUCK YOU, YOU ATHEIST CUNT! FUCK</td>\n",
       "      <td>2006</td>\n",
       "      <td>False</td>\n",
       "      <td>10000</td>\n",
       "    </tr>\n",
       "    <tr>\n",
       "      <th>90765</th>\n",
       "      <td>489080105</td>\n",
       "      <td>go fuck yourselfgo fuck yourselfgo fuck yourselfgo fuck yourselfgo fuck yourselfgo fuck yourselfgo fuck yourselfgo fuck yourselfgo fuck yourselfgo fuck yourselfgo fuck yourselfgo fuck yourselfgo fuck yourselfgo fuck yourselfgo fuck yourselfgo fuck yourselfgo fuck yourselfgo fuck yourselfgo fuck yourselfgo fuck yourselfgo fuck yourselfgo fuck yourselfgo fuck yourselfgo fuck yourselfgo fuck yourselfgo fuck yourselfgo fuck yourselfgo fuck yourselfgo fuck yourselfgo fuck yourselfgo fuck yourselfgo fuck yourselfgo fuck yourselfgo fuck yourselfgo fuck yourselfgo fuck yourselfgo fuck yourselfgo fuck yourselfgo fuck yourselfgo fuck yourselfgo fuck yourselfgo fuck yourselfgo fuck yourselfgo fuck yourselfgo fuck yourselfgo fuck yourselfgo fuck yourselfgo fuck yourselfgo fuck yourselfgo fuck yourselfgo fuck yourselfgo fuck yourselfgo fuck yourselfgo fuck yourselfgo fuck yourselfgo fuck yourselfgo fuck yourselfgo fuck yourselfgo fuck yourselfgo fuck yourselfgo fuck yourselfgo fuck yourselfgo fuck yourselfgo fuck yourselfgo fuck yourselfgo fuck yourselfgo fuck yourselfgo fuck yourselfgo fuck yourselfgo fuck yourselfgo fuck yourselfgo fuck yourselfgo fuck yourselfgo fuck yourselfgo fuck yourselfgo fuck yourselfgo fuck yourselfgo fuck yourselfgo fuck yourselfgo fuck yourselfgo fuck yourselfgo fuck yourselfgo fuck yourselfgo fuck yourselfgo fuck yourselfgo fuck yourselfgo fuck yourselfgo fuck yourselfgo fuck yourselfgo fuck yourselfgo fuck yourselfgo fuck yourselfgo fuck yourselfgo fuck yourselfgo fuck yourselfgo fuck yourselfgo fuck yourselfgo fuck yourselfgo fuck yourselfgo fuck yourselfgo fuck yourselfgo fuck yourselfgo fuck yourselfgo fuck yourselfgo fuck yourselfgo fuck yourselfgo fuck yourselfgo fuck yourselfgo fuck yourselfgo fuck yourselfgo fuck yourselfgo fuck yourselfgo fuck yourselfgo fuck yourselfgo fuck yourselfgo fuck yourselfgo fuck yourselfgo fuck yourselfgo fuck yourselfgo fuck yourselfgo fuck yourselfgo fuck yourselfgo fuck yourselfgo fuck yourselfgo fuck yourselfgo fuck yourselfgo fuck yourselfgo fuck yourselfgo fuck yourselfgo fuck yourselfgo fuck yourselfgo fuck yourselfgo fuck yourselfgo fuck yourselfgo fuck yourselfgo fuck yourselfgo fuck yourselfgo fuck yourselfgo fuck yourselfgo fuck yourselfgo fuck yourselfgo fuck yourselfgo fuck yourselfgo fuck yourselfgo fuck yourselfgo fuck yourselfgo fuck yourselfgo fuck yourselfgo fuck yourselfgo fuck yourselfgo fuck yourselfgo fuck yourselfgo fuck yourselfgo fuck yourselfgo fuck yourselfgo fuck yourselfgo fuck yourselfgo fuck yourselfgo fuck yourselfgo fuck yourselfgo fuck yourselfgo fuck yourselfgo fuck yourselfgo fuck yourselfgo fuck yourselfgo fuck yourselfgo fuck yourselfgo fuck yourselfgo fuck yourselfgo fuck yourselfgo fuck yourselfgo fuck yourselfgo fuck yourselfgo fuck yourselfgo fuck yourselfgo fuck yourselfgo fuck yourselfgo fuck yourselfgo fuck yourselfgo fuck yourselfgo fuck yourselfgo fuck yourselfgo fuck yourselfgo fuck yourselfgo fuck yourselfgo fuck yourselfgo fuck yourselfgo fuck yourselfgo fuck yourselfgo fuck yourselfgo fuck yourselfgo fuck yourselfgo fuck yourselfgo fuck yourselfgo fuck yourselfgo fuck yourselfgo fuck yourselfgo fuck yourselfgo fuck yourselfgo fuck yourselfgo fuck yourselfgo fuck yourselfgo fuck yourselfgo fuck yourselfgo fuck yourselfgo fuck yourselfgo fuck yourselfgo fuck yourselfgo fuck yourselfgo fuck yourselfgo fuck yourselfgo fuck yourselfgo fuck yourselfgo fuck yourselfgo fuck yourselfgo fuck yourselfgo fuck yourselfgo fuck yourselfgo fuck yourselfgo fuck yourselfgo fuck yourselfgo fuck yourselfgo fuck yourselfgo fuck yourselfgo fuck yourselfgo fuck yourselfgo fuck yourselfgo fuck yourselfgo fuck yourselfgo fuck yourselfgo fuck yourselfgo fuck yourselfgo fuck yourselfgo fuck yourselfgo fuck yourselfgo fuck yourselfgo fuck yourselfgo fuck yourselfgo fuck yourselfgo fuck yourselfgo fuck yourselfgo fuck yourselfgo fuck yourselfgo fuck yourselfgo fuck yourselfgo fuck yourselfgo fuck yourselfgo fuck yourselfgo fuck yourselfgo fuck yourselfgo fuck yourselfgo fuck yourselfgo fuck yourselfgo fuck yourselfgo fuck yourselfgo fuck yourselfgo fuck yourselfgo fuck yourselfgo fuck yourselfgo fuck yourselfgo fuck yourselfgo fuck yourselfgo fuck yourselfgo fuck yourselfgo fuck yourselfgo fuck yourselfgo fuck yourselfgo fuck yourselfgo fuck yourselfgo fuck yourselfgo fuck yourselfgo fuck yourselfgo fuck yourselfgo fuck yourselfgo fuck yourselfgo fuck yourselfgo fuck yourselfgo fuck yourselfgo fuck yourselfgo fuck yourselfgo fuck yourselfgo fuck yourselfgo fuck yourselfgo fuck yourselfgo fuck yourselfgo fuck yourselfgo fuck yourselfgo fuck yourselfgo fuck yourselfgo fuck yourselfgo fuck yourselfgo fuck yourselfgo fuck yourselfgo fuck yourselfgo fuck yourselfgo fuck yourselfgo fuck yourselfgo fuck yourselfgo fuck yourselfgo fuck yourselfgo fuck yourselfgo fuck yourselfgo fuck yourselfgo fuck yourselfgo fuck yourselfgo fuck yourselfgo fuck yourselfgo fuck yourselfgo fuck yourselfgo fuck yourselfgo fuck yourselfgo fuck yourselfgo fuck yourselfgo fuck yourselfgo fuck yourselfgo fuck yourselfgo fuck yourselfgo fuck yourselfgo fuck yourselfgo fuck yourselfgo fuck yourselfgo fuck yourselfgo fuck yourselfgo fuck yourselfgo fuck yourselfgo fuck yourselfgo fuck yourselfgo fuck yourselfgo fuck yourselfgo fuck yourselfgo fuck yourselfgo fuck yourselfgo fuck yourselfgo fuck yourselfgo fuck yourselfgo fuck yourselfgo fuck yourselfgo fuck yourselfgo fuck yourselfgo fuck yourselfgo fuck yourselfgo fuck yourselfgo fuck yourselfgo fuck yourselfgo fuck yourselfgo fuck yourselfgo fuck yourselfgo fuck yourselfgo fuck yourselfgo fuck yourselfgo fuck yourselfgo fuck yourselfgo fuck yourselfgo fuck yourselfgo fuck yourselfgo fuck yourselfgo fuck yourselfgo fuck yourselfgo fuck yourselfgo fuck yourselfgo fuck yourselfgo fuck yourselfgo fuck yourselfgo fuck yourselfgo fuck yourselfgo fuck yourselfgo fuck yourselfgo fuck yourselfgo fuck yourselfgo fuck yourselfgo fuck yourselfgo fuck yourselfgo fuck yourselfgo fuck yourselfgo fuck yourselfgo fuck yourselfgo fuck yourselfgo fuck yourselfgo fuck yourselfgo fuck yourselfgo fuck yourselfgo fuck yourselfgo fuck yourselfgo fuck yourselfgo fuck yourselfgo fuck yourselfgo fuck yourselfgo fuck yourselfgo fuck yourselfgo fuck yourselfgo fuck yourselfgo fuck yourselfgo fuck yourselfgo fuck yourselfgo fuck yourselfgo fuck yourselfgo fuck yourselfgo fuck yourselfgo fuck yourselfgo fuck yourselfgo fuck yourselfgo fuck yourselfgo fuck yourselfgo fuck yourselfgo fuck yourselfgo fuck yourselfgo fuck yourselfgo fuck yourselfgo fuck yourselfgo fuck yourselfgo fuck yourselfgo fuck yourselfgo fuck yourselfgo fuck yourselfgo fuck yourselfgo fuck yourselfgo fuck yourselfgo fuck yourselfgo fuck yourselfgo fuck yourselfgo fuck yourselfgo fuck yourselfgo fuck yourselfgo fuck yourselfgo fuck yourselfgo fuck yourselfgo fuck yourselfgo fuck yourselfgo fuck yourselfgo fuck yourselfgo fuck yourselfgo fuck yourselfgo fuck yourselfgo fuck yourselfgo fuck yourselfgo fuck yourselfgo fuck yourselfgo fuck yourselfgo fuck yourselfgo fuck yourselfgo fuck yourselfgo fuck yourselfgo fuck yourselfgo fuck yourselfgo fuck yourselfgo fuck yourselfgo fuck yourselfgo fuck yourselfgo fuck yourselfgo fuck yourselfgo fuck yourselfgo fuck yourselfgo fuck yourselfgo fuck yourselfgo fuck yourselfgo fuck yourselfgo fuck yourselfgo fuck yourselfgo fuck yourselfgo fuck yourselfgo fuck yourselfgo fuck yourselfgo fuck yourselfgo fuck yourselfgo fuck yourselfgo fuck yourselfgo fuck yourselfgo fuck yourselfgo fuck yourselfgo fuck yourselfgo fuck yourselfgo fuck yourselfgo fuck yourselfgo fuck yourselfgo fuck yourselfgo fuck yourselfgo fuck yourselfgo fuck yourselfgo fuck yourselfgo fuck yourselfgo fuck yourselfgo fuck yourselfgo fuck yourselfgo fuck yourselfgo fuck yourselfgo fuck yourselfgo fuck yourselfgo fuck yourselfgo fuck yourselfgo fuck yourselfgo fuck yourselfgo fuck yourselfgo fuck yourselfgo fuck yourselfgo fuck yourselfgo fuck yourselfgo fuck yourselfgo fuck yourselfgo fuck yourselfgo fuck yourselfgo fuck yourselfgo fuck yourselfgo fuck yourselfgo fuck yourselfgo fuck yourselfgo fuck yourselfgo fuck yourselfgo fuck yourselfgo fuck yourselfgo fuck yourselfgo fuck yourselfgo fuck yourselfgo fuck yourselfgo fuck yourselfgo fuck yourselfgo fuck yourselfgo fuck yourselfgo fuck yourselfgo fuck yourselfgo fuck yourselfgo fuck yourselfgo fuck yourselfgo fuck yourselfgo fuck yourselfgo fuck yourselfgo fuck yourselfgo fuck yourselfgo fuck yourselfgo fuck yourselfgo fuck yourselfgo fuck yourselfgo fuck yourselfgo fuck yourselfgo fuck yourselfgo fuck yourselfgo fuck yourselfgo fuck yourselfgo fuck yourselfgo fuck yourselfgo fuck yourselfgo fuck yourselfgo fuck yourselfgo fuck yourselfgo fuck yourselfgo fuck yourselfgo fuck yourselfgo fuck yourselfgo fuck yourselfgo fuck yourselfgo fuck yourselfgo fuck yourselfgo fuck yourselfgo fuck yourselfgo fuck yourselfgo fuck yourselfgo fuck yourselfgo fuck yourselfgo fuck yourselfgo fuck yourselfgo fuck yourselfgo fuck yourselfgo fuck yourselfgo fuck yourselfgo fuck yourselfgo fuck yourselfgo fuck yourselfgo fuck yourselfgo fuck yourselfgo fuck yourselfgo fuck yourselfgo fuck yourselfgo fuck yourselfgo fuck yourselfgo fuck yourselfgo fuck yourselfgo fuck yourselfgo fuck yourselfgo fuck yourselfgo fuck yourselfgo fuck yourselfgo fuck yourselfgo fuck yourselfgo fuck yourselfgo fuck yourselfgo fuck yourselfgo fuck yourselfgo fuck yourselfgo fuck yourselfgo fuck yourselfgo fuck yourselfgo fuck yourselfgo fuck yourselfgo fuck yourselfgo fuck yourselfgo fuck yourselfgo fuck yourselfgo fuck yourselfgo fuck yourselfgo fuck yourselfgo fuck yourselfgo fuck yourselfgo fuck yourselfgo fuck yourselfgo fuck yourselfgo fuck yourselfgo fuck yourselfgo fuck yourselfgo fuck yourselfgo fuck yourselfgo fuck yourselfgo fuck yourselfgo fuck yourselfgo fuck yourselfgo fuck yourselfgo fuck yourselfgo fuck yourselfgo fuck yourselfgo fuck yourselfgo fuck yourselfgo fuck yourselfgo fuck yourselfgo fuck yourselfgo fuck yourselfgo fuck yourselfgo fuck yoursel</td>\n",
       "      <td>2012</td>\n",
       "      <td>False</td>\n",
       "      <td>10000</td>\n",
       "    </tr>\n",
       "    <tr>\n",
       "      <th>6121</th>\n",
       "      <td>34581073</td>\n",
       "      <td>leari CAN STILL POST WITH THIS COMPUTER...I SAID BLOCK ME, COME THE FUCK DOWN HERE AND ARREST ME...SAN DIEGO CALIFORNIA, CHULA VISTA, FUCKING GET YOUR INFORMATION RIGHT FAGGOT SHITHEAD!!i CAN STILL POST WITH THIS COMPUTER...I SAID BLOCK ME, COME THE FUCK DOWN HERE AND ARREST ME...SAN DIEGO CALIFORNIA, CHULA VISTA, FUCKING GET YOUR INFORMATION RIGHT FAGGOT SHITHEAD!!i CAN STILL POST WITH THIS COMPUTER...I SAID BLOCK ME, COME THE FUCK DOWN HERE AND ARREST ME...SAN DIEGO CALIFORNIA, CHULA VISTA, FUCKING GET YOUR INFORMATION RIGHT FAGGOT SHITHEAD!!i CAN STILL POST WITH THIS COMPUTER...I SAID BLOCK ME, COME THE FUCK DOWN HERE AND ARREST ME...SAN DIEGO CALIFORNIA, CHULA VISTA, FUCKING GET YOUR INFORMATION RIGHT FAGGOT SHITHEAD!!i CAN STILL POST WITH THIS COMPUTER...I SAID BLOCK ME, COME THE FUCK DOWN HERE AND ARREST ME...SAN DIEGO CALIFORNIA, CHULA VISTA, FUCKING GET YOUR INFORMATION RIGHT FAGGOT SHITHEAD!!i CAN STILL POST WITH THIS COMPUTER...I SAID BLOCK ME, COME THE FUCK DOWN HERE AND ARREST ME...SAN DIEGO CALIFORNIA, CHULA VISTA, FUCKING GET YOUR INFORMATION RIGHT FAGGOT SHITHEAD!!i CAN STILL POST WITH THIS COMPUTER...I SAID BLOCK ME, COME THE FUCK DOWN HERE AND ARREST ME...SAN DIEGO CALIFORNIA, CHULA VISTA, FUCKING GET YOUR INFORMATION RIGHT FAGGOT SHITHEAD!!i CAN STILL POST WITH THIS COMPUTER...I SAID BLOCK ME, COME THE FUCK DOWN HERE AND ARREST ME...SAN DIEGO CALIFORNIA, CHULA VISTA, FUCKING GET YOUR INFORMATION RIGHT FAGGOT SHITHEAD!!i CAN STILL POST WITH THIS COMPUTER...I SAID BLOCK ME, COME THE FUCK DOWN HERE AND ARREST ME...SAN DIEGO CALIFORNIA, CHULA VISTA, FUCKING GET YOUR INFORMATION RIGHT FAGGOT SHITHEAD!!i CAN STILL POST WITH THIS COMPUTER...I SAID BLOCK ME, COME THE FUCK DOWN HERE AND ARREST ME...SAN DIEGO CALIFORNIA, CHULA VISTA, FUCKING GET YOUR INFORMATION RIGHT FAGGOT SHITHEAD!!i CAN STILL POST WITH THIS COMPUTER...I SAID BLOCK ME, COME THE FUCK DOWN HERE AND ARREST ME...SAN DIEGO CALIFORNIA, CHULA VISTA, FUCKING GET YOUR INFORMATION RIGHT FAGGOT SHITHEAD!!i CAN STILL POST WITH THIS COMPUTER...I SAID BLOCK ME, COME THE FUCK DOWN HERE AND ARREST ME...SAN DIEGO CALIFORNIA, CHULA VISTA, FUCKING GET YOUR INFORMATION RIGHT FAGGOT SHITHEAD!!i CAN STILL POST WITH THIS COMPUTER...I SAID BLOCK ME, COME THE FUCK DOWN HERE AND ARREST ME...SAN DIEGO CALIFORNIA, CHULA VISTA, FUCKING GET YOUR INFORMATION RIGHT FAGGOT SHITHEAD!!i CAN STILL POST WITH THIS COMPUTER...I SAID BLOCK ME, COME THE FUCK DOWN HERE AND ARREST ME...SAN DIEGO CALIFORNIA, CHULA VISTA, FUCKING GET YOUR INFORMATION RIGHT FAGGOT SHITHEAD!!i CAN STILL POST WITH THIS COMPUTER...I SAID BLOCK ME, COME THE FUCK DOWN HERE AND ARREST ME...SAN DIEGO CALIFORNIA, CHULA VISTA, FUCKING GET YOUR INFORMATION RIGHT FAGGOT SHITHEAD!!i CAN STILL POST WITH THIS COMPUTER...I SAID BLOCK ME, COME THE FUCK DOWN HERE AND ARREST ME...SAN DIEGO CALIFORNIA, CHULA VISTA, FUCKING GET YOUR INFORMATION RIGHT FAGGOT SHITHEAD!!i CAN STILL POST WITH THIS COMPUTER...I SAID BLOCK ME, COME THE FUCK DOWN HERE AND ARREST ME...SAN DIEGO CALIFORNIA, CHULA VISTA, FUCKING GET YOUR INFORMATION RIGHT FAGGOT SHITHEAD!!i CAN STILL POST WITH THIS COMPUTER...I SAID BLOCK ME, COME THE FUCK DOWN HERE AND ARREST ME...SAN DIEGO CALIFORNIA, CHULA VISTA, FUCKING GET YOUR INFORMATION RIGHT FAGGOT SHITHEAD!!i CAN STILL POST WITH THIS COMPUTER...I SAID BLOCK ME, COME THE FUCK DOWN HERE AND ARREST ME...SAN DIEGO CALIFORNIA, CHULA VISTA, FUCKING GET YOUR INFORMATION RIGHT FAGGOT SHITHEAD!!i CAN STILL POST WITH THIS COMPUTER...I SAID BLOCK ME, COME THE FUCK DOWN HERE AND ARREST ME...SAN DIEGO CALIFORNIA, CHULA VISTA, FUCKING GET YOUR INFORMATION RIGHT FAGGOT SHITHEAD!!i CAN STILL POST WITH THIS COMPUTER...I SAID BLOCK ME, COME THE FUCK DOWN HERE AND ARREST ME...SAN DIEGO CALIFORNIA, CHULA VISTA, FUCKING GET YOUR INFORMATION RIGHT FAGGOT SHITHEAD!!i CAN STILL POST WITH THIS COMPUTER...I SAID BLOCK ME, COME THE FUCK DOWN HERE AND ARREST ME...SAN DIEGO CALIFORNIA, CHULA VISTA, FUCKING GET YOUR INFORMATION RIGHT FAGGOT SHITHEAD!!i CAN STILL POST WITH THIS COMPUTER...I SAID BLOCK ME, COME THE FUCK DOWN HERE AND ARREST ME...SAN DIEGO CALIFORNIA, CHULA VISTA, FUCKING GET YOUR INFORMATION RIGHT FAGGOT SHITHEAD!!i CAN STILL POST WITH THIS COMPUTER...I SAID BLOCK ME, COME THE FUCK DOWN HERE AND ARREST ME...SAN DIEGO CALIFORNIA, CHULA VISTA, FUCKING GET YOUR INFORMATION RIGHT FAGGOT SHITHEAD!!i CAN STILL POST WITH THIS COMPUTER...I SAID BLOCK ME, COME THE FUCK DOWN HERE AND ARREST ME...SAN DIEGO CALIFORNIA, CHULA VISTA, FUCKING GET YOUR INFORMATION RIGHT FAGGOT SHITHEAD!!i CAN STILL POST WITH THIS COMPUTER...I SAID BLOCK ME, COME THE FUCK DOWN HERE AND ARREST ME...SAN DIEGO CALIFORNIA, CHULA VISTA, FUCKING GET YOUR INFORMATION RIGHT FAGGOT SHITHEAD!!i CAN STILL POST WITH THIS COMPUTER...I SAID BLOCK ME, COME THE FUCK DOWN HERE AND ARREST ME...SAN DIEGO CALIFORNIA, CHULA VISTA, FUCKING GET YOUR INFORMATION RIGHT FAGGOT SHITHEAD!!i CAN STILL POST WITH THIS COMPUTER...I SAID BLOCK ME, COME THE FUCK DOWN HERE AND ARREST ME...SAN DIEGO CALIFORNIA, CHULA VISTA, FUCKING GET YOUR INFORMATION RIGHT FAGGOT SHITHEAD!!i CAN STILL POST WITH THIS COMPUTER...I SAID BLOCK ME, COME THE FUCK DOWN HERE AND ARREST ME...SAN DIEGO CALIFORNIA, CHULA VISTA, FUCKING GET YOUR INFORMATION RIGHT FAGGOT SHITHEAD!!i CAN STILL POST WITH THIS COMPUTER...I SAID BLOCK ME, COME THE FUCK DOWN HERE AND ARREST ME...SAN DIEGO CALIFORNIA, CHULA VISTA, FUCKING GET YOUR INFORMATION RIGHT FAGGOT SHITHEAD!!i CAN STILL POST WITH THIS COMPUTER...I SAID BLOCK ME, COME THE FUCK DOWN HERE AND ARREST ME...SAN DIEGO CALIFORNIA, CHULA VISTA, FUCKING GET YOUR INFORMATION RIGHT FAGGOT SHITHEAD!!i CAN STILL POST WITH THIS COMPUTER...I SAID BLOCK ME, COME THE FUCK DOWN HERE AND ARREST ME...SAN DIEGO CALIFORNIA, CHULA VISTA, FUCKING GET YOUR INFORMATION RIGHT FAGGOT SHITHEAD!!i CAN STILL POST WITH THIS COMPUTER...I SAID BLOCK ME, COME THE FUCK DOWN HERE AND ARREST ME...SAN DIEGO CALIFORNIA, CHULA VISTA, FUCKING GET YOUR INFORMATION RIGHT FAGGOT SHITHEAD!!i CAN STILL POST WITH THIS COMPUTER...I SAID BLOCK ME, COME THE FUCK DOWN HERE AND ARREST ME...SAN DIEGO CALIFORNIA, CHULA VISTA, FUCKING GET YOUR INFORMATION RIGHT FAGGOT SHITHEAD!!i CAN STILL POST WITH THIS COMPUTER...I SAID BLOCK ME, COME THE FUCK DOWN HERE AND ARREST ME...SAN DIEGO CALIFORNIA, CHULA VISTA, FUCKING GET YOUR INFORMATION RIGHT FAGGOT SHITHEAD!!i CAN STILL POST WITH THIS COMPUTER...I SAID BLOCK ME, COME THE FUCK DOWN HERE AND ARREST ME...SAN DIEGO CALIFORNIA, CHULA VISTA, FUCKING GET YOUR INFORMATION RIGHT FAGGOT SHITHEAD!!i CAN STILL POST WITH THIS COMPUTER...I SAID BLOCK ME, COME THE FUCK DOWN HERE AND ARREST ME...SAN DIEGO CALIFORNIA, CHULA VISTA, FUCKING GET YOUR INFORMATION RIGHT FAGGOT SHITHEAD!!i CAN STILL POST WITH THIS COMPUTER...I SAID BLOCK ME, COME THE FUCK DOWN HERE AND ARREST ME...SAN DIEGO CALIFORNIA, CHULA VISTA, FUCKING GET YOUR INFORMATION RIGHT FAGGOT SHITHEAD!!i CAN STILL POST WITH THIS COMPUTER...I SAID BLOCK ME, COME THE FUCK DOWN HERE AND ARREST ME...SAN DIEGO CALIFORNIA, CHULA VISTA, FUCKING GET YOUR INFORMATION RIGHT FAGGOT SHITHEAD!!i CAN STILL POST WITH THIS COMPUTER...I SAID BLOCK ME, COME THE FUCK DOWN HERE AND ARREST ME...SAN DIEGO CALIFORNIA, CHULA VISTA, FUCKING GET YOUR INFORMATION RIGHT FAGGOT SHITHEAD!!i CAN STILL POST WITH THIS COMPUTER...I SAID BLOCK ME, COME THE FUCK DOWN HERE AND ARREST ME...SAN DIEGO CALIFORNIA, CHULA VISTA, FUCKING GET YOUR INFORMATION RIGHT FAGGOT SHITHEAD!!i CAN STILL POST WITH THIS COMPUTER...I SAID BLOCK ME, COME THE FUCK DOWN HERE AND ARREST ME...SAN DIEGO CALIFORNIA, CHULA VISTA, FUCKING GET YOUR INFORMATION RIGHT FAGGOT SHITHEAD!!i CAN STILL POST WITH THIS COMPUTER...I SAID BLOCK ME, COME THE FUCK DOWN HERE AND ARREST ME...SAN DIEGO CALIFORNIA, CHULA VISTA, FUCKING GET YOUR INFORMATION RIGHT FAGGOT SHITHEAD!!i CAN STILL POST WITH THIS COMPUTER...I SAID BLOCK ME, COME THE FUCK DOWN HERE AND ARREST ME...SAN DIEGO CALIFORNIA, CHULA VISTA, FUCKING GET YOUR INFORMATION RIGHT FAGGOT SHITHEAD!!i CAN STILL POST WITH THIS COMPUTER...I SAID BLOCK ME, COME THE FUCK DOWN HERE AND ARREST ME...SAN DIEGO CALIFORNIA, CHULA VISTA, FUCKING GET YOUR INFORMATION RIGHT FAGGOT SHITHEAD!!i CAN STILL POST WITH THIS COMPUTER...I SAID BLOCK ME, COME THE FUCK DOWN HERE AND ARREST ME...SAN DIEGO CALIFORNIA, CHULA VISTA, FUCKING GET YOUR INFORMATION RIGHT FAGGOT SHITHEAD!!i CAN STILL POST WITH THIS COMPUTER...I SAID BLOCK ME, COME THE FUCK DOWN HERE AND ARREST ME...SAN DIEGO CALIFORNIA, CHULA VISTA, FUCKING GET YOUR INFORMATION RIGHT FAGGOT SHITHEAD!!i CAN STILL POST WITH THIS COMPUTER...I SAID BLOCK ME, COME THE FUCK DOWN HERE AND ARREST ME...SAN DIEGO CALIFORNIA, CHULA VISTA, FUCKING GET YOUR INFORMATION RIGHT FAGGOT SHITHEAD!!i CAN STILL POST WITH THIS COMPUTER...I SAID BLOCK ME, COME THE FUCK DOWN HERE AND ARREST ME...SAN DIEGO CALIFORNIA, CHULA VISTA, FUCKING GET YOUR INFORMATION RIGHT FAGGOT SHITHEAD!!i CAN STILL POST WITH THIS COMPUTER...I SAID BLOCK ME, COME THE FUCK DOWN HERE AND ARREST ME...SAN DIEGO CALIFORNIA, CHULA VISTA, FUCKING GET YOUR INFORMATION RIGHT FAGGOT SHITHEAD!!i CAN STILL POST WITH THIS COMPUTER...I SAID BLOCK ME, COME THE FUCK DOWN HERE AND ARREST ME...SAN DIEGO CALIFORNIA, CHULA VISTA, FUCKING GET YOUR INFORMATION RIGHT FAGGOT SHITHEAD!!i CAN STILL POST WITH THIS COMPUTER...I SAID BLOCK ME, COME THE FUCK DOWN HERE AND ARREST ME...SAN DIEGO CALIFORNIA, CHULA VISTA, FUCKING GET YOUR INFORMATION RIGHT FAGGOT SHITHEAD!!i CAN STILL POST WITH THIS COMPUTER...I SAID BLOCK ME, COME THE FUCK DOWN HERE AND ARREST ME...SAN DIEGO CALIFORNIA, CHULA VISTA, FUCKING GET YOUR INFORMATION RIGHT FAGGOT SHITHEAD!!i CAN STILL POST WITH THIS COMPUTER...I SAID BLOCK ME, COME THE FUCK DOWN HERE AND ARREST ME...SAN DIEGO CALIFORNIA, CHULA VISTA, FUCKING GET YOUR INFORMATION RIGHT FAGGOT SHITHEAD!!i CAN STILL POST WITH THIS COMPUTER...I SAID BLOCK ME, COME THE FUCK DOWN HERE AND ARREST ME...SAN DIEGO CALIFORNIA, CHULA VISTA, FUCKING GET YOUR INFORMATION RIGHT FAG</td>\n",
       "      <td>2006</td>\n",
       "      <td>False</td>\n",
       "      <td>10000</td>\n",
       "    </tr>\n",
       "    <tr>\n",
       "      <th>15167</th>\n",
       "      <td>64963167</td>\n",
       "      <td>WANKER WANKER WANKER WANKER WANKER WANKER WANKER WANKER WANKER WANKER WANKER WANKER WANKER WANKER WANKER WANKER WANKER WANKER WANKER WANKER WANKER WANKER WANKER WANKER WANKER WANKER WANKER WANKER WANKER WANKER WANKER WANKER WANKER WANKER WANKER WANKER WANKER WANKER WANKER WANKER WANKER WANKER WANKER WANKER WANKER WANKER WANKER WANKER WANKER WANKER WANKER WANKER WANKER WANKER WANKER WANKER WANKER WANKER WANKER WANKER WANKER WANKER WANKER WANKER WANKER WANKER WANKER WANKER WANKER WANKER WANKER WANKER WANKER WANKER WANKER WANKER WANKER WANKER WANKER WANKER WANKER WANKER WANKER WANKER WANKER WANKER WANKER WANKER WANKER WANKER WANKER WANKER WANKER WANKER WANKER WANKER WANKER WANKER WANKER WANKER WANKER WANKER WANKER WANKER WANKER WANKER WANKER WANKER WANKER WANKER WANKER WANKER WANKER WANKER WANKER WANKER WANKER WANKER WANKER WANKER WANKER WANKER WANKER WANKER WANKER WANKER WANKER WANKER WANKER WANKER WANKER WANKER WANKER WANKER WANKER WANKER WANKER WANKER WANKER WANKER WANKER WANKER WANKER WANKER WANKER WANKER WANKER WANKER WANKER WANKER WANKER WANKER WANKER WANKER WANKER WANKER WANKER WANKER WANKER WANKER WANKER WANKER WANKER WANKER WANKER WANKER WANKER WANKER WANKER WANKER WANKER WANKER WANKER WANKER WANKER WANKER WANKER WANKER WANKER WANKER WANKER WANKER WANKER WANKER WANKER WANKER WANKER WANKER WANKER WANKER WANKER WANKER WANKER WANKER WANKER WANKER WANKER WANKER WANKER WANKER WANKER WANKER WANKER WANKER WANKER WANKER WANKER WANKER WANKER WANKER WANKER WANKER WANKER WANKER WANKER WANKER WANKER WANKER WANKER WANKER WANKER WANKER WANKER WANKER WANKER WANKER WANKER WANKER WANKER WANKER WANKER WANKER WANKER WANKER WANKER WANKER WANKER WANKER WANKER WANKER WANKER WANKER WANKER WANKER WANKER WANKER WANKER WANKER WANKER WANKER WANKER WANKER WANKER WANKER WANKER WANKER WANKER WANKER WANKER WANKER WANKER WANKER WANKER WANKER WANKER WANKER WANKER WANKER WANKER WANKER WANKER WANKER WANKER WANKER WANKER WANKER WANKER WANKER WANKER WANKER WANKER WANKER WANKER WANKER WANKER WANKER WANKER WANKER WANKER WANKER WANKER WANKER WANKER WANKER WANKER WANKER WANKER WANKER WANKER WANKER WANKER WANKER WANKER WANKER WANKER WANKER WANKER WANKER WANKER WANKER WANKER WANKER WANKER WANKER WANKER WANKER WANKER WANKER WANKER WANKER WANKER WANKER WANKER WANKER WANKER WANKER WANKER WANKER WANKER WANKER WANKER WANKER WANKER WANKER WANKER WANKER WANKER WANKER WANKER WANKER WANKER WANKER WANKER WANKER WANKER WANKER WANKER WANKER WANKER WANKER WANKER WANKER WANKER WANKER WANKER WANKER WANKER WANKER WANKER WANKER WANKER WANKER WANKER WANKER WANKER WANKER WANKER WANKER WANKER WANKER WANKER WANKER WANKER WANKER WANKER WANKER WANKER WANKER WANKER WANKER WANKER WANKER WANKER WANKER WANKER WANKER WANKER WANKER WANKER WANKER WANKER WANKER WANKER WANKER WANKER WANKER WANKER WANKER WANKER WANKER WANKER WANKER WANKER WANKER WANKER WANKER WANKER WANKER WANKER WANKER WANKER WANKER WANKER WANKER WANKER WANKER WANKER WANKER WANKER WANKER WANKER WANKER WANKER WANKER WANKER WANKER WANKER WANKER WANKER WANKER WANKER WANKER WANKER WANKER WANKER WANKER WANKER WANKER WANKER WANKER WANKER WANKER WANKER WANKER WANKER WANKER WANKER WANKER WANKER WANKER WANKER WANKER WANKER WANKER WANKER WANKER WANKER WANKER WANKER WANKER WANKER WANKER WANKER WANKER WANKER WANKER WANKER WANKER WANKER WANKER WANKER WANKER WANKER WANKER WANKER WANKER WANKER WANKER WANKER WANKER WANKER WANKER WANKER WANKER WANKER WANKER WANKER WANKER WANKER WANKER WANKER WANKER WANKER WANKER WANKER WANKER WANKER WANKER WANKER WANKER WANKER WANKER WANKER WANKER WANKER WANKER WANKER WANKER WANKER WANKER WANKER WANKER WANKER WANKER WANKER WANKER WANKER WANKER WANKER WANKER WANKER WANKER WANKER WANKER WANKER WANKER WANKER WANKER WANKER WANKER WANKER WANKER WANKER WANKER WANKER WANKER WANKER WANKER WANKER WANKER WANKER WANKER WANKER WANKER WANKER WANKER WANKER WANKER WANKER WANKER WANKER WANKER WANKER WANKER WANKER WANKER WANKER WANKER WANKER WANKER WANKER WANKER WANKER WANKER WANKER WANKER WANKER WANKER WANKER WANKER WANKER WANKER WANKER WANKER WANKER WANKER WANKER WANKER WANKER WANKER WANKER WANKER WANKER WANKER WANKER WANKER WANKER WANKER WANKER WANKER WANKER WANKER WANKER WANKER WANKER WANKER WANKER WANKER WANKER WANKER WANKER WANKER WANKER WANKER WANKER WANKER WANKER WANKER WANKER WANKER WANKER WANKER WANKER WANKER WANKER WANKER WANKER WANKER WANKER WANKER WANKER WANKER WANKER WANKER WANKER WANKER WANKER WANKER WANKER WANKER WANKER WANKER WANKER WANKER WANKER WANKER WANKER WANKER WANKER WANKER WANKER WANKER WANKER WANKER WANKER WANKER WANKER WANKER WANKER WANKER WANKER WANKER WANKER WANKER WANKER WANKER WANKER WANKER WANKER WANKER WANKER WANKER WANKER WANKER WANKER WANKER WANKER WANKER WANKER WANKER WANKER WANKER WANKER WANKER WANKER WANKER WANKER WANKER WANKER WANKER WANKER WANKER WANKER WANKER WANKER WANKER WANKER WANKER WANKER WANKER WANKER WANKER WANKER WANKER WANKER WANKER WANKER WANKER WANKER WANKER WANKER WANKER WANKER WANKER WANKER WANKER WANKER WANKER WANKER WANKER WANKER WANKER WANKER WANKER WANKER WANKER WANKER WANKER WANKER WANKER WANKER WANKER WANKER WANKER WANKER WANKER WANKER WANKER WANKER WANKER WANKER WANKER WANKER WANKER WANKER WANKER WANKER WANKER WANKER WANKER WANKER WANKER WANKER WANKER WANKER WANKER WANKER WANKER WANKER WANKER WANKER WANKER WANKER WANKER WANKER WANKER WANKER WANKER WANKER WANKER WANKER WANKER WANKER WANKER WANKER WANKER WANKER WANKER WANKER WANKER WANKER WANKER WANKER WANKER WANKER WANKER WANKER WANKER WANKER WANKER WANKER WANKER WANKER WANKER WANKER WANKER WANKER WANKER WANKER WANKER WANKER WANKER WANKER WANKER WANKER WANKER WANKER WANKER WANKER WANKER WANKER WANKER WANKER WANKER WANKER WANKER WANKER WANKER WANKER WANKER WANKER WANKER WANKER WANKER WANKER WANKER WANKER WANKER WANKER WANKER WANKER WANKER WANKER WANKER WANKER WANKER WANKER WANKER WANKER WANKER WANKER WANKER WANKER WANKER WANKER WANKER WANKER WANKER WANKER WANKER WANKER WANKER WANKER WANKER WANKER WANKER WANKER WANKER WANKER WANKER WANKER WANKER WANKER WANKER WANKER WANKER WANKER WANKER WANKER WANKER WANKER WANKER WANKER WANKER WANKER WANKER WANKER WANKER WANKER WANKER WANKER WANKER WANKER WANKER WANKER WANKER WANKER WANKER WANKER WANKER WANKER WANKER WANKER WANKER WANKER WANKER WANKER WANKER WANKER WANKER WANKER WANKER WANKER WANKER WANKER WANKER WANKER WANKER WANKER WANKER WANKER WANKER WANKER WANKER WANKER WANKER WANKER WANKER WANKER WANKER WANKER WANKER WANKER WANKER WANKER WANKER WANKER WANKER WANKER WANKER WANKER WANKER WANKER WANKER WANKER WANKER WANKER WANKER WANKER WANKER WANKER WANKER WANKER WANKER WANKER WANKER WANKER WANKER WANKER WANKER WANKER WANKER WANKER WANKER WANKER WANKER WANKER WANKER WANKER WANKER WANKER WANKER WANKER WANKER WANKER WANKER WANKER WANKER WANKER WANKER WANKER WANKER WANKER WANKER WANKER WANKER WANKER WANKER WANKER WANKER WANKER WANKER WANKER WANKER WANKER WANKER WANKER WANKER WANKER WANKER WANKER WANKER WANKER WANKER WANKER WANKER WANKER WANKER WANKER WANKER WANKER WANKER WANKER WANKER WANKER WANKER WANKER WANKER WANKER WANKER WANKER WANKER WANKER WANKER WANKER WANKER WANKER WANKER WANKER WANKER WANKER WANKER WANKER WANKER WANKER WANKER WANKER WANKER WANKER WANKER WANKER WANKER WANKER WANKER WANKER WANKER WANKER WANKER WANKER WANKER WANKER WANKER WANKER WANKER WANKER WANKER WANKER WANKER WANKER WANKER WANKER WANKER WANKER WANKER WANKER WANKER WANKER WANKER WANKER WANKER WANKER WANKER WANKER WANKER WANKER WANKER WANKER WANKER WANKER WANKER WANKER WANKER WANKER WANKER WANKER WANKER WANKER WANKER WANKER WANKER WANKER WANKER WANKER WANKER WANKER WANKER WANKER WANKER WANKER WANKER WANKER WANKER WANKER WANKER WANKER WANKER WANKER WANKER WANKER WANKER WANKER WANKER WANKER WANKER WANKER WANKER WANKER WANKER WANKER WANKER WANKER WANKER WANKER WANKER WANKER WANKER WANKER WANKER WANKER WANKER WANKER WANKER WANKER WANKER WANKER WANKER WANKER WANKER WANKER WANKER WANKER WANKER WANKER WANKER WANKER WANKER WANKER WANKER WANKER WANKER WANKER WANKER WANKER WANKER WANKER WANKER WANKER WANKER WANKER WANKER WANKER WANKER WANKER WANKER WANKER WANKER WANKER WANKER WANKER WANKER WANKER WANKER WANKER WANKER WANKER WANKER WANKER WANKER WANKER WANKER WANKER WANKER WANKER WANKER WANKER WANKER WANKER WANKER WANKER WANKER WANKER WANKER WANKER WANKER WANKER WANKER WANKER WANKER WANKER WANKER WANKER WANKER WANKER WANKER WANKER WANKER WANKER WANKER WANKER WANKER WANKER WANKER WANKER WANKER WANKER WANKER WANKER WANKER WANKER WANKER WANKER WANKER WANKER WANKER WANKER WANKER WANKER WANKER WANKER WANKER WANKER WANKER WANKER WANKER WANKER WANKER WANKER WANKER WANKER WANKER WANKER WANKER WANKER WANKER WANKER WANKER WANKER WANKER WANKER WANKER WANKER WANKER WANKER WANKER WANKER WANKER WANKER WANKER WANKER WANKER WANKER WANKER WANKER WANKER WANKER WANKER WANKER WANKER WANKER WANKER WANKER WANKER WANKER WANKER WANKER WANKER WANKER WANKER WANKER WANKER WANKER WANKER WANKER WANKER WANKER WANKER WANKER WANKER WANKER WANKER WANKER WANKER WANKER WANKER WANKER WANKER WANKER WANKER WANKER WANKER WANKER WANKER WANKER WANKER WANKER WANKER WANKER WANKER WANKER WANKER WANKER WANKER WANKER WANKER WANKER WANKER WANKER WANKER WANKER WANKER WANKER WANKER WANKER WANKER WANKER WANKER WANKER WANKER WANKER WANKER WANKER WANKER WANKER WANKER WANKER WANKER WANKER WANKER WANKER WANKER WANKER WANKER WANKER WANKER WANKER WANKER WANKER WANKER WANKER WANKER WANKER WANKER WANKER WANKER WANKER WANKER WANKER WANKER WANKER WANKER WANKER WANKER WANKER WANKER WANKER WANKER WANKER WANKER WANKER WANKER WANKER WANKER WANKER WANKER WANKER WANKER WANKER WANKER WANKER WANKER WANKER WANKER WANKER WANKER WANKER WANKER WANKER WANKER WANKER WANKER WANKER WANKER WANKER WANKER WANKER WANKER WANKER WANKER WANKER WANKER WANKER WANKER WANKER WANKER WANKER WANKER WANKER WANKER WANKER WANKER WANKER WANKER WANKER WANKER WANKER WANKER WANKER WANKER WANKER WANKER WANKER WANKER WANKER WANKER WANKER WANKER WANKER WANKER WANKER WANKER WANKER WANKER WANKER WANKER WANKER WANKER WANKER WANKER WANKER WANKER WANKER WANKER WANKER WANKER WANKER WANKER WANKER WANKER WANK</td>\n",
       "      <td>2006</td>\n",
       "      <td>False</td>\n",
       "      <td>10000</td>\n",
       "    </tr>\n",
       "    <tr>\n",
       "      <th>58706</th>\n",
       "      <td>274599352</td>\n",
       "      <td>THIS PAGE SHALL BE DELETEDTHIS PAGE SHALL BE DELETEDTHIS PAGE SHALL BE DELETEDTHIS PAGE SHALL BE DELETEDTHIS PAGE SHALL BE DELETEDTHIS PAGE SHALL BE DELETEDTHIS PAGE SHALL BE DELETEDTHIS PAGE SHALL BE DELETEDTHIS PAGE SHALL BE DELETEDTHIS PAGE SHALL BE DELETEDTHIS PAGE SHALL BE DELETEDTHIS PAGE SHALL BE DELETEDTHIS PAGE SHALL BE DELETEDTHIS PAGE SHALL BE DELETEDTHIS PAGE SHALL BE DELETEDTHIS PAGE SHALL BE DELETEDTHIS PAGE SHALL BE DELETEDTHIS PAGE SHALL BE DELETEDTHIS PAGE SHALL BE DELETEDTHIS PAGE SHALL BE DELETEDTHIS PAGE SHALL BE DELETEDTHIS PAGE SHALL BE DELETEDTHIS PAGE SHALL BE DELETEDTHIS PAGE SHALL BE DELETEDTHIS PAGE SHALL BE DELETEDTHIS PAGE SHALL BE DELETEDTHIS PAGE SHALL BE DELETEDTHIS PAGE SHALL BE DELETEDTHIS PAGE SHALL BE DELETEDTHIS PAGE SHALL BE DELETEDTHIS PAGE SHALL BE DELETEDTHIS PAGE SHALL BE DELETEDTHIS PAGE SHALL BE DELETEDTHIS PAGE SHALL BE DELETEDTHIS PAGE SHALL BE DELETEDTHIS PAGE SHALL BE DELETEDTHIS PAGE SHALL BE DELETEDTHIS PAGE SHALL BE DELETEDTHIS PAGE SHALL BE DELETEDTHIS PAGE SHALL BE DELETEDTHIS PAGE SHALL BE DELETEDTHIS PAGE SHALL BE DELETEDTHIS PAGE SHALL BE DELETEDTHIS PAGE SHALL BE DELETEDTHIS PAGE SHALL BE DELETEDTHIS PAGE SHALL BE DELETEDTHIS PAGE SHALL BE DELETEDTHIS PAGE SHALL BE DELETEDTHIS PAGE SHALL BE DELETEDTHIS PAGE SHALL BE DELETEDTHIS PAGE SHALL BE DELETEDTHIS PAGE SHALL BE DELETEDTHIS PAGE SHALL BE DELETEDTHIS PAGE SHALL BE DELETEDTHIS PAGE SHALL BE DELETEDTHIS PAGE SHALL BE DELETEDTHIS PAGE SHALL BE DELETEDTHIS PAGE SHALL BE DELETEDTHIS PAGE SHALL BE DELETEDTHIS PAGE SHALL BE DELETEDTHIS PAGE SHALL BE DELETEDTHIS PAGE SHALL BE DELETEDTHIS PAGE SHALL BE DELETEDTHIS PAGE SHALL BE DELETEDTHIS PAGE SHALL BE DELETEDTHIS PAGE SHALL BE DELETEDTHIS PAGE SHALL BE DELETEDTHIS PAGE SHALL BE DELETEDTHIS PAGE SHALL BE DELETEDTHIS PAGE SHALL BE DELETEDTHIS PAGE SHALL BE DELETEDTHIS PAGE SHALL BE DELETEDTHIS PAGE SHALL BE DELETEDTHIS PAGE SHALL BE DELETEDTHIS PAGE SHALL BE DELETEDTHIS PAGE SHALL BE DELETEDTHIS PAGE SHALL BE DELETEDTHIS PAGE SHALL BE DELETEDTHIS PAGE SHALL BE DELETEDTHIS PAGE SHALL BE DELETEDTHIS PAGE SHALL BE DELETEDTHIS PAGE SHALL BE DELETEDTHIS PAGE SHALL BE DELETEDTHIS PAGE SHALL BE DELETEDTHIS PAGE SHALL BE DELETEDTHIS PAGE SHALL BE DELETEDTHIS PAGE SHALL BE DELETEDTHIS PAGE SHALL BE DELETEDTHIS PAGE SHALL BE DELETEDTHIS PAGE SHALL BE DELETEDTHIS PAGE SHALL BE DELETEDTHIS PAGE SHALL BE DELETEDTHIS PAGE SHALL BE DELETEDTHIS PAGE SHALL BE DELETEDTHIS PAGE SHALL BE DELETEDTHIS PAGE SHALL BE DELETEDTHIS PAGE SHALL BE DELETEDTHIS PAGE SHALL BE DELETEDTHIS PAGE SHALL BE DELETEDTHIS PAGE SHALL BE DELETEDTHIS PAGE SHALL BE DELETEDTHIS PAGE SHALL BE DELETEDTHIS PAGE SHALL BE DELETEDTHIS PAGE SHALL BE DELETEDTHIS PAGE SHALL BE DELETEDTHIS PAGE SHALL BE DELETEDTHIS PAGE SHALL BE DELETEDTHIS PAGE SHALL BE DELETEDTHIS PAGE SHALL BE DELETEDTHIS PAGE SHALL BE DELETEDTHIS PAGE SHALL BE DELETEDTHIS PAGE SHALL BE DELETEDTHIS PAGE SHALL BE DELETEDTHIS PAGE SHALL BE DELETEDTHIS PAGE SHALL BE DELETEDTHIS PAGE SHALL BE DELETEDTHIS PAGE SHALL BE DELETEDTHIS PAGE SHALL BE DELETEDTHIS PAGE SHALL BE DELETEDTHIS PAGE SHALL BE DELETEDTHIS PAGE SHALL BE DELETEDTHIS PAGE SHALL BE DELETEDTHIS PAGE SHALL BE DELETEDTHIS PAGE SHALL BE DELETEDTHIS PAGE SHALL BE DELETEDTHIS PAGE SHALL BE DELETEDTHIS PAGE SHALL BE DELETEDTHIS PAGE SHALL BE DELETEDTHIS PAGE SHALL BE DELETEDTHIS PAGE SHALL BE DELETEDTHIS PAGE SHALL BE DELETEDTHIS PAGE SHALL BE DELETEDTHIS PAGE SHALL BE DELETEDTHIS PAGE SHALL BE DELETEDTHIS PAGE SHALL BE DELETEDTHIS PAGE SHALL BE DELETEDTHIS PAGE SHALL BE DELETEDTHIS PAGE SHALL BE DELETEDTHIS PAGE SHALL BE DELETEDTHIS PAGE SHALL BE DELETEDTHIS PAGE SHALL BE DELETEDTHIS PAGE SHALL BE DELETEDTHIS PAGE SHALL BE DELETEDTHIS PAGE SHALL BE DELETEDTHIS PAGE SHALL BE DELETEDTHIS PAGE SHALL BE DELETEDTHIS PAGE SHALL BE DELETEDTHIS PAGE SHALL BE DELETEDTHIS PAGE SHALL BE DELETEDTHIS PAGE SHALL BE DELETEDTHIS PAGE SHALL BE DELETEDTHIS PAGE SHALL BE DELETEDTHIS PAGE SHALL BE DELETEDTHIS PAGE SHALL BE DELETEDTHIS PAGE SHALL BE DELETEDTHIS PAGE SHALL BE DELETEDTHIS PAGE SHALL BE DELETEDTHIS PAGE SHALL BE DELETEDTHIS PAGE SHALL BE DELETEDTHIS PAGE SHALL BE DELETEDTHIS PAGE SHALL BE DELETEDTHIS PAGE SHALL BE DELETEDTHIS PAGE SHALL BE DELETEDTHIS PAGE SHALL BE DELETEDTHIS PAGE SHALL BE DELETEDTHIS PAGE SHALL BE DELETEDTHIS PAGE SHALL BE DELETEDTHIS PAGE SHALL BE DELETEDTHIS PAGE SHALL BE DELETEDTHIS PAGE SHALL BE DELETEDTHIS PAGE SHALL BE DELETEDTHIS PAGE SHALL BE DELETEDTHIS PAGE SHALL BE DELETEDTHIS PAGE SHALL BE DELETEDTHIS PAGE SHALL BE DELETEDTHIS PAGE SHALL BE DELETEDTHIS PAGE SHALL BE DELETEDTHIS PAGE SHALL BE DELETEDTHIS PAGE SHALL BE DELETEDTHIS PAGE SHALL BE DELETEDTHIS PAGE SHALL BE DELETEDTHIS PAGE SHALL BE DELETEDTHIS PAGE SHALL BE DELETEDTHIS PAGE SHALL BE DELETEDTHIS PAGE SHALL BE DELETEDTHIS PAGE SHALL BE DELETEDTHIS PAGE SHALL BE DELETEDTHIS PAGE SHALL BE DELETEDTHIS PAGE SHALL BE DELETEDTHIS PAGE SHALL BE DELETEDTHIS PAGE SHALL BE DELETEDTHIS PAGE SHALL BE DELETEDTHIS PAGE SHALL BE DELETEDTHIS PAGE SHALL BE DELETEDTHIS PAGE SHALL BE DELETEDTHIS PAGE SHALL BE DELETEDTHIS PAGE SHALL BE DELETEDTHIS PAGE SHALL BE DELETEDTHIS PAGE SHALL BE DELETEDTHIS PAGE SHALL BE DELETEDTHIS PAGE SHALL BE DELETEDTHIS PAGE SHALL BE DELETEDTHIS PAGE SHALL BE DELETEDTHIS PAGE SHALL BE DELETEDTHIS PAGE SHALL BE DELETEDTHIS PAGE SHALL BE DELETEDTHIS PAGE SHALL BE DELETEDTHIS PAGE SHALL BE DELETEDTHIS PAGE SHALL BE DELETEDTHIS PAGE SHALL BE DELETEDTHIS PAGE SHALL BE DELETEDTHIS PAGE SHALL BE DELETEDTHIS PAGE SHALL BE DELETEDTHIS PAGE SHALL BE DELETEDTHIS PAGE SHALL BE DELETEDTHIS PAGE SHALL BE DELETEDTHIS PAGE SHALL BE DELETEDTHIS PAGE SHALL BE DELETEDTHIS PAGE SHALL BE DELETEDTHIS PAGE SHALL BE DELETEDTHIS PAGE SHALL BE DELETEDTHIS PAGE SHALL BE DELETEDTHIS PAGE SHALL BE DELETEDTHIS PAGE SHALL BE DELETEDTHIS PAGE SHALL BE DELETEDTHIS PAGE SHALL BE DELETEDTHIS PAGE SHALL BE DELETEDTHIS PAGE SHALL BE DELETEDTHIS PAGE SHALL BE DELETEDTHIS PAGE SHALL BE DELETEDTHIS PAGE SHALL BE DELETEDTHIS PAGE SHALL BE DELETEDTHIS PAGE SHALL BE DELETEDTHIS PAGE SHALL BE DELETEDTHIS PAGE SHALL BE DELETEDTHIS PAGE SHALL BE DELETEDTHIS PAGE SHALL BE DELETEDTHIS PAGE SHALL BE DELETEDTHIS PAGE SHALL BE DELETEDTHIS PAGE SHALL BE DELETEDTHIS PAGE SHALL BE DELETEDTHIS PAGE SHALL BE DELETEDTHIS PAGE SHALL BE DELETEDTHIS PAGE SHALL BE DELETEDTHIS PAGE SHALL BE DELETEDTHIS PAGE SHALL BE DELETEDTHIS PAGE SHALL BE DELETEDTHIS PAGE SHALL BE DELETEDTHIS PAGE SHALL BE DELETEDTHIS PAGE SHALL BE DELETEDTHIS PAGE SHALL BE DELETEDTHIS PAGE SHALL BE DELETEDTHIS PAGE SHALL BE DELETEDTHIS PAGE SHALL BE DELETEDTHIS PAGE SHALL BE DELETEDTHIS PAGE SHALL BE DELETEDTHIS PAGE SHALL BE DELETEDTHIS PAGE SHALL BE DELETEDTHIS PAGE SHALL BE DELETEDTHIS PAGE SHALL BE DELETEDTHIS PAGE SHALL BE DELETEDTHIS PAGE SHALL BE DELETEDTHIS PAGE SHALL BE DELETEDTHIS PAGE SHALL BE DELETEDTHIS PAGE SHALL BE DELETEDTHIS PAGE SHALL BE DELETEDTHIS PAGE SHALL BE DELETEDTHIS PAGE SHALL BE DELETEDTHIS PAGE SHALL BE DELETEDTHIS PAGE SHALL BE DELETEDTHIS PAGE SHALL BE DELETEDTHIS PAGE SHALL BE DELETEDTHIS PAGE SHALL BE DELETEDTHIS PAGE SHALL BE DELETEDTHIS PAGE SHALL BE DELETEDTHIS PAGE SHALL BE DELETEDTHIS PAGE SHALL BE DELETEDTHIS PAGE SHALL BE DELETEDTHIS PAGE SHALL BE DELETEDTHIS PAGE SHALL BE DELETEDTHIS PAGE SHALL BE DELETEDTHIS PAGE SHALL BE DELETEDTHIS PAGE SHALL BE DELETEDTHIS PAGE SHALL BE DELETEDTHIS PAGE SHALL BE DELETEDTHIS PAGE SHALL BE DELETEDTHIS PAGE SHALL BE DELETEDTHIS PAGE SHALL BE DELETEDTHIS PAGE SHALL BE DELETEDTHIS PAGE SHALL BE DELETEDTHIS PAGE SHALL BE DELETEDTHIS PAGE SHALL BE DELETEDTHIS PAGE SHALL BE DELETEDTHIS PAGE SHALL BE DELETEDTHIS PAGE SHALL BE DELETEDTHIS PAGE SHALL BE DELETEDTHIS PAGE SHALL BE DELETEDTHIS PAGE SHALL BE DELETEDTHIS PAGE SHALL BE DELETEDTHIS PAGE SHALL BE DELETEDTHIS PAGE SHALL BE DELETEDTHIS PAGE SHALL BE DELETEDTHIS PAGE SHALL BE DELETEDTHIS PAGE SHALL BE DELETEDTHIS PAGE SHALL BE DELETEDTHIS PAGE SHALL BE DELETEDTHIS PAGE SHALL BE DELETEDTHIS PAGE SHALL BE DELETEDTHIS PAGE SHALL BE DELETEDTHIS PAGE SHALL BE DELETEDTHIS PAGE SHALL BE DELETEDTHIS PAGE SHALL BE DELETEDTHIS PAGE SHALL BE DELETEDTHIS PAGE SHALL BE DELETEDTHIS PAGE SHALL BE DELETEDTHIS PAGE SHALL BE DELETEDTHIS PAGE SHALL BE DELETEDTHIS PAGE SHALL BE DELETEDTHIS PAGE SHALL BE DELETEDTHIS PAGE SHALL BE DELETEDTHIS PAGE SHALL BE DELETEDTHIS PAGE SHALL BE DELETEDTHIS PAGE SHALL BE DELETEDTHIS PAGE SHALL BE DELETEDTHIS PAGE SHALL BE DELETEDTHIS PAGE SHALL BE DELETEDTHIS PAGE SHALL BE DELETEDTHIS PAGE SHALL BE DELETEDTHIS PAGE SHALL BE DELETEDTHIS PAGE SHALL BE DELETEDTHIS PAGE SHALL BE DELETEDTHIS PAGE SHALL BE DELETEDTHIS PAGE SHALL BE DELETEDTHIS PAGE SHALL BE DELETEDTHIS PAGE SHALL BE DELETEDTHIS PAGE SHALL BE DELETEDTHIS PAGE SHALL BE DELETEDTHIS PAGE SHALL BE DELETEDTHIS PAGE SHALL BE DELETEDTHIS PAGE SHALL BE DELETEDTHIS PAGE SHALL BE DELETEDTHIS PAGE SHALL BE DELETEDTHIS PAGE SHALL BE DELETEDTHIS PAGE SHALL BE DELETEDTHIS PAGE SHALL BE DELETEDTHIS PAGE SHALL BE DELETEDTHIS PAGE SHALL BE DELETEDTHIS PAGE SHALL BE DELETEDTHIS PAGE SHALL BE DELETEDTHIS PAGE SHALL BE DELETEDTHIS PAGE SHALL BE DELETEDTHIS PAGE SHALL BE DELETEDTHIS PAGE SHALL BE DELETEDTHIS PAGE SHALL BE DELETEDTHIS PAGE SHALL BE DELETEDTHIS PAGE SHALL BE DELETEDTHIS PAGE SHALL BE DELETEDTHIS PAGE SHALL BE DELETEDTHIS PAGE SHALL BE DELETEDTHIS PAGE SHALL BE DELETEDTHIS PAGE SHALL BE DELETEDTHIS PAGE SHALL BE DELETEDTHIS PAGE SHALL BE DELETEDTHIS PAGE SHALL BE DELETEDTHIS PAGE SHALL BE DELETEDTHIS PAGE SHALL BE DELETEDTHIS PAGE SHALL BE DELETEDTHIS PAGE SHALL BE DELETEDTHIS PAGE SHALL BE DELETEDTHIS PAGE SHALL BE DELETEDTHIS PAGE SHALL BE DELETEDTHIS PAGE SHALL BE DELETEDTHIS PAGE SHALL BE DELETEDTHIS PAGE SHALL BE DELETEDTHIS PAGE SHALL BE DELETEDTHIS PAGE SHALL BE DELETEDTHIS PAGE SHALL BE DELETEDTHIS PAGE SHALL BE DELETEDTHIS PAGE SHALL BE DELETEDTHIS PAGE SHALL BE DELETEDTHIS PAGE SHALL BE DELETEDTHIS PAGE SHALL BE DELETEDTHIS PAGE SHALL BE DELETEDTHIS PAGE SHALL BE DELETEDTHIS PAGE SHALL</td>\n",
       "      <td>2009</td>\n",
       "      <td>True</td>\n",
       "      <td>10000</td>\n",
       "    </tr>\n",
       "  </tbody>\n",
       "</table>\n",
       "</div>"
      ],
      "text/plain": [
       "          rev_id  \\\n",
       "12983  58224447    \n",
       "90765  489080105   \n",
       "6121   34581073    \n",
       "15167  64963167    \n",
       "58706  274599352   \n",
       "\n",
       "                                                                                                                                                                                                                                                                                                                                                                                                                                                                                                                                                                                                                                                                                                                                                                                                                                                                                                                                                                                                                                                                                                                                                                                                                                                                                                                                                                                                                                                                                                                                                                                                                                                                                                                                                                                                                                                                                                                                                                                                                                                                                                                                                                                                                                                                                                                                                                                                                                                                                                                                                                                                                                                                                                                                                                                                                                                                                                                                                                                                                                                                                                                                                                                                                                                                                                                                                                                                                                                                                                                                                                                                                                                                                                                                                                                                                                                                                                                                                                                                                                                                                                                                                                                                                                                                                                                                                                                                                                                                                                                                                                                                                                                                                                                                                                                                                                                                                                                                                                                                                                                                                                                                                                                                                                                                                                                                                                                                                                                                                                                                                                                                                                                                                                                                                                                                                                                                                                                                                                                                                                                                                                                                                                                                                                                                                                                                                                                                                                                                                                                                                                                                                                                                                                                                                                                                                                                                                                                                                                                                                                                                                                                                                                                                                                                                                                                                                                                                                                                                                                                                                                                                                                                                                                                                                                                                                                                                                                                                                                                                                                                                                                                                                                                                                                                                                                                                                                                                                                                                                                                                                                                                                                                                                                                                                                                                                                                                                                                                                                                                                                                                                                                                                                                                                                                                                                                                                                                                                                                                                                                                                                                                                                                                                                                                                                                                                                                                                                                                                                                                                                                                                                                                                                                                                                                                                                                                                                                                                comment  \\\n",
       "12983  FUCK YOU, YOU ATHEIST CUNT! FUCK YOU, YOU ATHEIST CUNT! FUCK YOU, YOU ATHEIST CUNT! FUCK YOU, YOU ATHEIST CUNT! FUCK YOU, YOU ATHEIST CUNT! FUCK YOU, YOU ATHEIST CUNT! FUCK YOU, YOU ATHEIST CUNT! FUCK YOU, YOU ATHEIST CUNT! FUCK YOU, YOU ATHEIST CUNT! FUCK YOU, YOU ATHEIST CUNT! FUCK YOU, YOU ATHEIST CUNT! FUCK YOU, YOU ATHEIST CUNT! FUCK YOU, YOU ATHEIST CUNT! FUCK YOU, YOU ATHEIST CUNT! FUCK YOU, YOU ATHEIST CUNT! FUCK YOU, YOU ATHEIST CUNT! FUCK YOU, YOU ATHEIST CUNT! FUCK YOU, YOU ATHEIST CUNT! FUCK YOU, YOU ATHEIST CUNT! FUCK YOU, YOU ATHEIST CUNT! FUCK YOU, YOU ATHEIST CUNT! FUCK YOU, YOU ATHEIST CUNT! FUCK YOU, YOU ATHEIST CUNT! FUCK YOU, YOU ATHEIST CUNT! FUCK YOU, YOU ATHEIST CUNT! FUCK YOU, YOU ATHEIST CUNT! FUCK YOU, YOU ATHEIST CUNT! FUCK YOU, YOU ATHEIST CUNT! FUCK YOU, YOU ATHEIST CUNT! FUCK YOU, YOU ATHEIST CUNT! FUCK YOU, YOU ATHEIST CUNT! FUCK YOU, YOU ATHEIST CUNT! FUCK YOU, YOU ATHEIST CUNT! FUCK YOU, YOU ATHEIST CUNT! FUCK YOU, YOU ATHEIST CUNT! FUCK YOU, YOU ATHEIST CUNT! FUCK YOU, YOU ATHEIST CUNT! FUCK YOU, YOU ATHEIST CUNT! FUCK YOU, YOU ATHEIST CUNT! FUCK YOU, YOU ATHEIST CUNT! FUCK YOU, YOU ATHEIST CUNT! FUCK YOU, YOU ATHEIST CUNT! FUCK YOU, YOU ATHEIST CUNT! FUCK YOU, YOU ATHEIST CUNT! FUCK YOU, YOU ATHEIST CUNT! FUCK YOU, YOU ATHEIST CUNT! FUCK YOU, YOU ATHEIST CUNT! FUCK YOU, YOU ATHEIST CUNT! FUCK YOU, YOU ATHEIST CUNT! FUCK YOU, YOU ATHEIST CUNT! FUCK YOU, YOU ATHEIST CUNT! FUCK YOU, YOU ATHEIST CUNT! FUCK YOU, YOU ATHEIST CUNT! FUCK YOU, YOU ATHEIST CUNT! FUCK YOU, YOU ATHEIST CUNT! FUCK YOU, YOU ATHEIST CUNT! FUCK YOU, YOU ATHEIST CUNT! FUCK YOU, YOU ATHEIST CUNT! FUCK YOU, YOU ATHEIST CUNT! FUCK YOU, YOU ATHEIST CUNT! FUCK YOU, YOU ATHEIST CUNT! FUCK YOU, YOU ATHEIST CUNT! FUCK YOU, YOU ATHEIST CUNT! FUCK YOU, YOU ATHEIST CUNT! FUCK YOU, YOU ATHEIST CUNT! FUCK YOU, YOU ATHEIST CUNT! FUCK YOU, YOU ATHEIST CUNT! FUCK YOU, YOU ATHEIST CUNT! FUCK YOU, YOU ATHEIST CUNT! FUCK YOU, YOU ATHEIST CUNT! FUCK YOU, YOU ATHEIST CUNT! FUCK YOU, YOU ATHEIST CUNT! FUCK YOU, YOU ATHEIST CUNT! FUCK YOU, YOU ATHEIST CUNT! FUCK YOU, YOU ATHEIST CUNT! FUCK YOU, YOU ATHEIST CUNT! FUCK YOU, YOU ATHEIST CUNT! FUCK YOU, YOU ATHEIST CUNT! FUCK YOU, YOU ATHEIST CUNT! FUCK YOU, YOU ATHEIST CUNT! FUCK YOU, YOU ATHEIST CUNT! FUCK YOU, YOU ATHEIST CUNT! FUCK YOU, YOU ATHEIST CUNT! FUCK YOU, YOU ATHEIST CUNT! FUCK YOU, YOU ATHEIST CUNT! FUCK YOU, YOU ATHEIST CUNT! FUCK YOU, YOU ATHEIST CUNT! FUCK YOU, YOU ATHEIST CUNT! FUCK YOU, YOU ATHEIST CUNT! FUCK YOU, YOU ATHEIST CUNT! FUCK YOU, YOU ATHEIST CUNT! FUCK YOU, YOU ATHEIST CUNT! FUCK YOU, YOU ATHEIST CUNT! FUCK YOU, YOU ATHEIST CUNT! FUCK YOU, YOU ATHEIST CUNT! FUCK YOU, YOU ATHEIST CUNT! FUCK YOU, YOU ATHEIST CUNT! FUCK YOU, YOU ATHEIST CUNT! FUCK YOU, YOU ATHEIST CUNT! FUCK YOU, YOU ATHEIST CUNT! FUCK YOU, YOU ATHEIST CUNT! FUCK YOU, YOU ATHEIST CUNT! FUCK YOU, YOU ATHEIST CUNT! FUCK YOU, YOU ATHEIST CUNT! FUCK YOU, YOU ATHEIST CUNT! FUCK YOU, YOU ATHEIST CUNT! FUCK YOU, YOU ATHEIST CUNT! FUCK YOU, YOU ATHEIST CUNT! FUCK YOU, YOU ATHEIST CUNT! FUCK YOU, YOU ATHEIST CUNT! FUCK YOU, YOU ATHEIST CUNT! FUCK YOU, YOU ATHEIST CUNT! FUCK YOU, YOU ATHEIST CUNT! FUCK YOU, YOU ATHEIST CUNT! FUCK YOU, YOU ATHEIST CUNT! FUCK YOU, YOU ATHEIST CUNT! FUCK YOU, YOU ATHEIST CUNT! FUCK YOU, YOU ATHEIST CUNT! FUCK YOU, YOU ATHEIST CUNT! FUCK YOU, YOU ATHEIST CUNT! FUCK YOU, YOU ATHEIST CUNT! FUCK YOU, YOU ATHEIST CUNT! FUCK YOU, YOU ATHEIST CUNT! FUCK YOU, YOU ATHEIST CUNT! FUCK YOU, YOU ATHEIST CUNT! FUCK YOU, YOU ATHEIST CUNT! FUCK YOU, YOU ATHEIST CUNT! FUCK YOU, YOU ATHEIST CUNT! FUCK YOU, YOU ATHEIST CUNT! FUCK YOU, YOU ATHEIST CUNT! FUCK YOU, YOU ATHEIST CUNT! FUCK YOU, YOU ATHEIST CUNT! FUCK YOU, YOU ATHEIST CUNT! FUCK YOU, YOU ATHEIST CUNT! FUCK YOU, YOU ATHEIST CUNT! FUCK YOU, YOU ATHEIST CUNT! FUCK YOU, YOU ATHEIST CUNT! FUCK YOU, YOU ATHEIST CUNT! FUCK YOU, YOU ATHEIST CUNT! FUCK YOU, YOU ATHEIST CUNT! FUCK YOU, YOU ATHEIST CUNT! FUCK YOU, YOU ATHEIST CUNT! FUCK YOU, YOU ATHEIST CUNT! FUCK YOU, YOU ATHEIST CUNT! FUCK YOU, YOU ATHEIST CUNT! FUCK YOU, YOU ATHEIST CUNT! FUCK YOU, YOU ATHEIST CUNT! FUCK YOU, YOU ATHEIST CUNT! FUCK YOU, YOU ATHEIST CUNT! FUCK YOU, YOU ATHEIST CUNT! FUCK YOU, YOU ATHEIST CUNT! FUCK YOU, YOU ATHEIST CUNT! FUCK YOU, YOU ATHEIST CUNT! FUCK YOU, YOU ATHEIST CUNT! FUCK YOU, YOU ATHEIST CUNT! FUCK YOU, YOU ATHEIST CUNT! FUCK YOU, YOU ATHEIST CUNT! FUCK YOU, YOU ATHEIST CUNT! FUCK YOU, YOU ATHEIST CUNT! FUCK YOU, YOU ATHEIST CUNT! FUCK YOU, YOU ATHEIST CUNT! FUCK YOU, YOU ATHEIST CUNT! FUCK YOU, YOU ATHEIST CUNT! FUCK YOU, YOU ATHEIST CUNT! FUCK YOU, YOU ATHEIST CUNT! FUCK YOU, YOU ATHEIST CUNT! FUCK YOU, YOU ATHEIST CUNT! FUCK YOU, YOU ATHEIST CUNT! FUCK YOU, YOU ATHEIST CUNT! FUCK YOU, YOU ATHEIST CUNT! FUCK YOU, YOU ATHEIST CUNT! FUCK YOU, YOU ATHEIST CUNT! FUCK YOU, YOU ATHEIST CUNT! FUCK YOU, YOU ATHEIST CUNT! FUCK YOU, YOU ATHEIST CUNT! FUCK YOU, YOU ATHEIST CUNT! FUCK YOU, YOU ATHEIST CUNT! FUCK YOU, YOU ATHEIST CUNT! FUCK YOU, YOU ATHEIST CUNT! FUCK YOU, YOU ATHEIST CUNT! FUCK YOU, YOU ATHEIST CUNT! FUCK YOU, YOU ATHEIST CUNT! FUCK YOU, YOU ATHEIST CUNT! FUCK YOU, YOU ATHEIST CUNT! FUCK YOU, YOU ATHEIST CUNT! FUCK YOU, YOU ATHEIST CUNT! FUCK YOU, YOU ATHEIST CUNT! FUCK YOU, YOU ATHEIST CUNT! FUCK YOU, YOU ATHEIST CUNT! FUCK YOU, YOU ATHEIST CUNT! FUCK YOU, YOU ATHEIST CUNT! FUCK YOU, YOU ATHEIST CUNT! FUCK YOU, YOU ATHEIST CUNT! FUCK YOU, YOU ATHEIST CUNT! FUCK YOU, YOU ATHEIST CUNT! FUCK YOU, YOU ATHEIST CUNT! FUCK YOU, YOU ATHEIST CUNT! FUCK YOU, YOU ATHEIST CUNT! FUCK YOU, YOU ATHEIST CUNT! FUCK YOU, YOU ATHEIST CUNT! FUCK YOU, YOU ATHEIST CUNT! FUCK YOU, YOU ATHEIST CUNT! FUCK YOU, YOU ATHEIST CUNT! FUCK YOU, YOU ATHEIST CUNT! FUCK YOU, YOU ATHEIST CUNT! FUCK YOU, YOU ATHEIST CUNT! FUCK YOU, YOU ATHEIST CUNT! FUCK YOU, YOU ATHEIST CUNT! FUCK YOU, YOU ATHEIST CUNT! FUCK YOU, YOU ATHEIST CUNT! FUCK YOU, YOU ATHEIST CUNT! FUCK YOU, YOU ATHEIST CUNT! FUCK YOU, YOU ATHEIST CUNT! FUCK YOU, YOU ATHEIST CUNT! FUCK YOU, YOU ATHEIST CUNT! FUCK YOU, YOU ATHEIST CUNT! FUCK YOU, YOU ATHEIST CUNT! FUCK YOU, YOU ATHEIST CUNT! FUCK YOU, YOU ATHEIST CUNT! FUCK YOU, YOU ATHEIST CUNT! FUCK YOU, YOU ATHEIST CUNT! FUCK YOU, YOU ATHEIST CUNT! FUCK YOU, YOU ATHEIST CUNT! FUCK YOU, YOU ATHEIST CUNT! FUCK YOU, YOU ATHEIST CUNT! FUCK YOU, YOU ATHEIST CUNT! FUCK YOU, YOU ATHEIST CUNT! FUCK YOU, YOU ATHEIST CUNT! FUCK YOU, YOU ATHEIST CUNT! FUCK YOU, YOU ATHEIST CUNT! FUCK YOU, YOU ATHEIST CUNT! FUCK YOU, YOU ATHEIST CUNT! FUCK YOU, YOU ATHEIST CUNT! FUCK YOU, YOU ATHEIST CUNT! FUCK YOU, YOU ATHEIST CUNT! FUCK YOU, YOU ATHEIST CUNT! FUCK YOU, YOU ATHEIST CUNT! FUCK YOU, YOU ATHEIST CUNT! FUCK YOU, YOU ATHEIST CUNT! FUCK YOU, YOU ATHEIST CUNT! FUCK YOU, YOU ATHEIST CUNT! FUCK YOU, YOU ATHEIST CUNT! FUCK YOU, YOU ATHEIST CUNT! FUCK YOU, YOU ATHEIST CUNT! FUCK YOU, YOU ATHEIST CUNT! FUCK YOU, YOU ATHEIST CUNT! FUCK YOU, YOU ATHEIST CUNT! FUCK YOU, YOU ATHEIST CUNT! FUCK YOU, YOU ATHEIST CUNT! FUCK YOU, YOU ATHEIST CUNT! FUCK YOU, YOU ATHEIST CUNT! FUCK YOU, YOU ATHEIST CUNT! FUCK YOU, YOU ATHEIST CUNT! FUCK YOU, YOU ATHEIST CUNT! FUCK YOU, YOU ATHEIST CUNT! FUCK YOU, YOU ATHEIST CUNT! FUCK YOU, YOU ATHEIST CUNT! FUCK YOU, YOU ATHEIST CUNT! FUCK YOU, YOU ATHEIST CUNT! FUCK YOU, YOU ATHEIST CUNT! FUCK YOU, YOU ATHEIST CUNT! FUCK YOU, YOU ATHEIST CUNT! FUCK YOU, YOU ATHEIST CUNT! FUCK YOU, YOU ATHEIST CUNT! FUCK YOU, YOU ATHEIST CUNT! FUCK YOU, YOU ATHEIST CUNT! FUCK YOU, YOU ATHEIST CUNT! FUCK YOU, YOU ATHEIST CUNT! FUCK YOU, YOU ATHEIST CUNT! FUCK YOU, YOU ATHEIST CUNT! FUCK YOU, YOU ATHEIST CUNT! FUCK YOU, YOU ATHEIST CUNT! FUCK YOU, YOU ATHEIST CUNT! FUCK YOU, YOU ATHEIST CUNT! FUCK YOU, YOU ATHEIST CUNT! FUCK YOU, YOU ATHEIST CUNT! FUCK YOU, YOU ATHEIST CUNT! FUCK YOU, YOU ATHEIST CUNT! FUCK YOU, YOU ATHEIST CUNT! FUCK YOU, YOU ATHEIST CUNT! FUCK YOU, YOU ATHEIST CUNT! FUCK YOU, YOU ATHEIST CUNT! FUCK YOU, YOU ATHEIST CUNT! FUCK YOU, YOU ATHEIST CUNT! FUCK YOU, YOU ATHEIST CUNT! FUCK YOU, YOU ATHEIST CUNT! FUCK YOU, YOU ATHEIST CUNT! FUCK YOU, YOU ATHEIST CUNT! FUCK YOU, YOU ATHEIST CUNT! FUCK YOU, YOU ATHEIST CUNT! FUCK YOU, YOU ATHEIST CUNT! FUCK YOU, YOU ATHEIST CUNT! FUCK YOU, YOU ATHEIST CUNT! FUCK YOU, YOU ATHEIST CUNT! FUCK YOU, YOU ATHEIST CUNT! FUCK YOU, YOU ATHEIST CUNT! FUCK YOU, YOU ATHEIST CUNT! FUCK YOU, YOU ATHEIST CUNT! FUCK YOU, YOU ATHEIST CUNT! FUCK YOU, YOU ATHEIST CUNT! FUCK YOU, YOU ATHEIST CUNT! FUCK YOU, YOU ATHEIST CUNT! FUCK YOU, YOU ATHEIST CUNT! FUCK YOU, YOU ATHEIST CUNT! FUCK YOU, YOU ATHEIST CUNT! FUCK YOU, YOU ATHEIST CUNT! FUCK YOU, YOU ATHEIST CUNT! FUCK YOU, YOU ATHEIST CUNT! FUCK YOU, YOU ATHEIST CUNT! FUCK YOU, YOU ATHEIST CUNT! FUCK YOU, YOU ATHEIST CUNT! FUCK YOU, YOU ATHEIST CUNT! FUCK YOU, YOU ATHEIST CUNT! FUCK YOU, YOU ATHEIST CUNT! FUCK YOU, YOU ATHEIST CUNT! FUCK YOU, YOU ATHEIST CUNT! FUCK YOU, YOU ATHEIST CUNT! FUCK YOU, YOU ATHEIST CUNT! FUCK YOU, YOU ATHEIST CUNT! FUCK YOU, YOU ATHEIST CUNT! FUCK YOU, YOU ATHEIST CUNT! FUCK YOU, YOU ATHEIST CUNT! FUCK YOU, YOU ATHEIST CUNT! FUCK YOU, YOU ATHEIST CUNT! FUCK YOU, YOU ATHEIST CUNT! FUCK YOU, YOU ATHEIST CUNT! FUCK YOU, YOU ATHEIST CUNT! FUCK YOU, YOU ATHEIST CUNT! FUCK YOU, YOU ATHEIST CUNT! FUCK YOU, YOU ATHEIST CUNT! FUCK YOU, YOU ATHEIST CUNT! FUCK YOU, YOU ATHEIST CUNT! FUCK YOU, YOU ATHEIST CUNT! FUCK YOU, YOU ATHEIST CUNT! FUCK YOU, YOU ATHEIST CUNT! FUCK YOU, YOU ATHEIST CUNT! FUCK YOU, YOU ATHEIST CUNT! FUCK YOU, YOU ATHEIST CUNT! FUCK YOU, YOU ATHEIST CUNT! FUCK YOU, YOU ATHEIST CUNT! FUCK YOU, YOU ATHEIST CUNT! FUCK YOU, YOU ATHEIST CUNT! FUCK YOU, YOU ATHEIST CUNT! FUCK YOU, YOU ATHEIST CUNT! FUCK YOU, YOU ATHEIST CUNT! FUCK YOU, YOU ATHEIST CUNT! FUCK YOU, YOU ATHEIST CUNT! FUCK YOU, YOU ATHEIST CUNT! FUCK YOU, YOU ATHEIST CUNT! FUCK YOU, YOU ATHEIST CUNT! FUCK YOU, YOU ATHEIST CUNT! FUCK YOU, YOU ATHEIST CUNT! FUCK YOU, YOU ATHEIST CUNT! FUCK YOU, YOU ATHEIST CUNT! FUCK YOU, YOU ATHEIST CUNT! FUCK YOU, YOU ATHEIST CUNT! FUCK YOU, YOU ATHEIST CUNT! FUCK   \n",
       "90765   go fuck yourselfgo fuck yourselfgo fuck yourselfgo fuck yourselfgo fuck yourselfgo fuck yourselfgo fuck yourselfgo fuck yourselfgo fuck yourselfgo fuck yourselfgo fuck yourselfgo fuck yourselfgo fuck yourselfgo fuck yourselfgo fuck yourselfgo fuck yourselfgo fuck yourselfgo fuck yourselfgo fuck yourselfgo fuck yourselfgo fuck yourselfgo fuck yourselfgo fuck yourselfgo fuck yourselfgo fuck yourselfgo fuck yourselfgo fuck yourselfgo fuck yourselfgo fuck yourselfgo fuck yourselfgo fuck yourselfgo fuck yourselfgo fuck yourselfgo fuck yourselfgo fuck yourselfgo fuck yourselfgo fuck yourselfgo fuck yourselfgo fuck yourselfgo fuck yourselfgo fuck yourselfgo fuck yourselfgo fuck yourselfgo fuck yourselfgo fuck yourselfgo fuck yourselfgo fuck yourselfgo fuck yourselfgo fuck yourselfgo fuck yourselfgo fuck yourselfgo fuck yourselfgo fuck yourselfgo fuck yourselfgo fuck yourselfgo fuck yourselfgo fuck yourselfgo fuck yourselfgo fuck yourselfgo fuck yourselfgo fuck yourselfgo fuck yourselfgo fuck yourselfgo fuck yourselfgo fuck yourselfgo fuck yourselfgo fuck yourselfgo fuck yourselfgo fuck yourselfgo fuck yourselfgo fuck yourselfgo fuck yourselfgo fuck yourselfgo fuck yourselfgo fuck yourselfgo fuck yourselfgo fuck yourselfgo fuck yourselfgo fuck yourselfgo fuck yourselfgo fuck yourselfgo fuck yourselfgo fuck yourselfgo fuck yourselfgo fuck yourselfgo fuck yourselfgo fuck yourselfgo fuck yourselfgo fuck yourselfgo fuck yourselfgo fuck yourselfgo fuck yourselfgo fuck yourselfgo fuck yourselfgo fuck yourselfgo fuck yourselfgo fuck yourselfgo fuck yourselfgo fuck yourselfgo fuck yourselfgo fuck yourselfgo fuck yourselfgo fuck yourselfgo fuck yourselfgo fuck yourselfgo fuck yourselfgo fuck yourselfgo fuck yourselfgo fuck yourselfgo fuck yourselfgo fuck yourselfgo fuck yourselfgo fuck yourselfgo fuck yourselfgo fuck yourselfgo fuck yourselfgo fuck yourselfgo fuck yourselfgo fuck yourselfgo fuck yourselfgo fuck yourselfgo fuck yourselfgo fuck yourselfgo fuck yourselfgo fuck yourselfgo fuck yourselfgo fuck yourselfgo fuck yourselfgo fuck yourselfgo fuck yourselfgo fuck yourselfgo fuck yourselfgo fuck yourselfgo fuck yourselfgo fuck yourselfgo fuck yourselfgo fuck yourselfgo fuck yourselfgo fuck yourselfgo fuck yourselfgo fuck yourselfgo fuck yourselfgo fuck yourselfgo fuck yourselfgo fuck yourselfgo fuck yourselfgo fuck yourselfgo fuck yourselfgo fuck yourselfgo fuck yourselfgo fuck yourselfgo fuck yourselfgo fuck yourselfgo fuck yourselfgo fuck yourselfgo fuck yourselfgo fuck yourselfgo fuck yourselfgo fuck yourselfgo fuck yourselfgo fuck yourselfgo fuck yourselfgo fuck yourselfgo fuck yourselfgo fuck yourselfgo fuck yourselfgo fuck yourselfgo fuck yourselfgo fuck yourselfgo fuck yourselfgo fuck yourselfgo fuck yourselfgo fuck yourselfgo fuck yourselfgo fuck yourselfgo fuck yourselfgo fuck yourselfgo fuck yourselfgo fuck yourselfgo fuck yourselfgo fuck yourselfgo fuck yourselfgo fuck yourselfgo fuck yourselfgo fuck yourselfgo fuck yourselfgo fuck yourselfgo fuck yourselfgo fuck yourselfgo fuck yourselfgo fuck yourselfgo fuck yourselfgo fuck yourselfgo fuck yourselfgo fuck yourselfgo fuck yourselfgo fuck yourselfgo fuck yourselfgo fuck yourselfgo fuck yourselfgo fuck yourselfgo fuck yourselfgo fuck yourselfgo fuck yourselfgo fuck yourselfgo fuck yourselfgo fuck yourselfgo fuck yourselfgo fuck yourselfgo fuck yourselfgo fuck yourselfgo fuck yourselfgo fuck yourselfgo fuck yourselfgo fuck yourselfgo fuck yourselfgo fuck yourselfgo fuck yourselfgo fuck yourselfgo fuck yourselfgo fuck yourselfgo fuck yourselfgo fuck yourselfgo fuck yourselfgo fuck yourselfgo fuck yourselfgo fuck yourselfgo fuck yourselfgo fuck yourselfgo fuck yourselfgo fuck yourselfgo fuck yourselfgo fuck yourselfgo fuck yourselfgo fuck yourselfgo fuck yourselfgo fuck yourselfgo fuck yourselfgo fuck yourselfgo fuck yourselfgo fuck yourselfgo fuck yourselfgo fuck yourselfgo fuck yourselfgo fuck yourselfgo fuck yourselfgo fuck yourselfgo fuck yourselfgo fuck yourselfgo fuck yourselfgo fuck yourselfgo fuck yourselfgo fuck yourselfgo fuck yourselfgo fuck yourselfgo fuck yourselfgo fuck yourselfgo fuck yourselfgo fuck yourselfgo fuck yourselfgo fuck yourselfgo fuck yourselfgo fuck yourselfgo fuck yourselfgo fuck yourselfgo fuck yourselfgo fuck yourselfgo fuck yourselfgo fuck yourselfgo fuck yourselfgo fuck yourselfgo fuck yourselfgo fuck yourselfgo fuck yourselfgo fuck yourselfgo fuck yourselfgo fuck yourselfgo fuck yourselfgo fuck yourselfgo fuck yourselfgo fuck yourselfgo fuck yourselfgo fuck yourselfgo fuck yourselfgo fuck yourselfgo fuck yourselfgo fuck yourselfgo fuck yourselfgo fuck yourselfgo fuck yourselfgo fuck yourselfgo fuck yourselfgo fuck yourselfgo fuck yourselfgo fuck yourselfgo fuck yourselfgo fuck yourselfgo fuck yourselfgo fuck yourselfgo fuck yourselfgo fuck yourselfgo fuck yourselfgo fuck yourselfgo fuck yourselfgo fuck yourselfgo fuck yourselfgo fuck yourselfgo fuck yourselfgo fuck yourselfgo fuck yourselfgo fuck yourselfgo fuck yourselfgo fuck yourselfgo fuck yourselfgo fuck yourselfgo fuck yourselfgo fuck yourselfgo fuck yourselfgo fuck yourselfgo fuck yourselfgo fuck yourselfgo fuck yourselfgo fuck yourselfgo fuck yourselfgo fuck yourselfgo fuck yourselfgo fuck yourselfgo fuck yourselfgo fuck yourselfgo fuck yourselfgo fuck yourselfgo fuck yourselfgo fuck yourselfgo fuck yourselfgo fuck yourselfgo fuck yourselfgo fuck yourselfgo fuck yourselfgo fuck yourselfgo fuck yourselfgo fuck yourselfgo fuck yourselfgo fuck yourselfgo fuck yourselfgo fuck yourselfgo fuck yourselfgo fuck yourselfgo fuck yourselfgo fuck yourselfgo fuck yourselfgo fuck yourselfgo fuck yourselfgo fuck yourselfgo fuck yourselfgo fuck yourselfgo fuck yourselfgo fuck yourselfgo fuck yourselfgo fuck yourselfgo fuck yourselfgo fuck yourselfgo fuck yourselfgo fuck yourselfgo fuck yourselfgo fuck yourselfgo fuck yourselfgo fuck yourselfgo fuck yourselfgo fuck yourselfgo fuck yourselfgo fuck yourselfgo fuck yourselfgo fuck yourselfgo fuck yourselfgo fuck yourselfgo fuck yourselfgo fuck yourselfgo fuck yourselfgo fuck yourselfgo fuck yourselfgo fuck yourselfgo fuck yourselfgo fuck yourselfgo fuck yourselfgo fuck yourselfgo fuck yourselfgo fuck yourselfgo fuck yourselfgo fuck yourselfgo fuck yourselfgo fuck yourselfgo fuck yourselfgo fuck yourselfgo fuck yourselfgo fuck yourselfgo fuck yourselfgo fuck yourselfgo fuck yourselfgo fuck yourselfgo fuck yourselfgo fuck yourselfgo fuck yourselfgo fuck yourselfgo fuck yourselfgo fuck yourselfgo fuck yourselfgo fuck yourselfgo fuck yourselfgo fuck yourselfgo fuck yourselfgo fuck yourselfgo fuck yourselfgo fuck yourselfgo fuck yourselfgo fuck yourselfgo fuck yourselfgo fuck yourselfgo fuck yourselfgo fuck yourselfgo fuck yourselfgo fuck yourselfgo fuck yourselfgo fuck yourselfgo fuck yourselfgo fuck yourselfgo fuck yourselfgo fuck yourselfgo fuck yourselfgo fuck yourselfgo fuck yourselfgo fuck yourselfgo fuck yourselfgo fuck yourselfgo fuck yourselfgo fuck yourselfgo fuck yourselfgo fuck yourselfgo fuck yourselfgo fuck yourselfgo fuck yourselfgo fuck yourselfgo fuck yourselfgo fuck yourselfgo fuck yourselfgo fuck yourselfgo fuck yourselfgo fuck yourselfgo fuck yourselfgo fuck yourselfgo fuck yourselfgo fuck yourselfgo fuck yourselfgo fuck yourselfgo fuck yourselfgo fuck yourselfgo fuck yourselfgo fuck yourselfgo fuck yourselfgo fuck yourselfgo fuck yourselfgo fuck yourselfgo fuck yourselfgo fuck yourselfgo fuck yourselfgo fuck yourselfgo fuck yourselfgo fuck yourselfgo fuck yourselfgo fuck yourselfgo fuck yourselfgo fuck yourselfgo fuck yourselfgo fuck yourselfgo fuck yourselfgo fuck yourselfgo fuck yourselfgo fuck yourselfgo fuck yourselfgo fuck yourselfgo fuck yourselfgo fuck yourselfgo fuck yourselfgo fuck yourselfgo fuck yourselfgo fuck yourselfgo fuck yourselfgo fuck yourselfgo fuck yourselfgo fuck yourselfgo fuck yourselfgo fuck yourselfgo fuck yourselfgo fuck yourselfgo fuck yourselfgo fuck yourselfgo fuck yourselfgo fuck yourselfgo fuck yourselfgo fuck yourselfgo fuck yourselfgo fuck yourselfgo fuck yourselfgo fuck yourselfgo fuck yourselfgo fuck yourselfgo fuck yourselfgo fuck yourselfgo fuck yourselfgo fuck yourselfgo fuck yourselfgo fuck yourselfgo fuck yourselfgo fuck yourselfgo fuck yourselfgo fuck yourselfgo fuck yourselfgo fuck yourselfgo fuck yourselfgo fuck yourselfgo fuck yourselfgo fuck yourselfgo fuck yourselfgo fuck yourselfgo fuck yourselfgo fuck yourselfgo fuck yourselfgo fuck yourselfgo fuck yourselfgo fuck yourselfgo fuck yourselfgo fuck yourselfgo fuck yourselfgo fuck yourselfgo fuck yourselfgo fuck yourselfgo fuck yourselfgo fuck yourselfgo fuck yourselfgo fuck yourselfgo fuck yourselfgo fuck yourselfgo fuck yourselfgo fuck yourselfgo fuck yourselfgo fuck yourselfgo fuck yourselfgo fuck yourselfgo fuck yourselfgo fuck yourselfgo fuck yourselfgo fuck yourselfgo fuck yourselfgo fuck yourselfgo fuck yourselfgo fuck yourselfgo fuck yourselfgo fuck yourselfgo fuck yourselfgo fuck yourselfgo fuck yourselfgo fuck yourselfgo fuck yourselfgo fuck yourselfgo fuck yourselfgo fuck yourselfgo fuck yourselfgo fuck yourselfgo fuck yourselfgo fuck yourselfgo fuck yourselfgo fuck yourselfgo fuck yourselfgo fuck yourselfgo fuck yourselfgo fuck yourselfgo fuck yourselfgo fuck yourselfgo fuck yourselfgo fuck yourselfgo fuck yourselfgo fuck yourselfgo fuck yourselfgo fuck yourselfgo fuck yourselfgo fuck yourselfgo fuck yourselfgo fuck yourselfgo fuck yourselfgo fuck yourselfgo fuck yourselfgo fuck yourselfgo fuck yourselfgo fuck yourselfgo fuck yourselfgo fuck yourselfgo fuck yourselfgo fuck yourselfgo fuck yourselfgo fuck yourselfgo fuck yourselfgo fuck yourselfgo fuck yourselfgo fuck yourselfgo fuck yourselfgo fuck yourselfgo fuck yourselfgo fuck yourselfgo fuck yourselfgo fuck yourselfgo fuck yourselfgo fuck yourselfgo fuck yourselfgo fuck yourselfgo fuck yourselfgo fuck yourselfgo fuck yourselfgo fuck yourselfgo fuck yourselfgo fuck yourselfgo fuck yourselfgo fuck yourselfgo fuck yourselfgo fuck yourselfgo fuck yourselfgo fuck yoursel   \n",
       "6121   leari CAN STILL POST WITH THIS COMPUTER...I SAID BLOCK ME, COME THE FUCK DOWN HERE AND ARREST ME...SAN DIEGO CALIFORNIA, CHULA VISTA, FUCKING GET YOUR INFORMATION RIGHT FAGGOT SHITHEAD!!i CAN STILL POST WITH THIS COMPUTER...I SAID BLOCK ME, COME THE FUCK DOWN HERE AND ARREST ME...SAN DIEGO CALIFORNIA, CHULA VISTA, FUCKING GET YOUR INFORMATION RIGHT FAGGOT SHITHEAD!!i CAN STILL POST WITH THIS COMPUTER...I SAID BLOCK ME, COME THE FUCK DOWN HERE AND ARREST ME...SAN DIEGO CALIFORNIA, CHULA VISTA, FUCKING GET YOUR INFORMATION RIGHT FAGGOT SHITHEAD!!i CAN STILL POST WITH THIS COMPUTER...I SAID BLOCK ME, COME THE FUCK DOWN HERE AND ARREST ME...SAN DIEGO CALIFORNIA, CHULA VISTA, FUCKING GET YOUR INFORMATION RIGHT FAGGOT SHITHEAD!!i CAN STILL POST WITH THIS COMPUTER...I SAID BLOCK ME, COME THE FUCK DOWN HERE AND ARREST ME...SAN DIEGO CALIFORNIA, CHULA VISTA, FUCKING GET YOUR INFORMATION RIGHT FAGGOT SHITHEAD!!i CAN STILL POST WITH THIS COMPUTER...I SAID BLOCK ME, COME THE FUCK DOWN HERE AND ARREST ME...SAN DIEGO CALIFORNIA, CHULA VISTA, FUCKING GET YOUR INFORMATION RIGHT FAGGOT SHITHEAD!!i CAN STILL POST WITH THIS COMPUTER...I SAID BLOCK ME, COME THE FUCK DOWN HERE AND ARREST ME...SAN DIEGO CALIFORNIA, CHULA VISTA, FUCKING GET YOUR INFORMATION RIGHT FAGGOT SHITHEAD!!i CAN STILL POST WITH THIS COMPUTER...I SAID BLOCK ME, COME THE FUCK DOWN HERE AND ARREST ME...SAN DIEGO CALIFORNIA, CHULA VISTA, FUCKING GET YOUR INFORMATION RIGHT FAGGOT SHITHEAD!!i CAN STILL POST WITH THIS COMPUTER...I SAID BLOCK ME, COME THE FUCK DOWN HERE AND ARREST ME...SAN DIEGO CALIFORNIA, CHULA VISTA, FUCKING GET YOUR INFORMATION RIGHT FAGGOT SHITHEAD!!i CAN STILL POST WITH THIS COMPUTER...I SAID BLOCK ME, COME THE FUCK DOWN HERE AND ARREST ME...SAN DIEGO CALIFORNIA, CHULA VISTA, FUCKING GET YOUR INFORMATION RIGHT FAGGOT SHITHEAD!!i CAN STILL POST WITH THIS COMPUTER...I SAID BLOCK ME, COME THE FUCK DOWN HERE AND ARREST ME...SAN DIEGO CALIFORNIA, CHULA VISTA, FUCKING GET YOUR INFORMATION RIGHT FAGGOT SHITHEAD!!i CAN STILL POST WITH THIS COMPUTER...I SAID BLOCK ME, COME THE FUCK DOWN HERE AND ARREST ME...SAN DIEGO CALIFORNIA, CHULA VISTA, FUCKING GET YOUR INFORMATION RIGHT FAGGOT SHITHEAD!!i CAN STILL POST WITH THIS COMPUTER...I SAID BLOCK ME, COME THE FUCK DOWN HERE AND ARREST ME...SAN DIEGO CALIFORNIA, CHULA VISTA, FUCKING GET YOUR INFORMATION RIGHT FAGGOT SHITHEAD!!i CAN STILL POST WITH THIS COMPUTER...I SAID BLOCK ME, COME THE FUCK DOWN HERE AND ARREST ME...SAN DIEGO CALIFORNIA, CHULA VISTA, FUCKING GET YOUR INFORMATION RIGHT FAGGOT SHITHEAD!!i CAN STILL POST WITH THIS COMPUTER...I SAID BLOCK ME, COME THE FUCK DOWN HERE AND ARREST ME...SAN DIEGO CALIFORNIA, CHULA VISTA, FUCKING GET YOUR INFORMATION RIGHT FAGGOT SHITHEAD!!i CAN STILL POST WITH THIS COMPUTER...I SAID BLOCK ME, COME THE FUCK DOWN HERE AND ARREST ME...SAN DIEGO CALIFORNIA, CHULA VISTA, FUCKING GET YOUR INFORMATION RIGHT FAGGOT SHITHEAD!!i CAN STILL POST WITH THIS COMPUTER...I SAID BLOCK ME, COME THE FUCK DOWN HERE AND ARREST ME...SAN DIEGO CALIFORNIA, CHULA VISTA, FUCKING GET YOUR INFORMATION RIGHT FAGGOT SHITHEAD!!i CAN STILL POST WITH THIS COMPUTER...I SAID BLOCK ME, COME THE FUCK DOWN HERE AND ARREST ME...SAN DIEGO CALIFORNIA, CHULA VISTA, FUCKING GET YOUR INFORMATION RIGHT FAGGOT SHITHEAD!!i CAN STILL POST WITH THIS COMPUTER...I SAID BLOCK ME, COME THE FUCK DOWN HERE AND ARREST ME...SAN DIEGO CALIFORNIA, CHULA VISTA, FUCKING GET YOUR INFORMATION RIGHT FAGGOT SHITHEAD!!i CAN STILL POST WITH THIS COMPUTER...I SAID BLOCK ME, COME THE FUCK DOWN HERE AND ARREST ME...SAN DIEGO CALIFORNIA, CHULA VISTA, FUCKING GET YOUR INFORMATION RIGHT FAGGOT SHITHEAD!!i CAN STILL POST WITH THIS COMPUTER...I SAID BLOCK ME, COME THE FUCK DOWN HERE AND ARREST ME...SAN DIEGO CALIFORNIA, CHULA VISTA, FUCKING GET YOUR INFORMATION RIGHT FAGGOT SHITHEAD!!i CAN STILL POST WITH THIS COMPUTER...I SAID BLOCK ME, COME THE FUCK DOWN HERE AND ARREST ME...SAN DIEGO CALIFORNIA, CHULA VISTA, FUCKING GET YOUR INFORMATION RIGHT FAGGOT SHITHEAD!!i CAN STILL POST WITH THIS COMPUTER...I SAID BLOCK ME, COME THE FUCK DOWN HERE AND ARREST ME...SAN DIEGO CALIFORNIA, CHULA VISTA, FUCKING GET YOUR INFORMATION RIGHT FAGGOT SHITHEAD!!i CAN STILL POST WITH THIS COMPUTER...I SAID BLOCK ME, COME THE FUCK DOWN HERE AND ARREST ME...SAN DIEGO CALIFORNIA, CHULA VISTA, FUCKING GET YOUR INFORMATION RIGHT FAGGOT SHITHEAD!!i CAN STILL POST WITH THIS COMPUTER...I SAID BLOCK ME, COME THE FUCK DOWN HERE AND ARREST ME...SAN DIEGO CALIFORNIA, CHULA VISTA, FUCKING GET YOUR INFORMATION RIGHT FAGGOT SHITHEAD!!i CAN STILL POST WITH THIS COMPUTER...I SAID BLOCK ME, COME THE FUCK DOWN HERE AND ARREST ME...SAN DIEGO CALIFORNIA, CHULA VISTA, FUCKING GET YOUR INFORMATION RIGHT FAGGOT SHITHEAD!!i CAN STILL POST WITH THIS COMPUTER...I SAID BLOCK ME, COME THE FUCK DOWN HERE AND ARREST ME...SAN DIEGO CALIFORNIA, CHULA VISTA, FUCKING GET YOUR INFORMATION RIGHT FAGGOT SHITHEAD!!i CAN STILL POST WITH THIS COMPUTER...I SAID BLOCK ME, COME THE FUCK DOWN HERE AND ARREST ME...SAN DIEGO CALIFORNIA, CHULA VISTA, FUCKING GET YOUR INFORMATION RIGHT FAGGOT SHITHEAD!!i CAN STILL POST WITH THIS COMPUTER...I SAID BLOCK ME, COME THE FUCK DOWN HERE AND ARREST ME...SAN DIEGO CALIFORNIA, CHULA VISTA, FUCKING GET YOUR INFORMATION RIGHT FAGGOT SHITHEAD!!i CAN STILL POST WITH THIS COMPUTER...I SAID BLOCK ME, COME THE FUCK DOWN HERE AND ARREST ME...SAN DIEGO CALIFORNIA, CHULA VISTA, FUCKING GET YOUR INFORMATION RIGHT FAGGOT SHITHEAD!!i CAN STILL POST WITH THIS COMPUTER...I SAID BLOCK ME, COME THE FUCK DOWN HERE AND ARREST ME...SAN DIEGO CALIFORNIA, CHULA VISTA, FUCKING GET YOUR INFORMATION RIGHT FAGGOT SHITHEAD!!i CAN STILL POST WITH THIS COMPUTER...I SAID BLOCK ME, COME THE FUCK DOWN HERE AND ARREST ME...SAN DIEGO CALIFORNIA, CHULA VISTA, FUCKING GET YOUR INFORMATION RIGHT FAGGOT SHITHEAD!!i CAN STILL POST WITH THIS COMPUTER...I SAID BLOCK ME, COME THE FUCK DOWN HERE AND ARREST ME...SAN DIEGO CALIFORNIA, CHULA VISTA, FUCKING GET YOUR INFORMATION RIGHT FAGGOT SHITHEAD!!i CAN STILL POST WITH THIS COMPUTER...I SAID BLOCK ME, COME THE FUCK DOWN HERE AND ARREST ME...SAN DIEGO CALIFORNIA, CHULA VISTA, FUCKING GET YOUR INFORMATION RIGHT FAGGOT SHITHEAD!!i CAN STILL POST WITH THIS COMPUTER...I SAID BLOCK ME, COME THE FUCK DOWN HERE AND ARREST ME...SAN DIEGO CALIFORNIA, CHULA VISTA, FUCKING GET YOUR INFORMATION RIGHT FAGGOT SHITHEAD!!i CAN STILL POST WITH THIS COMPUTER...I SAID BLOCK ME, COME THE FUCK DOWN HERE AND ARREST ME...SAN DIEGO CALIFORNIA, CHULA VISTA, FUCKING GET YOUR INFORMATION RIGHT FAGGOT SHITHEAD!!i CAN STILL POST WITH THIS COMPUTER...I SAID BLOCK ME, COME THE FUCK DOWN HERE AND ARREST ME...SAN DIEGO CALIFORNIA, CHULA VISTA, FUCKING GET YOUR INFORMATION RIGHT FAGGOT SHITHEAD!!i CAN STILL POST WITH THIS COMPUTER...I SAID BLOCK ME, COME THE FUCK DOWN HERE AND ARREST ME...SAN DIEGO CALIFORNIA, CHULA VISTA, FUCKING GET YOUR INFORMATION RIGHT FAGGOT SHITHEAD!!i CAN STILL POST WITH THIS COMPUTER...I SAID BLOCK ME, COME THE FUCK DOWN HERE AND ARREST ME...SAN DIEGO CALIFORNIA, CHULA VISTA, FUCKING GET YOUR INFORMATION RIGHT FAGGOT SHITHEAD!!i CAN STILL POST WITH THIS COMPUTER...I SAID BLOCK ME, COME THE FUCK DOWN HERE AND ARREST ME...SAN DIEGO CALIFORNIA, CHULA VISTA, FUCKING GET YOUR INFORMATION RIGHT FAGGOT SHITHEAD!!i CAN STILL POST WITH THIS COMPUTER...I SAID BLOCK ME, COME THE FUCK DOWN HERE AND ARREST ME...SAN DIEGO CALIFORNIA, CHULA VISTA, FUCKING GET YOUR INFORMATION RIGHT FAGGOT SHITHEAD!!i CAN STILL POST WITH THIS COMPUTER...I SAID BLOCK ME, COME THE FUCK DOWN HERE AND ARREST ME...SAN DIEGO CALIFORNIA, CHULA VISTA, FUCKING GET YOUR INFORMATION RIGHT FAGGOT SHITHEAD!!i CAN STILL POST WITH THIS COMPUTER...I SAID BLOCK ME, COME THE FUCK DOWN HERE AND ARREST ME...SAN DIEGO CALIFORNIA, CHULA VISTA, FUCKING GET YOUR INFORMATION RIGHT FAGGOT SHITHEAD!!i CAN STILL POST WITH THIS COMPUTER...I SAID BLOCK ME, COME THE FUCK DOWN HERE AND ARREST ME...SAN DIEGO CALIFORNIA, CHULA VISTA, FUCKING GET YOUR INFORMATION RIGHT FAGGOT SHITHEAD!!i CAN STILL POST WITH THIS COMPUTER...I SAID BLOCK ME, COME THE FUCK DOWN HERE AND ARREST ME...SAN DIEGO CALIFORNIA, CHULA VISTA, FUCKING GET YOUR INFORMATION RIGHT FAGGOT SHITHEAD!!i CAN STILL POST WITH THIS COMPUTER...I SAID BLOCK ME, COME THE FUCK DOWN HERE AND ARREST ME...SAN DIEGO CALIFORNIA, CHULA VISTA, FUCKING GET YOUR INFORMATION RIGHT FAGGOT SHITHEAD!!i CAN STILL POST WITH THIS COMPUTER...I SAID BLOCK ME, COME THE FUCK DOWN HERE AND ARREST ME...SAN DIEGO CALIFORNIA, CHULA VISTA, FUCKING GET YOUR INFORMATION RIGHT FAGGOT SHITHEAD!!i CAN STILL POST WITH THIS COMPUTER...I SAID BLOCK ME, COME THE FUCK DOWN HERE AND ARREST ME...SAN DIEGO CALIFORNIA, CHULA VISTA, FUCKING GET YOUR INFORMATION RIGHT FAGGOT SHITHEAD!!i CAN STILL POST WITH THIS COMPUTER...I SAID BLOCK ME, COME THE FUCK DOWN HERE AND ARREST ME...SAN DIEGO CALIFORNIA, CHULA VISTA, FUCKING GET YOUR INFORMATION RIGHT FAGGOT SHITHEAD!!i CAN STILL POST WITH THIS COMPUTER...I SAID BLOCK ME, COME THE FUCK DOWN HERE AND ARREST ME...SAN DIEGO CALIFORNIA, CHULA VISTA, FUCKING GET YOUR INFORMATION RIGHT FAGGOT SHITHEAD!!i CAN STILL POST WITH THIS COMPUTER...I SAID BLOCK ME, COME THE FUCK DOWN HERE AND ARREST ME...SAN DIEGO CALIFORNIA, CHULA VISTA, FUCKING GET YOUR INFORMATION RIGHT FAGGOT SHITHEAD!!i CAN STILL POST WITH THIS COMPUTER...I SAID BLOCK ME, COME THE FUCK DOWN HERE AND ARREST ME...SAN DIEGO CALIFORNIA, CHULA VISTA, FUCKING GET YOUR INFORMATION RIGHT FAGGOT SHITHEAD!!i CAN STILL POST WITH THIS COMPUTER...I SAID BLOCK ME, COME THE FUCK DOWN HERE AND ARREST ME...SAN DIEGO CALIFORNIA, CHULA VISTA, FUCKING GET YOUR INFORMATION RIGHT FAGGOT SHITHEAD!!i CAN STILL POST WITH THIS COMPUTER...I SAID BLOCK ME, COME THE FUCK DOWN HERE AND ARREST ME...SAN DIEGO CALIFORNIA, CHULA VISTA, FUCKING GET YOUR INFORMATION RIGHT FAGGOT SHITHEAD!!i CAN STILL POST WITH THIS COMPUTER...I SAID BLOCK ME, COME THE FUCK DOWN HERE AND ARREST ME...SAN DIEGO CALIFORNIA, CHULA VISTA, FUCKING GET YOUR INFORMATION RIGHT FAG   \n",
       "15167  WANKER WANKER WANKER WANKER WANKER WANKER WANKER WANKER WANKER WANKER WANKER WANKER WANKER WANKER WANKER WANKER WANKER WANKER WANKER WANKER WANKER WANKER WANKER WANKER WANKER WANKER WANKER WANKER WANKER WANKER WANKER WANKER WANKER WANKER WANKER WANKER WANKER WANKER WANKER WANKER WANKER WANKER WANKER WANKER WANKER WANKER WANKER WANKER WANKER WANKER WANKER WANKER WANKER WANKER WANKER WANKER WANKER WANKER WANKER WANKER WANKER WANKER WANKER WANKER WANKER WANKER WANKER WANKER WANKER WANKER WANKER WANKER WANKER WANKER WANKER WANKER WANKER WANKER WANKER WANKER WANKER WANKER WANKER WANKER WANKER WANKER WANKER WANKER WANKER WANKER WANKER WANKER WANKER WANKER WANKER WANKER WANKER WANKER WANKER WANKER WANKER WANKER WANKER WANKER WANKER WANKER WANKER WANKER WANKER WANKER WANKER WANKER WANKER WANKER WANKER WANKER WANKER WANKER WANKER WANKER WANKER WANKER WANKER WANKER WANKER WANKER WANKER WANKER WANKER WANKER WANKER WANKER WANKER WANKER WANKER WANKER WANKER WANKER WANKER WANKER WANKER WANKER WANKER WANKER WANKER WANKER WANKER WANKER WANKER WANKER WANKER WANKER WANKER WANKER WANKER WANKER WANKER WANKER WANKER WANKER WANKER WANKER WANKER WANKER WANKER WANKER WANKER WANKER WANKER WANKER WANKER WANKER WANKER WANKER WANKER WANKER WANKER WANKER WANKER WANKER WANKER WANKER WANKER WANKER WANKER WANKER WANKER WANKER WANKER WANKER WANKER WANKER WANKER WANKER WANKER WANKER WANKER WANKER WANKER WANKER WANKER WANKER WANKER WANKER WANKER WANKER WANKER WANKER WANKER WANKER WANKER WANKER WANKER WANKER WANKER WANKER WANKER WANKER WANKER WANKER WANKER WANKER WANKER WANKER WANKER WANKER WANKER WANKER WANKER WANKER WANKER WANKER WANKER WANKER WANKER WANKER WANKER WANKER WANKER WANKER WANKER WANKER WANKER WANKER WANKER WANKER WANKER WANKER WANKER WANKER WANKER WANKER WANKER WANKER WANKER WANKER WANKER WANKER WANKER WANKER WANKER WANKER WANKER WANKER WANKER WANKER WANKER WANKER WANKER WANKER WANKER WANKER WANKER WANKER WANKER WANKER WANKER WANKER WANKER WANKER WANKER WANKER WANKER WANKER WANKER WANKER WANKER WANKER WANKER WANKER WANKER WANKER WANKER WANKER WANKER WANKER WANKER WANKER WANKER WANKER WANKER WANKER WANKER WANKER WANKER WANKER WANKER WANKER WANKER WANKER WANKER WANKER WANKER WANKER WANKER WANKER WANKER WANKER WANKER WANKER WANKER WANKER WANKER WANKER WANKER WANKER WANKER WANKER WANKER WANKER WANKER WANKER WANKER WANKER WANKER WANKER WANKER WANKER WANKER WANKER WANKER WANKER WANKER WANKER WANKER WANKER WANKER WANKER WANKER WANKER WANKER WANKER WANKER WANKER WANKER WANKER WANKER WANKER WANKER WANKER WANKER WANKER WANKER WANKER WANKER WANKER WANKER WANKER WANKER WANKER WANKER WANKER WANKER WANKER WANKER WANKER WANKER WANKER WANKER WANKER WANKER WANKER WANKER WANKER WANKER WANKER WANKER WANKER WANKER WANKER WANKER WANKER WANKER WANKER WANKER WANKER WANKER WANKER WANKER WANKER WANKER WANKER WANKER WANKER WANKER WANKER WANKER WANKER WANKER WANKER WANKER WANKER WANKER WANKER WANKER WANKER WANKER WANKER WANKER WANKER WANKER WANKER WANKER WANKER WANKER WANKER WANKER WANKER WANKER WANKER WANKER WANKER WANKER WANKER WANKER WANKER WANKER WANKER WANKER WANKER WANKER WANKER WANKER WANKER WANKER WANKER WANKER WANKER WANKER WANKER WANKER WANKER WANKER WANKER WANKER WANKER WANKER WANKER WANKER WANKER WANKER WANKER WANKER WANKER WANKER WANKER WANKER WANKER WANKER WANKER WANKER WANKER WANKER WANKER WANKER WANKER WANKER WANKER WANKER WANKER WANKER WANKER WANKER WANKER WANKER WANKER WANKER WANKER WANKER WANKER WANKER WANKER WANKER WANKER WANKER WANKER WANKER WANKER WANKER WANKER WANKER WANKER WANKER WANKER WANKER WANKER WANKER WANKER WANKER WANKER WANKER WANKER WANKER WANKER WANKER WANKER WANKER WANKER WANKER WANKER WANKER WANKER WANKER WANKER WANKER WANKER WANKER WANKER WANKER WANKER WANKER WANKER WANKER WANKER WANKER WANKER WANKER WANKER WANKER WANKER WANKER WANKER WANKER WANKER WANKER WANKER WANKER WANKER WANKER WANKER WANKER WANKER WANKER WANKER WANKER WANKER WANKER WANKER WANKER WANKER WANKER WANKER WANKER WANKER WANKER WANKER WANKER WANKER WANKER WANKER WANKER WANKER WANKER WANKER WANKER WANKER WANKER WANKER WANKER WANKER WANKER WANKER WANKER WANKER WANKER WANKER WANKER WANKER WANKER WANKER WANKER WANKER WANKER WANKER WANKER WANKER WANKER WANKER WANKER WANKER WANKER WANKER WANKER WANKER WANKER WANKER WANKER WANKER WANKER WANKER WANKER WANKER WANKER WANKER WANKER WANKER WANKER WANKER WANKER WANKER WANKER WANKER WANKER WANKER WANKER WANKER WANKER WANKER WANKER WANKER WANKER WANKER WANKER WANKER WANKER WANKER WANKER WANKER WANKER WANKER WANKER WANKER WANKER WANKER WANKER WANKER WANKER WANKER WANKER WANKER WANKER WANKER WANKER WANKER WANKER WANKER WANKER WANKER WANKER WANKER WANKER WANKER WANKER WANKER WANKER WANKER WANKER WANKER WANKER WANKER WANKER WANKER WANKER WANKER WANKER WANKER WANKER WANKER WANKER WANKER WANKER WANKER WANKER WANKER WANKER WANKER WANKER WANKER WANKER WANKER WANKER WANKER WANKER WANKER WANKER WANKER WANKER WANKER WANKER WANKER WANKER WANKER WANKER WANKER WANKER WANKER WANKER WANKER WANKER WANKER WANKER WANKER WANKER WANKER WANKER WANKER WANKER WANKER WANKER WANKER WANKER WANKER WANKER WANKER WANKER WANKER WANKER WANKER WANKER WANKER WANKER WANKER WANKER WANKER WANKER WANKER WANKER WANKER WANKER WANKER WANKER WANKER WANKER WANKER WANKER WANKER WANKER WANKER WANKER WANKER WANKER WANKER WANKER WANKER WANKER WANKER WANKER WANKER WANKER WANKER WANKER WANKER WANKER WANKER WANKER WANKER WANKER WANKER WANKER WANKER WANKER WANKER WANKER WANKER WANKER WANKER WANKER WANKER WANKER WANKER WANKER WANKER WANKER WANKER WANKER WANKER WANKER WANKER WANKER WANKER WANKER WANKER WANKER WANKER WANKER WANKER WANKER WANKER WANKER WANKER WANKER WANKER WANKER WANKER WANKER WANKER WANKER WANKER WANKER WANKER WANKER WANKER WANKER WANKER WANKER WANKER WANKER WANKER WANKER WANKER WANKER WANKER WANKER WANKER WANKER WANKER WANKER WANKER WANKER WANKER WANKER WANKER WANKER WANKER WANKER WANKER WANKER WANKER WANKER WANKER WANKER WANKER WANKER WANKER WANKER WANKER WANKER WANKER WANKER WANKER WANKER WANKER WANKER WANKER WANKER WANKER WANKER WANKER WANKER WANKER WANKER WANKER WANKER WANKER WANKER WANKER WANKER WANKER WANKER WANKER WANKER WANKER WANKER WANKER WANKER WANKER WANKER WANKER WANKER WANKER WANKER WANKER WANKER WANKER WANKER WANKER WANKER WANKER WANKER WANKER WANKER WANKER WANKER WANKER WANKER WANKER WANKER WANKER WANKER WANKER WANKER WANKER WANKER WANKER WANKER WANKER WANKER WANKER WANKER WANKER WANKER WANKER WANKER WANKER WANKER WANKER WANKER WANKER WANKER WANKER WANKER WANKER WANKER WANKER WANKER WANKER WANKER WANKER WANKER WANKER WANKER WANKER WANKER WANKER WANKER WANKER WANKER WANKER WANKER WANKER WANKER WANKER WANKER WANKER WANKER WANKER WANKER WANKER WANKER WANKER WANKER WANKER WANKER WANKER WANKER WANKER WANKER WANKER WANKER WANKER WANKER WANKER WANKER WANKER WANKER WANKER WANKER WANKER WANKER WANKER WANKER WANKER WANKER WANKER WANKER WANKER WANKER WANKER WANKER WANKER WANKER WANKER WANKER WANKER WANKER WANKER WANKER WANKER WANKER WANKER WANKER WANKER WANKER WANKER WANKER WANKER WANKER WANKER WANKER WANKER WANKER WANKER WANKER WANKER WANKER WANKER WANKER WANKER WANKER WANKER WANKER WANKER WANKER WANKER WANKER WANKER WANKER WANKER WANKER WANKER WANKER WANKER WANKER WANKER WANKER WANKER WANKER WANKER WANKER WANKER WANKER WANKER WANKER WANKER WANKER WANKER WANKER WANKER WANKER WANKER WANKER WANKER WANKER WANKER WANKER WANKER WANKER WANKER WANKER WANKER WANKER WANKER WANKER WANKER WANKER WANKER WANKER WANKER WANKER WANKER WANKER WANKER WANKER WANKER WANKER WANKER WANKER WANKER WANKER WANKER WANKER WANKER WANKER WANKER WANKER WANKER WANKER WANKER WANKER WANKER WANKER WANKER WANKER WANKER WANKER WANKER WANKER WANKER WANKER WANKER WANKER WANKER WANKER WANKER WANKER WANKER WANKER WANKER WANKER WANKER WANKER WANKER WANKER WANKER WANKER WANKER WANKER WANKER WANKER WANKER WANKER WANKER WANKER WANKER WANKER WANKER WANKER WANKER WANKER WANKER WANKER WANKER WANKER WANKER WANKER WANKER WANKER WANKER WANKER WANKER WANKER WANKER WANKER WANKER WANKER WANKER WANKER WANKER WANKER WANKER WANKER WANKER WANKER WANKER WANKER WANKER WANKER WANKER WANKER WANKER WANKER WANKER WANKER WANKER WANKER WANKER WANKER WANKER WANKER WANKER WANKER WANKER WANKER WANKER WANKER WANKER WANKER WANKER WANKER WANKER WANKER WANKER WANKER WANKER WANKER WANKER WANKER WANKER WANKER WANKER WANKER WANKER WANKER WANKER WANKER WANKER WANKER WANKER WANKER WANKER WANKER WANKER WANKER WANKER WANKER WANKER WANKER WANKER WANKER WANKER WANKER WANKER WANKER WANKER WANKER WANKER WANKER WANKER WANKER WANKER WANKER WANKER WANKER WANKER WANKER WANKER WANKER WANKER WANKER WANKER WANKER WANKER WANKER WANKER WANKER WANKER WANKER WANKER WANKER WANKER WANKER WANKER WANKER WANKER WANKER WANKER WANKER WANKER WANKER WANKER WANKER WANKER WANKER WANKER WANKER WANKER WANKER WANKER WANKER WANKER WANKER WANKER WANKER WANKER WANKER WANKER WANKER WANKER WANKER WANKER WANKER WANKER WANKER WANKER WANKER WANKER WANKER WANKER WANKER WANKER WANKER WANKER WANKER WANKER WANKER WANKER WANKER WANKER WANKER WANKER WANKER WANKER WANKER WANKER WANKER WANKER WANKER WANKER WANKER WANKER WANKER WANKER WANKER WANKER WANKER WANKER WANKER WANKER WANKER WANKER WANKER WANKER WANKER WANKER WANKER WANKER WANKER WANKER WANKER WANKER WANKER WANKER WANKER WANKER WANKER WANKER WANKER WANKER WANKER WANKER WANKER WANKER WANKER WANKER WANKER WANKER WANKER WANKER WANKER WANKER WANKER WANKER WANKER WANKER WANKER WANKER WANKER WANKER WANKER WANKER WANKER WANKER WANKER WANKER WANKER WANKER WANKER WANKER WANKER WANKER WANKER WANKER WANKER WANKER WANKER WANKER WANKER WANKER WANKER WANKER WANKER WANKER WANKER WANKER WANKER WANKER WANKER WANKER WANKER WANKER WANKER WANKER WANKER WANKER WANKER WANKER WANKER WANKER WANKER WANKER WANKER WANKER WANKER WANKER WANKER WANKER WANKER WANKER WANKER WANKER WANKER WANKER WANKER WANKER WANKER WANKER WANKER WANKER WANKER WANKER WANKER WANKER WANKER WANKER WANKER WANKER WANKER WANKER WANKER WANKER WANKER WANKER WANKER WANKER WANKER WANKER WANKER WANKER WANKER WANKER WANKER WANKER WANKER WANKER WANKER WANKER WANKER WANKER WANK   \n",
       "58706  THIS PAGE SHALL BE DELETEDTHIS PAGE SHALL BE DELETEDTHIS PAGE SHALL BE DELETEDTHIS PAGE SHALL BE DELETEDTHIS PAGE SHALL BE DELETEDTHIS PAGE SHALL BE DELETEDTHIS PAGE SHALL BE DELETEDTHIS PAGE SHALL BE DELETEDTHIS PAGE SHALL BE DELETEDTHIS PAGE SHALL BE DELETEDTHIS PAGE SHALL BE DELETEDTHIS PAGE SHALL BE DELETEDTHIS PAGE SHALL BE DELETEDTHIS PAGE SHALL BE DELETEDTHIS PAGE SHALL BE DELETEDTHIS PAGE SHALL BE DELETEDTHIS PAGE SHALL BE DELETEDTHIS PAGE SHALL BE DELETEDTHIS PAGE SHALL BE DELETEDTHIS PAGE SHALL BE DELETEDTHIS PAGE SHALL BE DELETEDTHIS PAGE SHALL BE DELETEDTHIS PAGE SHALL BE DELETEDTHIS PAGE SHALL BE DELETEDTHIS PAGE SHALL BE DELETEDTHIS PAGE SHALL BE DELETEDTHIS PAGE SHALL BE DELETEDTHIS PAGE SHALL BE DELETEDTHIS PAGE SHALL BE DELETEDTHIS PAGE SHALL BE DELETEDTHIS PAGE SHALL BE DELETEDTHIS PAGE SHALL BE DELETEDTHIS PAGE SHALL BE DELETEDTHIS PAGE SHALL BE DELETEDTHIS PAGE SHALL BE DELETEDTHIS PAGE SHALL BE DELETEDTHIS PAGE SHALL BE DELETEDTHIS PAGE SHALL BE DELETEDTHIS PAGE SHALL BE DELETEDTHIS PAGE SHALL BE DELETEDTHIS PAGE SHALL BE DELETEDTHIS PAGE SHALL BE DELETEDTHIS PAGE SHALL BE DELETEDTHIS PAGE SHALL BE DELETEDTHIS PAGE SHALL BE DELETEDTHIS PAGE SHALL BE DELETEDTHIS PAGE SHALL BE DELETEDTHIS PAGE SHALL BE DELETEDTHIS PAGE SHALL BE DELETEDTHIS PAGE SHALL BE DELETEDTHIS PAGE SHALL BE DELETEDTHIS PAGE SHALL BE DELETEDTHIS PAGE SHALL BE DELETEDTHIS PAGE SHALL BE DELETEDTHIS PAGE SHALL BE DELETEDTHIS PAGE SHALL BE DELETEDTHIS PAGE SHALL BE DELETEDTHIS PAGE SHALL BE DELETEDTHIS PAGE SHALL BE DELETEDTHIS PAGE SHALL BE DELETEDTHIS PAGE SHALL BE DELETEDTHIS PAGE SHALL BE DELETEDTHIS PAGE SHALL BE DELETEDTHIS PAGE SHALL BE DELETEDTHIS PAGE SHALL BE DELETEDTHIS PAGE SHALL BE DELETEDTHIS PAGE SHALL BE DELETEDTHIS PAGE SHALL BE DELETEDTHIS PAGE SHALL BE DELETEDTHIS PAGE SHALL BE DELETEDTHIS PAGE SHALL BE DELETEDTHIS PAGE SHALL BE DELETEDTHIS PAGE SHALL BE DELETEDTHIS PAGE SHALL BE DELETEDTHIS PAGE SHALL BE DELETEDTHIS PAGE SHALL BE DELETEDTHIS PAGE SHALL BE DELETEDTHIS PAGE SHALL BE DELETEDTHIS PAGE SHALL BE DELETEDTHIS PAGE SHALL BE DELETEDTHIS PAGE SHALL BE DELETEDTHIS PAGE SHALL BE DELETEDTHIS PAGE SHALL BE DELETEDTHIS PAGE SHALL BE DELETEDTHIS PAGE SHALL BE DELETEDTHIS PAGE SHALL BE DELETEDTHIS PAGE SHALL BE DELETEDTHIS PAGE SHALL BE DELETEDTHIS PAGE SHALL BE DELETEDTHIS PAGE SHALL BE DELETEDTHIS PAGE SHALL BE DELETEDTHIS PAGE SHALL BE DELETEDTHIS PAGE SHALL BE DELETEDTHIS PAGE SHALL BE DELETEDTHIS PAGE SHALL BE DELETEDTHIS PAGE SHALL BE DELETEDTHIS PAGE SHALL BE DELETEDTHIS PAGE SHALL BE DELETEDTHIS PAGE SHALL BE DELETEDTHIS PAGE SHALL BE DELETEDTHIS PAGE SHALL BE DELETEDTHIS PAGE SHALL BE DELETEDTHIS PAGE SHALL BE DELETEDTHIS PAGE SHALL BE DELETEDTHIS PAGE SHALL BE DELETEDTHIS PAGE SHALL BE DELETEDTHIS PAGE SHALL BE DELETEDTHIS PAGE SHALL BE DELETEDTHIS PAGE SHALL BE DELETEDTHIS PAGE SHALL BE DELETEDTHIS PAGE SHALL BE DELETEDTHIS PAGE SHALL BE DELETEDTHIS PAGE SHALL BE DELETEDTHIS PAGE SHALL BE DELETEDTHIS PAGE SHALL BE DELETEDTHIS PAGE SHALL BE DELETEDTHIS PAGE SHALL BE DELETEDTHIS PAGE SHALL BE DELETEDTHIS PAGE SHALL BE DELETEDTHIS PAGE SHALL BE DELETEDTHIS PAGE SHALL BE DELETEDTHIS PAGE SHALL BE DELETEDTHIS PAGE SHALL BE DELETEDTHIS PAGE SHALL BE DELETEDTHIS PAGE SHALL BE DELETEDTHIS PAGE SHALL BE DELETEDTHIS PAGE SHALL BE DELETEDTHIS PAGE SHALL BE DELETEDTHIS PAGE SHALL BE DELETEDTHIS PAGE SHALL BE DELETEDTHIS PAGE SHALL BE DELETEDTHIS PAGE SHALL BE DELETEDTHIS PAGE SHALL BE DELETEDTHIS PAGE SHALL BE DELETEDTHIS PAGE SHALL BE DELETEDTHIS PAGE SHALL BE DELETEDTHIS PAGE SHALL BE DELETEDTHIS PAGE SHALL BE DELETEDTHIS PAGE SHALL BE DELETEDTHIS PAGE SHALL BE DELETEDTHIS PAGE SHALL BE DELETEDTHIS PAGE SHALL BE DELETEDTHIS PAGE SHALL BE DELETEDTHIS PAGE SHALL BE DELETEDTHIS PAGE SHALL BE DELETEDTHIS PAGE SHALL BE DELETEDTHIS PAGE SHALL BE DELETEDTHIS PAGE SHALL BE DELETEDTHIS PAGE SHALL BE DELETEDTHIS PAGE SHALL BE DELETEDTHIS PAGE SHALL BE DELETEDTHIS PAGE SHALL BE DELETEDTHIS PAGE SHALL BE DELETEDTHIS PAGE SHALL BE DELETEDTHIS PAGE SHALL BE DELETEDTHIS PAGE SHALL BE DELETEDTHIS PAGE SHALL BE DELETEDTHIS PAGE SHALL BE DELETEDTHIS PAGE SHALL BE DELETEDTHIS PAGE SHALL BE DELETEDTHIS PAGE SHALL BE DELETEDTHIS PAGE SHALL BE DELETEDTHIS PAGE SHALL BE DELETEDTHIS PAGE SHALL BE DELETEDTHIS PAGE SHALL BE DELETEDTHIS PAGE SHALL BE DELETEDTHIS PAGE SHALL BE DELETEDTHIS PAGE SHALL BE DELETEDTHIS PAGE SHALL BE DELETEDTHIS PAGE SHALL BE DELETEDTHIS PAGE SHALL BE DELETEDTHIS PAGE SHALL BE DELETEDTHIS PAGE SHALL BE DELETEDTHIS PAGE SHALL BE DELETEDTHIS PAGE SHALL BE DELETEDTHIS PAGE SHALL BE DELETEDTHIS PAGE SHALL BE DELETEDTHIS PAGE SHALL BE DELETEDTHIS PAGE SHALL BE DELETEDTHIS PAGE SHALL BE DELETEDTHIS PAGE SHALL BE DELETEDTHIS PAGE SHALL BE DELETEDTHIS PAGE SHALL BE DELETEDTHIS PAGE SHALL BE DELETEDTHIS PAGE SHALL BE DELETEDTHIS PAGE SHALL BE DELETEDTHIS PAGE SHALL BE DELETEDTHIS PAGE SHALL BE DELETEDTHIS PAGE SHALL BE DELETEDTHIS PAGE SHALL BE DELETEDTHIS PAGE SHALL BE DELETEDTHIS PAGE SHALL BE DELETEDTHIS PAGE SHALL BE DELETEDTHIS PAGE SHALL BE DELETEDTHIS PAGE SHALL BE DELETEDTHIS PAGE SHALL BE DELETEDTHIS PAGE SHALL BE DELETEDTHIS PAGE SHALL BE DELETEDTHIS PAGE SHALL BE DELETEDTHIS PAGE SHALL BE DELETEDTHIS PAGE SHALL BE DELETEDTHIS PAGE SHALL BE DELETEDTHIS PAGE SHALL BE DELETEDTHIS PAGE SHALL BE DELETEDTHIS PAGE SHALL BE DELETEDTHIS PAGE SHALL BE DELETEDTHIS PAGE SHALL BE DELETEDTHIS PAGE SHALL BE DELETEDTHIS PAGE SHALL BE DELETEDTHIS PAGE SHALL BE DELETEDTHIS PAGE SHALL BE DELETEDTHIS PAGE SHALL BE DELETEDTHIS PAGE SHALL BE DELETEDTHIS PAGE SHALL BE DELETEDTHIS PAGE SHALL BE DELETEDTHIS PAGE SHALL BE DELETEDTHIS PAGE SHALL BE DELETEDTHIS PAGE SHALL BE DELETEDTHIS PAGE SHALL BE DELETEDTHIS PAGE SHALL BE DELETEDTHIS PAGE SHALL BE DELETEDTHIS PAGE SHALL BE DELETEDTHIS PAGE SHALL BE DELETEDTHIS PAGE SHALL BE DELETEDTHIS PAGE SHALL BE DELETEDTHIS PAGE SHALL BE DELETEDTHIS PAGE SHALL BE DELETEDTHIS PAGE SHALL BE DELETEDTHIS PAGE SHALL BE DELETEDTHIS PAGE SHALL BE DELETEDTHIS PAGE SHALL BE DELETEDTHIS PAGE SHALL BE DELETEDTHIS PAGE SHALL BE DELETEDTHIS PAGE SHALL BE DELETEDTHIS PAGE SHALL BE DELETEDTHIS PAGE SHALL BE DELETEDTHIS PAGE SHALL BE DELETEDTHIS PAGE SHALL BE DELETEDTHIS PAGE SHALL BE DELETEDTHIS PAGE SHALL BE DELETEDTHIS PAGE SHALL BE DELETEDTHIS PAGE SHALL BE DELETEDTHIS PAGE SHALL BE DELETEDTHIS PAGE SHALL BE DELETEDTHIS PAGE SHALL BE DELETEDTHIS PAGE SHALL BE DELETEDTHIS PAGE SHALL BE DELETEDTHIS PAGE SHALL BE DELETEDTHIS PAGE SHALL BE DELETEDTHIS PAGE SHALL BE DELETEDTHIS PAGE SHALL BE DELETEDTHIS PAGE SHALL BE DELETEDTHIS PAGE SHALL BE DELETEDTHIS PAGE SHALL BE DELETEDTHIS PAGE SHALL BE DELETEDTHIS PAGE SHALL BE DELETEDTHIS PAGE SHALL BE DELETEDTHIS PAGE SHALL BE DELETEDTHIS PAGE SHALL BE DELETEDTHIS PAGE SHALL BE DELETEDTHIS PAGE SHALL BE DELETEDTHIS PAGE SHALL BE DELETEDTHIS PAGE SHALL BE DELETEDTHIS PAGE SHALL BE DELETEDTHIS PAGE SHALL BE DELETEDTHIS PAGE SHALL BE DELETEDTHIS PAGE SHALL BE DELETEDTHIS PAGE SHALL BE DELETEDTHIS PAGE SHALL BE DELETEDTHIS PAGE SHALL BE DELETEDTHIS PAGE SHALL BE DELETEDTHIS PAGE SHALL BE DELETEDTHIS PAGE SHALL BE DELETEDTHIS PAGE SHALL BE DELETEDTHIS PAGE SHALL BE DELETEDTHIS PAGE SHALL BE DELETEDTHIS PAGE SHALL BE DELETEDTHIS PAGE SHALL BE DELETEDTHIS PAGE SHALL BE DELETEDTHIS PAGE SHALL BE DELETEDTHIS PAGE SHALL BE DELETEDTHIS PAGE SHALL BE DELETEDTHIS PAGE SHALL BE DELETEDTHIS PAGE SHALL BE DELETEDTHIS PAGE SHALL BE DELETEDTHIS PAGE SHALL BE DELETEDTHIS PAGE SHALL BE DELETEDTHIS PAGE SHALL BE DELETEDTHIS PAGE SHALL BE DELETEDTHIS PAGE SHALL BE DELETEDTHIS PAGE SHALL BE DELETEDTHIS PAGE SHALL BE DELETEDTHIS PAGE SHALL BE DELETEDTHIS PAGE SHALL BE DELETEDTHIS PAGE SHALL BE DELETEDTHIS PAGE SHALL BE DELETEDTHIS PAGE SHALL BE DELETEDTHIS PAGE SHALL BE DELETEDTHIS PAGE SHALL BE DELETEDTHIS PAGE SHALL BE DELETEDTHIS PAGE SHALL BE DELETEDTHIS PAGE SHALL BE DELETEDTHIS PAGE SHALL BE DELETEDTHIS PAGE SHALL BE DELETEDTHIS PAGE SHALL BE DELETEDTHIS PAGE SHALL BE DELETEDTHIS PAGE SHALL BE DELETEDTHIS PAGE SHALL BE DELETEDTHIS PAGE SHALL BE DELETEDTHIS PAGE SHALL BE DELETEDTHIS PAGE SHALL BE DELETEDTHIS PAGE SHALL BE DELETEDTHIS PAGE SHALL BE DELETEDTHIS PAGE SHALL BE DELETEDTHIS PAGE SHALL BE DELETEDTHIS PAGE SHALL BE DELETEDTHIS PAGE SHALL BE DELETEDTHIS PAGE SHALL BE DELETEDTHIS PAGE SHALL BE DELETEDTHIS PAGE SHALL BE DELETEDTHIS PAGE SHALL BE DELETEDTHIS PAGE SHALL BE DELETEDTHIS PAGE SHALL BE DELETEDTHIS PAGE SHALL BE DELETEDTHIS PAGE SHALL BE DELETEDTHIS PAGE SHALL BE DELETEDTHIS PAGE SHALL BE DELETEDTHIS PAGE SHALL BE DELETEDTHIS PAGE SHALL BE DELETEDTHIS PAGE SHALL BE DELETEDTHIS PAGE SHALL BE DELETEDTHIS PAGE SHALL BE DELETEDTHIS PAGE SHALL BE DELETEDTHIS PAGE SHALL BE DELETEDTHIS PAGE SHALL BE DELETEDTHIS PAGE SHALL BE DELETEDTHIS PAGE SHALL BE DELETEDTHIS PAGE SHALL BE DELETEDTHIS PAGE SHALL BE DELETEDTHIS PAGE SHALL BE DELETEDTHIS PAGE SHALL BE DELETEDTHIS PAGE SHALL BE DELETEDTHIS PAGE SHALL BE DELETEDTHIS PAGE SHALL BE DELETEDTHIS PAGE SHALL BE DELETEDTHIS PAGE SHALL BE DELETEDTHIS PAGE SHALL BE DELETEDTHIS PAGE SHALL BE DELETEDTHIS PAGE SHALL BE DELETEDTHIS PAGE SHALL BE DELETEDTHIS PAGE SHALL BE DELETEDTHIS PAGE SHALL BE DELETEDTHIS PAGE SHALL BE DELETEDTHIS PAGE SHALL BE DELETEDTHIS PAGE SHALL BE DELETEDTHIS PAGE SHALL BE DELETEDTHIS PAGE SHALL BE DELETEDTHIS PAGE SHALL BE DELETEDTHIS PAGE SHALL BE DELETEDTHIS PAGE SHALL BE DELETEDTHIS PAGE SHALL BE DELETEDTHIS PAGE SHALL BE DELETEDTHIS PAGE SHALL BE DELETEDTHIS PAGE SHALL BE DELETEDTHIS PAGE SHALL BE DELETEDTHIS PAGE SHALL BE DELETEDTHIS PAGE SHALL BE DELETEDTHIS PAGE SHALL BE DELETEDTHIS PAGE SHALL BE DELETEDTHIS PAGE SHALL BE DELETEDTHIS PAGE SHALL BE DELETEDTHIS PAGE SHALL BE DELETEDTHIS PAGE SHALL BE DELETEDTHIS PAGE SHALL BE DELETEDTHIS PAGE SHALL BE DELETEDTHIS PAGE SHALL BE DELETEDTHIS PAGE SHALL BE DELETEDTHIS PAGE SHALL BE DELETEDTHIS PAGE SHALL BE DELETEDTHIS PAGE SHALL BE DELETEDTHIS PAGE SHALL BE DELETEDTHIS PAGE SHALL BE DELETEDTHIS PAGE SHALL BE DELETEDTHIS PAGE SHALL BE DELETEDTHIS PAGE SHALL    \n",
       "\n",
       "       year  logged_in  comment_len  \n",
       "12983  2006  False      10000        \n",
       "90765  2012  False      10000        \n",
       "6121   2006  False      10000        \n",
       "15167  2006  False      10000        \n",
       "58706  2009  True       10000        "
      ]
     },
     "execution_count": 22,
     "metadata": {},
     "output_type": "execute_result"
    }
   ],
   "source": [
    "attack_comment.sort_values(\"comment_len\").tail()"
   ]
  },
  {
   "cell_type": "code",
   "execution_count": 23,
   "id": "4d36c969",
   "metadata": {},
   "outputs": [
    {
     "name": "stdout",
     "output_type": "stream",
     "text": [
      "Mean - 3SD =  -1802.3291551731527\n",
      "Mean + 3SD =  2612.674232159965\n"
     ]
    }
   ],
   "source": [
    "# Printing values for mean +- 3SD\n",
    "len_mean = attack_comment[\"comment_len\"].mean()\n",
    "len_sd = attack_comment[\"comment_len\"].std()\n",
    "print(\"Mean - 3SD = \", len_mean - (3*len_sd))\n",
    "print(\"Mean + 3SD = \", len_mean + (3*len_sd))\n",
    "\n",
    "# Dropping comments with lengths exceeding 2646 characters\n",
    "attack_comment.drop(attack_comment.index[attack_comment[\"comment_len\"]>len_mean + (3*len_sd)], inplace = True)"
   ]
  },
  {
   "cell_type": "markdown",
   "id": "ecffcfe9",
   "metadata": {},
   "source": [
    "After checking for missing values and variable types, there are no missing values but I decided to map logged_in to 0/1 values (as opposed to True/False) to keep it consistent with other datasets."
   ]
  },
  {
   "cell_type": "code",
   "execution_count": 24,
   "id": "dec007c1",
   "metadata": {},
   "outputs": [
    {
     "name": "stdout",
     "output_type": "stream",
     "text": [
      "<class 'pandas.core.frame.DataFrame'>\n",
      "Int64Index: 113784 entries, 0 to 115863\n",
      "Data columns (total 5 columns):\n",
      " #   Column       Non-Null Count   Dtype \n",
      "---  ------       --------------   ----- \n",
      " 0   rev_id       113784 non-null  int64 \n",
      " 1   comment      113784 non-null  object\n",
      " 2   year         113784 non-null  int64 \n",
      " 3   logged_in    113784 non-null  bool  \n",
      " 4   comment_len  113784 non-null  int64 \n",
      "dtypes: bool(1), int64(3), object(1)\n",
      "memory usage: 4.4+ MB\n"
     ]
    }
   ],
   "source": [
    "#Checking for missing values and types\n",
    "attack_comment.info()\n",
    "\n",
    "# Mapping logged_in to binary values\n",
    "attack_comment[\"logged_in\"] = attack_comment[\"logged_in\"].map(lambda cell: 1 if cell == True else 0)"
   ]
  },
  {
   "cell_type": "markdown",
   "id": "3074b3fd",
   "metadata": {},
   "source": [
    "<a name = \"merge_wiki\"></a>\n",
    "### Merging Wikipedia datasets\n",
    "As the label datasets contain  the scoring for each comment but not the comment text itself, and attack_comment contains the comment text but not the scoring, the four datasets need to be merged into one dataset. I will merge the datasets via an inner join as I only want rows that have values for all of the columns."
   ]
  },
  {
   "cell_type": "code",
   "execution_count": 25,
   "id": "50fe52a3",
   "metadata": {
    "scrolled": true
   },
   "outputs": [],
   "source": [
    "# Merging datasets\n",
    "df = pd.merge(attack_label, toxic_label, on = \"rev_id\")\n",
    "df = pd.merge(df, aggress_label, on = \"rev_id\")\n",
    "df = pd.merge(df, attack_comment, on = \"rev_id\")"
   ]
  },
  {
   "cell_type": "code",
   "execution_count": 26,
   "id": "fab512a6",
   "metadata": {
    "scrolled": true
   },
   "outputs": [
    {
     "data": {
      "text/html": [
       "<div>\n",
       "<style scoped>\n",
       "    .dataframe tbody tr th:only-of-type {\n",
       "        vertical-align: middle;\n",
       "    }\n",
       "\n",
       "    .dataframe tbody tr th {\n",
       "        vertical-align: top;\n",
       "    }\n",
       "\n",
       "    .dataframe thead th {\n",
       "        text-align: right;\n",
       "    }\n",
       "</style>\n",
       "<table border=\"1\" class=\"dataframe\">\n",
       "  <thead>\n",
       "    <tr style=\"text-align: right;\">\n",
       "      <th></th>\n",
       "      <th>rev_id</th>\n",
       "      <th>quoting_attack</th>\n",
       "      <th>recipient_attack</th>\n",
       "      <th>third_party_attack</th>\n",
       "      <th>other_attack</th>\n",
       "      <th>attack_score</th>\n",
       "      <th>attack</th>\n",
       "      <th>toxicity_score</th>\n",
       "      <th>aggression_score</th>\n",
       "      <th>comment</th>\n",
       "      <th>year</th>\n",
       "      <th>logged_in</th>\n",
       "      <th>comment_len</th>\n",
       "    </tr>\n",
       "  </thead>\n",
       "  <tbody>\n",
       "    <tr>\n",
       "      <th>0</th>\n",
       "      <td>37675</td>\n",
       "      <td>0.0</td>\n",
       "      <td>0.0</td>\n",
       "      <td>0.000000</td>\n",
       "      <td>0.0</td>\n",
       "      <td>0.000000</td>\n",
       "      <td>0</td>\n",
       "      <td>2.7</td>\n",
       "      <td>4.000000</td>\n",
       "      <td>'- This is not ''creative''. Those are the dic...</td>\n",
       "      <td>2002</td>\n",
       "      <td>0</td>\n",
       "      <td>2371</td>\n",
       "    </tr>\n",
       "    <tr>\n",
       "      <th>1</th>\n",
       "      <td>297866</td>\n",
       "      <td>0.0</td>\n",
       "      <td>0.0</td>\n",
       "      <td>0.000000</td>\n",
       "      <td>0.0</td>\n",
       "      <td>0.000000</td>\n",
       "      <td>0</td>\n",
       "      <td>2.8</td>\n",
       "      <td>3.888889</td>\n",
       "      <td>Ummm. The article uses imperial measurements,...</td>\n",
       "      <td>2001</td>\n",
       "      <td>1</td>\n",
       "      <td>118</td>\n",
       "    </tr>\n",
       "    <tr>\n",
       "      <th>2</th>\n",
       "      <td>360594</td>\n",
       "      <td>0.0</td>\n",
       "      <td>0.0</td>\n",
       "      <td>0.000000</td>\n",
       "      <td>0.0</td>\n",
       "      <td>0.000000</td>\n",
       "      <td>0</td>\n",
       "      <td>2.6</td>\n",
       "      <td>4.000000</td>\n",
       "      <td>::I disagree. I would leave it out of the int...</td>\n",
       "      <td>2002</td>\n",
       "      <td>0</td>\n",
       "      <td>346</td>\n",
       "    </tr>\n",
       "    <tr>\n",
       "      <th>3</th>\n",
       "      <td>377054</td>\n",
       "      <td>0.0</td>\n",
       "      <td>0.0</td>\n",
       "      <td>0.000000</td>\n",
       "      <td>0.0</td>\n",
       "      <td>0.000000</td>\n",
       "      <td>0</td>\n",
       "      <td>2.6</td>\n",
       "      <td>4.000000</td>\n",
       "      <td>:::I don't know where you got the idea that M...</td>\n",
       "      <td>2002</td>\n",
       "      <td>0</td>\n",
       "      <td>220</td>\n",
       "    </tr>\n",
       "    <tr>\n",
       "      <th>4</th>\n",
       "      <td>661509</td>\n",
       "      <td>0.0</td>\n",
       "      <td>0.0</td>\n",
       "      <td>0.111111</td>\n",
       "      <td>0.0</td>\n",
       "      <td>0.111111</td>\n",
       "      <td>0</td>\n",
       "      <td>2.8</td>\n",
       "      <td>3.888889</td>\n",
       "      <td>MarcusAurelius]] Why exactly was this user ban...</td>\n",
       "      <td>2003</td>\n",
       "      <td>0</td>\n",
       "      <td>51</td>\n",
       "    </tr>\n",
       "  </tbody>\n",
       "</table>\n",
       "</div>"
      ],
      "text/plain": [
       "   rev_id  quoting_attack  recipient_attack  third_party_attack  other_attack  \\\n",
       "0   37675             0.0               0.0            0.000000           0.0   \n",
       "1  297866             0.0               0.0            0.000000           0.0   \n",
       "2  360594             0.0               0.0            0.000000           0.0   \n",
       "3  377054             0.0               0.0            0.000000           0.0   \n",
       "4  661509             0.0               0.0            0.111111           0.0   \n",
       "\n",
       "   attack_score  attack  toxicity_score  aggression_score  \\\n",
       "0      0.000000       0             2.7          4.000000   \n",
       "1      0.000000       0             2.8          3.888889   \n",
       "2      0.000000       0             2.6          4.000000   \n",
       "3      0.000000       0             2.6          4.000000   \n",
       "4      0.111111       0             2.8          3.888889   \n",
       "\n",
       "                                             comment  year  logged_in  \\\n",
       "0  '- This is not ''creative''. Those are the dic...  2002          0   \n",
       "1   Ummm. The article uses imperial measurements,...  2001          1   \n",
       "2   ::I disagree. I would leave it out of the int...  2002          0   \n",
       "3   :::I don't know where you got the idea that M...  2002          0   \n",
       "4  MarcusAurelius]] Why exactly was this user ban...  2003          0   \n",
       "\n",
       "   comment_len  \n",
       "0         2371  \n",
       "1          118  \n",
       "2          346  \n",
       "3          220  \n",
       "4           51  "
      ]
     },
     "execution_count": 26,
     "metadata": {},
     "output_type": "execute_result"
    }
   ],
   "source": [
    "# Changing pandas setting back to default setting for visibility\n",
    "pd.set_option('display.max_colwidth', 50)\n",
    "\n",
    "# Taking a preliminary look at the merged dataset\n",
    "df.head()"
   ]
  },
  {
   "cell_type": "markdown",
   "id": "614edc9c",
   "metadata": {},
   "source": [
    "There are a number of data cleaning steps to be performed:\n",
    "- Data should be cleaned by excluding outliers\n",
    "    - Check comments flagged as attacks that are low in toxicity or aggression\n",
    "    - Check comments flagged as healthy that are high in toxicity or aggression\n",
    "- Check for missing values\n",
    "- Check variable types\n",
    "- Undersample majority class to balance dataset\n",
    "\n",
    "From the box plot below, we can see that there are a number of outliers in the dataset. There were comments labeled as attacks that were low in toxicity, and also comments not labeled as attacks that were high in toxicity."
   ]
  },
  {
   "cell_type": "code",
   "execution_count": 27,
   "id": "7f62f4ae",
   "metadata": {},
   "outputs": [
    {
     "data": {
      "image/png": "[encoded data removed]",
      "text/plain": [
       "<Figure size 720x360 with 2 Axes>"
      ]
     },
     "metadata": {
      "needs_background": "light"
     },
     "output_type": "display_data"
    }
   ],
   "source": [
    "# Plotting boxplot of toxicity for comments labelled as attack\n",
    "plt.subplot(1,2,1)\n",
    "plt.ylim(1,6)\n",
    "plt.title(\"Toxicity of comments flagged as attack\")\n",
    "df[df[\"attack\"]==1][\"toxicity_score\"].plot(kind = \"box\", figsize = [10,5])\n",
    "\n",
    "# Plotting boxplot of toxicity for comments labelled as non-attack\n",
    "plt.subplot(1,2,2)\n",
    "plt.ylim(1,6)\n",
    "plt.title(\"Toxicity of comments not flagged as attack\")\n",
    "df[df[\"attack\"]==0][\"toxicity_score\"].plot(kind = \"box\", figsize = [10,5]);"
   ]
  },
  {
   "cell_type": "markdown",
   "id": "2a0d177a",
   "metadata": {},
   "source": [
    "Below we can see some of the comments that were labelled as NOT an attack by the majority of workers. However, it looks as if a number of these comments SHOULD be classified as attacks, as they are targeted at a recipient (e.g. \"you are dumb\" in the first row)."
   ]
  },
  {
   "cell_type": "code",
   "execution_count": 28,
   "id": "e8ea089d",
   "metadata": {},
   "outputs": [
    {
     "data": {
      "text/html": [
       "<div>\n",
       "<style scoped>\n",
       "    .dataframe tbody tr th:only-of-type {\n",
       "        vertical-align: middle;\n",
       "    }\n",
       "\n",
       "    .dataframe tbody tr th {\n",
       "        vertical-align: top;\n",
       "    }\n",
       "\n",
       "    .dataframe thead th {\n",
       "        text-align: right;\n",
       "    }\n",
       "</style>\n",
       "<table border=\"1\" class=\"dataframe\">\n",
       "  <thead>\n",
       "    <tr style=\"text-align: right;\">\n",
       "      <th></th>\n",
       "      <th>attack_score</th>\n",
       "      <th>attack</th>\n",
       "      <th>toxicity_score</th>\n",
       "      <th>aggression_score</th>\n",
       "      <th>comment</th>\n",
       "    </tr>\n",
       "  </thead>\n",
       "  <tbody>\n",
       "    <tr>\n",
       "      <th>13461</th>\n",
       "      <td>0.222222</td>\n",
       "      <td>0</td>\n",
       "      <td>4.7</td>\n",
       "      <td>4.444444</td>\n",
       "      <td>HOPE YOUR HEAD GETS CUT OFF AND SOMEONE WIPES...</td>\n",
       "    </tr>\n",
       "    <tr>\n",
       "      <th>38594</th>\n",
       "      <td>0.444444</td>\n",
       "      <td>0</td>\n",
       "      <td>4.7</td>\n",
       "      <td>5.000000</td>\n",
       "      <td>== you are dumb == Mexican Punk is the god of...</td>\n",
       "    </tr>\n",
       "    <tr>\n",
       "      <th>51216</th>\n",
       "      <td>0.300000</td>\n",
       "      <td>0</td>\n",
       "      <td>4.6</td>\n",
       "      <td>4.600000</td>\n",
       "      <td>::Haha, I fucking pissed myself reading this ...</td>\n",
       "    </tr>\n",
       "    <tr>\n",
       "      <th>67351</th>\n",
       "      <td>0.444444</td>\n",
       "      <td>0</td>\n",
       "      <td>4.6</td>\n",
       "      <td>5.555556</td>\n",
       "      <td>you people are cunts, bombing every ones mail ...</td>\n",
       "    </tr>\n",
       "    <tr>\n",
       "      <th>61289</th>\n",
       "      <td>0.444444</td>\n",
       "      <td>0</td>\n",
       "      <td>4.6</td>\n",
       "      <td>5.333333</td>\n",
       "      <td>:I am also a sockpuppet of CUTKD. Before you ...</td>\n",
       "    </tr>\n",
       "  </tbody>\n",
       "</table>\n",
       "</div>"
      ],
      "text/plain": [
       "       attack_score  attack  toxicity_score  aggression_score  \\\n",
       "13461      0.222222       0             4.7          4.444444   \n",
       "38594      0.444444       0             4.7          5.000000   \n",
       "51216      0.300000       0             4.6          4.600000   \n",
       "67351      0.444444       0             4.6          5.555556   \n",
       "61289      0.444444       0             4.6          5.333333   \n",
       "\n",
       "                                                 comment  \n",
       "13461   HOPE YOUR HEAD GETS CUT OFF AND SOMEONE WIPES...  \n",
       "38594   == you are dumb == Mexican Punk is the god of...  \n",
       "51216   ::Haha, I fucking pissed myself reading this ...  \n",
       "67351  you people are cunts, bombing every ones mail ...  \n",
       "61289   :I am also a sockpuppet of CUTKD. Before you ...  "
      ]
     },
     "execution_count": 28,
     "metadata": {},
     "output_type": "execute_result"
    }
   ],
   "source": [
    "# Displaying rows that represent unflagged comments that are high in toxicity\n",
    "df[df[\"attack\"]==0].sort_values(\"toxicity_score\", ascending = False).head().iloc[:,-8:-3]"
   ]
  },
  {
   "cell_type": "markdown",
   "id": "bc7eb3e5",
   "metadata": {},
   "source": [
    "On the flip side, comments labeled as attacks that were low in toxicity seemed misclassified (as in the first instance), or else seemed like attempts to get moderators to act against aggressive and unreasonable users."
   ]
  },
  {
   "cell_type": "code",
   "execution_count": 29,
   "id": "be92a199",
   "metadata": {},
   "outputs": [
    {
     "name": "stdout",
     "output_type": "stream",
     "text": [
      " :Glad I could help. I've been keeping an eye on as much of the Medal of Honor stuff as I can.  \n",
      "\n",
      " Mr.Bishonen! & Joshua Jonathan, I don't understand why are you doing all these for me.Speaking harshly in the talk page because of not controlling my anger once long before can't be given unlimited ban for topic.If you keep doing this to every user.Then there will be no user left in wikipedia.Being an administrator you can't do such unjustice to users.It is total unjustice to a user.You please think of it, i haven't vandalised any articles in wikipedia, you can check them.Why i can't edit wikipedia articles, please think of it, what you are doing is not fair.Please relieve me from block and topic ban.Thank you, that you have atleast given me chance to write in my talk page. -abcde  \n",
      "\n",
      " == Help needed - Edit war 2 - Aggressive and Incompetent Edits by User Verbal == I am requesting help with an over-aggressive and inconsiderate editor by the name of VERBAL. This person keeps reverting a page to add an external link while losing dozens of valid updates to the original page. He/She ignores when proper updates are made and reverts them even using Twinkle and spurious excuses for the revisions. I am ill-equipped to fight this user. You will see what I mean if you check the revision history for the following page. List of channelled texts Thanks in advance for any help you can provide. \n",
      "\n",
      "' ==Elelland== Hello Humus I am sorry if I have placed this note in the wrong spot. I m very inexperienced with Wikipedia. I was enthralled by Wikipedia. Initially. That is until I met Eleland. I noticed that you had some interesting discussions with Eleland. Eleland engineered a small article which I contributed some information to be deleted. He organised a ''kangaroo court'' made duplicitous unfounded claims and then set up a false consensus. The Article was on Ed O'Loughlin Fairfax publishing MidEast correspondent. The said individual has a unfortunate habit of mixing reporting and commentary. He was amongst the candidates for this year's HR.com dishonest reporter award - despite being in the Australia only catchment area - so you can imagine the quality of his journalism. Anyway Eleland did a great job of protecting him and got the article deleted. So I studied Eleland a little. I've looked at over 100 of his posts on the Arab Israel conflict. More than 95 were directly anti-Israel. His modus has been generally to unfairly rubbish the references of the pro-Israel side. In this way he has undermined many many articles. Personally I don't care what his opinion is, but when he uses his editorial power and influence at Wikipedia to falsely invalidate, delete, manipulate etc. I think there is a problem. Wikipedia is, I am afraid, beginning to read like Eleland wrote the script. Who is Eleland? What power does he actually have? Can anything be done? Adon Emmet If you post a reply here I will contact here or even by e-mail' \n",
      "\n"
     ]
    }
   ],
   "source": [
    "# As comments are too long to fit in a dataframe, this prints out each comment more visibly\n",
    "for comment in df[df[\"attack\"]==1].sort_values(\"toxicity_score\").head(4)[\"comment\"]:\n",
    "    print(comment, \"\\n\")"
   ]
  },
  {
   "cell_type": "markdown",
   "id": "fef1a694",
   "metadata": {},
   "source": [
    "I thus decided to remove comments flagged as attacks that had a toxicity score less than mean - 3SD, and comments NOT flagged as attacks that had a toxicity score more than mean + 3SD."
   ]
  },
  {
   "cell_type": "code",
   "execution_count": 30,
   "id": "3b8dbe9f",
   "metadata": {},
   "outputs": [],
   "source": [
    "# Dropping rows that are outliers in terms of toxicity score\n",
    "att_toxic = df[df[\"attack\"]==1][\"toxicity_score\"]\n",
    "not_att_toxic = df[df[\"attack\"]==0][\"toxicity_score\"]\n",
    "\n",
    "df.drop(df.index[(df[\"attack\"]==1) & (df[\"toxicity_score\"]< att_toxic.mean() - 3*att_toxic.std())], inplace = True)\n",
    "df.drop(df.index[(df[\"attack\"]==0) & (df[\"toxicity_score\"]> not_att_toxic.mean() + 3*not_att_toxic.std())], inplace = True)"
   ]
  },
  {
   "cell_type": "markdown",
   "id": "634ca16a",
   "metadata": {},
   "source": [
    "Repeating the process with aggression scores, there were no outliers for comments that were flagged as attacks. However, there were comments NOT flagged as attacks that were rated as high in aggression."
   ]
  },
  {
   "cell_type": "code",
   "execution_count": 31,
   "id": "3a0242ea",
   "metadata": {},
   "outputs": [
    {
     "data": {
      "image/png": "[encoded data removed]",
      "text/plain": [
       "<Figure size 720x360 with 2 Axes>"
      ]
     },
     "metadata": {
      "needs_background": "light"
     },
     "output_type": "display_data"
    }
   ],
   "source": [
    "# Plotting boxplot of aggression for comments labelled as attack\n",
    "plt.subplot(1,2,1)\n",
    "plt.ylim(1,8)\n",
    "plt.title(\"Aggression of comments flagged as attack\")\n",
    "df[df[\"attack\"]==1][\"aggression_score\"].plot(kind = \"box\", figsize = [10,5])\n",
    "\n",
    "# Plotting boxplot of aggression for comments labelled as non-attack\n",
    "plt.subplot(1,2,2)\n",
    "plt.ylim(1,8)\n",
    "plt.title(\"Aggression of comments not flagged as attack\")\n",
    "df[df[\"attack\"]==0][\"aggression_score\"].plot(kind = \"box\", figsize = [10,5]);"
   ]
  },
  {
   "cell_type": "markdown",
   "id": "58338c91",
   "metadata": {},
   "source": [
    "Comments labeled as NOT attack that were high in aggression seemed to either be misclassified (as is evident with the first and last instance below), while others seemed to be heated responses to personal attacks from others. I thus decided to remove unflagged comments that had aggression scores above mean + 3SD."
   ]
  },
  {
   "cell_type": "code",
   "execution_count": 32,
   "id": "6b1cd246",
   "metadata": {},
   "outputs": [
    {
     "name": "stdout",
     "output_type": "stream",
     "text": [
      " ==Message== Hey Dx927 you're a fat ugly cunt with the mental capacity of a 3-year-old amoeba. Why don't you get a life and stop trolling wikipedia you little fag?  \n",
      "\n",
      " == warnings????!?!?! == I have numerous warnings from you about vandilization and me being homophobic?????? I have NEVER written anything in wikipedia, why does it say that I have done all these horrible things???? I can't believe that someone would insult me on a personal level just because they assume I have done something; I am deeply hurt that you would call me homophobic- my college education is in defending people from discrimination, why on earth would i discriminate against anyone? I would also never think of vandalizing the site, i didn't even know i could delete or rewrite things on here! In using this website i understand that it is public opinion and not fact, and why would i have the right to change or vandalize anyone elses opinions and/or beliefs? If i don't agree w/ something on your site, i just go to another site that includes factual information to be used as a real reference. You have no right to resort to name-calling with customers of this site, how dare you!  \n",
      "\n",
      " I didnt fucking change the genre, i just put commas in between them. \n",
      "\n",
      " == WTF??? == What the hell did i do???  \n",
      "\n",
      " == EPic Fail 333 == I am FREAKING SERIOUS!!! I CANNOT be blocked. You Failed AGAIN!!! Goodbye.  \n",
      "\n"
     ]
    }
   ],
   "source": [
    "# As comments are too long to fit in a dataframe, this prints out each comment more visibly\n",
    "for comment in df[df[\"attack\"]==0].sort_values(\"aggression_score\", ascending = False).head()[\"comment\"]:\n",
    "    print(comment, \"\\n\")"
   ]
  },
  {
   "cell_type": "code",
   "execution_count": 33,
   "id": "7a768238",
   "metadata": {},
   "outputs": [],
   "source": [
    "# Dropping unflagged comments that were abnormally high in aggression\n",
    "not_att_agg = df[df[\"attack\"]==0][\"aggression_score\"]\n",
    "df.drop(df.index[(df[\"attack\"]==0)&(df[\"aggression_score\"] > not_att_agg.mean() + 3*not_att_agg.std())], inplace = True)"
   ]
  },
  {
   "cell_type": "markdown",
   "id": "b301cd6a",
   "metadata": {},
   "source": [
    "Now that outliers have been removed, we should check for missing values and variable types. As seen below, there are no missing values since the datasets were merged via an inner join. The types are correct as well and don't have to be changed."
   ]
  },
  {
   "cell_type": "code",
   "execution_count": 34,
   "id": "f810d551",
   "metadata": {},
   "outputs": [
    {
     "name": "stdout",
     "output_type": "stream",
     "text": [
      "<class 'pandas.core.frame.DataFrame'>\n",
      "Int64Index: 75650 entries, 0 to 76545\n",
      "Data columns (total 13 columns):\n",
      " #   Column              Non-Null Count  Dtype  \n",
      "---  ------              --------------  -----  \n",
      " 0   rev_id              75650 non-null  int64  \n",
      " 1   quoting_attack      75650 non-null  float64\n",
      " 2   recipient_attack    75650 non-null  float64\n",
      " 3   third_party_attack  75650 non-null  float64\n",
      " 4   other_attack        75650 non-null  float64\n",
      " 5   attack_score        75650 non-null  float64\n",
      " 6   attack              75650 non-null  int64  \n",
      " 7   toxicity_score      75650 non-null  float64\n",
      " 8   aggression_score    75650 non-null  float64\n",
      " 9   comment             75650 non-null  object \n",
      " 10  year                75650 non-null  int64  \n",
      " 11  logged_in           75650 non-null  int64  \n",
      " 12  comment_len         75650 non-null  int64  \n",
      "dtypes: float64(7), int64(5), object(1)\n",
      "memory usage: 8.1+ MB\n"
     ]
    }
   ],
   "source": [
    "df.info()"
   ]
  },
  {
   "cell_type": "markdown",
   "id": "71bba6ed",
   "metadata": {},
   "source": [
    "Finally, there is an imbalance between the classes, with comments flagged as attacks making up only 20% of the dataset. However, as there is a sufficiently large amount of comments in the minority class, I will under sample the majority class to create a balanced dataset. Furthermore, as the dataset was too large for me to process the models locally, I only sampled 7,500 out of 14,000 of flagged comments, ending with a dataset of 15,000 comments."
   ]
  },
  {
   "cell_type": "code",
   "execution_count": 35,
   "id": "a4851d5a",
   "metadata": {},
   "outputs": [
    {
     "name": "stdout",
     "output_type": "stream",
     "text": [
      "Number of comments flagged as attacks: 14344\n",
      "Number of comments not flagged as attacks: 61306\n"
     ]
    }
   ],
   "source": [
    "print(\"Number of comments flagged as attacks:\", len(df[df[\"attack\"]==1]))\n",
    "print(\"Number of comments not flagged as attacks:\", len(df[df[\"attack\"]==0]))"
   ]
  },
  {
   "cell_type": "code",
   "execution_count": 36,
   "id": "2e6fcc94",
   "metadata": {},
   "outputs": [],
   "source": [
    "#Subsetting data by attack label\n",
    "df_att = df.loc[df[\"attack\"]==1]\n",
    "df_not = df.loc[df[\"attack\"]==0]\n",
    "\n",
    "# Randomly sampling 7,500 rows from each class without replacement\n",
    "att_sampled = df_att.sample(n = 7500, random_state = 42)\n",
    "not_sampled = df_not.sample(n = 7500, random_state = 42)\n",
    "\n",
    "# Combining flagged comments with subset of unflagged comments\n",
    "df_sampled = not_sampled.append(att_sampled)\n",
    "\n",
    "# Randomly sampling 14344 rows from majority class\n",
    "not_full_sample = df_not.sample(n = 14344, random_state = 42)\n",
    "df_full_sampled = not_full_sample.append(df_att)"
   ]
  },
  {
   "cell_type": "markdown",
   "id": "a06be7f4",
   "metadata": {},
   "source": [
    "<a name = \"ao3_comment\"></a>\n",
    "### Cleaning ao3_comment dataset\n",
    "This dataset is meant purely for final stage testing and will thus not be merged into the Wikipedia discussion comments dataset. Data-cleaning steps include:\n",
    "1. Creating a comment length feature for later visualization\n",
    "2. Remove emojis from comment text\n",
    "3. Remove urls from comment text\n",
    "4. Remove multiple spacings"
   ]
  },
  {
   "cell_type": "code",
   "execution_count": 37,
   "id": "d5eb1fd1",
   "metadata": {},
   "outputs": [
    {
     "data": {
      "text/html": [
       "<div>\n",
       "<style scoped>\n",
       "    .dataframe tbody tr th:only-of-type {\n",
       "        vertical-align: middle;\n",
       "    }\n",
       "\n",
       "    .dataframe tbody tr th {\n",
       "        vertical-align: top;\n",
       "    }\n",
       "\n",
       "    .dataframe thead th {\n",
       "        text-align: right;\n",
       "    }\n",
       "</style>\n",
       "<table border=\"1\" class=\"dataframe\">\n",
       "  <thead>\n",
       "    <tr style=\"text-align: right;\">\n",
       "      <th></th>\n",
       "      <th>comment</th>\n",
       "      <th>abusive</th>\n",
       "      <th>aggressor</th>\n",
       "      <th>logged_in</th>\n",
       "    </tr>\n",
       "  </thead>\n",
       "  <tbody>\n",
       "    <tr>\n",
       "      <th>315</th>\n",
       "      <td>Eeee! what a thrilling first chapter!</td>\n",
       "      <td>0</td>\n",
       "      <td>NaN</td>\n",
       "      <td>NaN</td>\n",
       "    </tr>\n",
       "    <tr>\n",
       "      <th>316</th>\n",
       "      <td>\\nI am here and ready for the queer</td>\n",
       "      <td>0</td>\n",
       "      <td>NaN</td>\n",
       "      <td>NaN</td>\n",
       "    </tr>\n",
       "    <tr>\n",
       "      <th>317</th>\n",
       "      <td>I loved this! The way you described everything...</td>\n",
       "      <td>0</td>\n",
       "      <td>NaN</td>\n",
       "      <td>NaN</td>\n",
       "    </tr>\n",
       "    <tr>\n",
       "      <th>318</th>\n",
       "      <td>\\nI read both the chapters together and this f...</td>\n",
       "      <td>0</td>\n",
       "      <td>NaN</td>\n",
       "      <td>NaN</td>\n",
       "    </tr>\n",
       "    <tr>\n",
       "      <th>319</th>\n",
       "      <td>Once again a fantastic chapter, so looking for...</td>\n",
       "      <td>0</td>\n",
       "      <td>NaN</td>\n",
       "      <td>NaN</td>\n",
       "    </tr>\n",
       "  </tbody>\n",
       "</table>\n",
       "</div>"
      ],
      "text/plain": [
       "                                               comment  abusive aggressor  \\\n",
       "315              Eeee! what a thrilling first chapter!        0       NaN   \n",
       "316                \\nI am here and ready for the queer        0       NaN   \n",
       "317  I loved this! The way you described everything...        0       NaN   \n",
       "318  \\nI read both the chapters together and this f...        0       NaN   \n",
       "319  Once again a fantastic chapter, so looking for...        0       NaN   \n",
       "\n",
       "     logged_in  \n",
       "315        NaN  \n",
       "316        NaN  \n",
       "317        NaN  \n",
       "318        NaN  \n",
       "319        NaN  "
      ]
     },
     "execution_count": 37,
     "metadata": {},
     "output_type": "execute_result"
    }
   ],
   "source": [
    "# Taking a preliminary look at the data\n",
    "ao3_comment.tail()"
   ]
  },
  {
   "cell_type": "code",
   "execution_count": 38,
   "id": "5407ba55",
   "metadata": {},
   "outputs": [],
   "source": [
    "# Creating column indicating length of comment\n",
    "ao3_comment[\"comment_len\"] = ao3_comment[\"comment\"].apply(len)"
   ]
  },
  {
   "cell_type": "code",
   "execution_count": 39,
   "id": "def07f82",
   "metadata": {},
   "outputs": [
    {
     "data": {
      "text/plain": [
       "'test '"
      ]
     },
     "execution_count": 39,
     "metadata": {},
     "output_type": "execute_result"
    }
   ],
   "source": [
    "# Instantiate emot object\n",
    "emot_obj = emot.core.emot()\n",
    "\n",
    "# Defining function to remove emojis, \n",
    "def clean_ao3(cell):\n",
    "    \n",
    "    # This generates dictionary of emojis in cell (if any) and their meanings\n",
    "    emoji_dict = emot_obj.emoji(cell)\n",
    "    # This generates dictionary of emoticons in cell (if any) and their meanings\n",
    "    emoticon_dict = emot_obj.emoticons(cell)\n",
    "    \n",
    "    # Removes emojis in cell (if any)\n",
    "    if emoji_dict[\"value\"]:\n",
    "        for emoji in emoji_dict[\"value\"]:\n",
    "            cell = cell.replace(emoji, \"\")\n",
    "    \n",
    "    # Removes emoticons in cell (if any)\n",
    "    if emoticon_dict[\"value\"]:\n",
    "        for emoticon in emoticon_dict[\"value\"]:\n",
    "            cell = cell.replace(emoticon, \"\")  \n",
    "            \n",
    "    # Remove urls from comment text\n",
    "    cell = re.sub(\"(?<!\\S)(?:http|www)(?:.*?)(?!\\S)\", \" \", cell)\n",
    "    \n",
    "    # Eliminate double spacing or multiple spacing\n",
    "    cell = re.sub(\"\\s\\s+\", \" \", cell)\n",
    "            \n",
    "    return cell\n",
    "\n",
    "test_emot = \"test :) 😀 :( 😠😐\"\n",
    "clean_ao3(test_emot)"
   ]
  },
  {
   "cell_type": "code",
   "execution_count": 40,
   "id": "b18d9c07",
   "metadata": {},
   "outputs": [],
   "source": [
    "# Apply function to replace emotes with appropriate text\n",
    "ao3_comment[\"comment\"] = ao3_comment[\"comment\"].apply(clean_ao3)"
   ]
  },
  {
   "cell_type": "markdown",
   "id": "d85e534a",
   "metadata": {},
   "source": [
    "The 160 missing values for the \"aggressor\" column is because the field is null for the 160 Ao3 comments that were not abusive. There are thus no missing values that need to be imputed. The types are also correct and don't have to be fixed!"
   ]
  },
  {
   "cell_type": "code",
   "execution_count": 41,
   "id": "ea66e196",
   "metadata": {},
   "outputs": [
    {
     "name": "stdout",
     "output_type": "stream",
     "text": [
      "<class 'pandas.core.frame.DataFrame'>\n",
      "RangeIndex: 320 entries, 0 to 319\n",
      "Data columns (total 5 columns):\n",
      " #   Column       Non-Null Count  Dtype  \n",
      "---  ------       --------------  -----  \n",
      " 0   comment      320 non-null    object \n",
      " 1   abusive      320 non-null    int64  \n",
      " 2   aggressor    160 non-null    object \n",
      " 3   logged_in    157 non-null    float64\n",
      " 4   comment_len  320 non-null    int64  \n",
      "dtypes: float64(1), int64(2), object(2)\n",
      "memory usage: 12.6+ KB\n"
     ]
    }
   ],
   "source": [
    "ao3_comment.info()"
   ]
  },
  {
   "cell_type": "markdown",
   "id": "48a51031",
   "metadata": {},
   "source": [
    "<a name = \"data_dictionary\"></a>\n",
    "## Data dictionary\n",
    "---"
   ]
  },
  {
   "cell_type": "code",
   "execution_count": 42,
   "id": "9e41ebbf",
   "metadata": {},
   "outputs": [],
   "source": [
    "# Saving cleaned datasets to csv file\n",
    "ao3_comment.to_csv(\"../datasets/clean/ao3_clean.csv\", index = False)\n",
    "df.to_csv(\"../datasets/clean/wiki_clean_full.csv\", index = False)\n",
    "df_sampled.to_csv(\"../datasets/clean/wiki_clean_sampled.csv\", index = False)\n",
    "df_full_sampled.to_csv(\"../datasets/clean/wiki_clean_full_sampled.csv\", index = False)"
   ]
  },
  {
   "cell_type": "markdown",
   "id": "8ca52a90",
   "metadata": {},
   "source": [
    "#### Wikipedia comments\n",
    "|**Variable**|**Type**|**Definition**|\n",
    "|---|---|---|\n",
    "|**rev_id**|integer|Unique identifier given to each comment|\n",
    "|**attack**|binary|Indicates if comment was rated by majority of workers as a personal attack|\n",
    "|**recipient_attack**|float|Percentage of workers who identified the comment as an attack targeted at a recipient (e.g. \"you suck\")|\n",
    "|**third_party_attack**|float|Percentage of workers who identified the comment as an attack targeted at a third party (e.g. \"Bob sucks\")|\n",
    "|**quoting_attack**|float|Percentage of workers who identified the comment as an attack that was reported or quoted (e.g. \"Bob said Henri sucks\")|\n",
    "|**other_attack**|float|Percentage of workers who identified the comment as some other kind of attack or harassment|\n",
    "|**toxicity_score**|float|Average score given by workers as to how toxic a comment was on a scale of 1- 5|\n",
    "|**aggression_score**|float|Average score given by workers as to how aggression a comment was on a scale of 1 - 7|\n",
    "|**comment**|string|Contains the text of the Wikipedia discussion comment|\n",
    "|**year**|integer|Indicates the year in which the comment was made|\n",
    "|**logged_in**|binary|Indicates if the user who posted the comment was logged in or anonymous|\n",
    "|**comment_len**|integer|Indicates the length of the comment in number of characters|\n",
    "\n",
    "#### Ao3 comments\n",
    "|**Variable**|**Type**|**Definition**|\n",
    "|---|---|---|\n",
    "|**abusive**|binary|Indicates whether the comment was abusive towards the author|\n",
    "|**comment**|string|Contains the text of the Ao3 comment|\n",
    "|**comment_len**|integer|Indicates the length of the comment in number of characters|\n",
    "|**aggressor**|string|Dataset contains abusive comments made by 4 known trolls, indicated as troll1, troll2, troll3, and troll4, with abusive comments made by unknown commenters being labeled as \"unknown\"|\n",
    "|**logged_in**|binary|Indicates whether aggressor was logged in|"
   ]
  },
  {
   "cell_type": "code",
   "execution_count": null,
   "id": "3f2944e3",
   "metadata": {},
   "outputs": [],
   "source": []
  }
 ],
 "metadata": {
  "kernelspec": {
   "display_name": "Python 3",
   "language": "python",
   "name": "python3"
  },
  "language_info": {
   "codemirror_mode": {
    "name": "ipython",
    "version": 3
   },
   "file_extension": ".py",
   "mimetype": "text/x-python",
   "name": "python",
   "nbconvert_exporter": "python",
   "pygments_lexer": "ipython3",
   "version": "3.8.8"
  }
 },
 "nbformat": 4,
 "nbformat_minor": 5
}
